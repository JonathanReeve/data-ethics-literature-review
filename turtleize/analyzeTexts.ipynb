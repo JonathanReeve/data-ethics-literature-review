{
 "cells": [
  {
   "cell_type": "markdown",
   "id": "f6b81357-1b7c-41aa-8869-a06941ed599c",
   "metadata": {},
   "source": [
    "# Analyze Texts\n",
    "\n",
    "## Compare abstract embeddings"
   ]
  },
  {
   "cell_type": "code",
   "execution_count": 169,
   "id": "035147ec-053c-4f23-b59b-f056dbe795cd",
   "metadata": {},
   "outputs": [],
   "source": [
    "import pandas as pd\n",
    "import spacy\n",
    "from glob import glob\n",
    "import json\n",
    "from os.path import basename\n",
    "from sklearn.decomposition import PCA\n",
    "from sklearn.mixture import BayesianGaussianMixture\n",
    "import plotly.express as px\n",
    "from sklearn.cluster import KMeans\n",
    "from sklearn.metrics.pairwise import cosine_similarity\n",
    "import numpy as np\n",
    "from collections import Counter\n",
    "from sklearn.feature_extraction.text import CountVectorizer\n",
    "from sklearn.decomposition import LatentDirichletAllocation"
   ]
  },
  {
   "cell_type": "code",
   "execution_count": 98,
   "id": "f3bfdb93-015e-414b-b95c-446d902998f5",
   "metadata": {},
   "outputs": [],
   "source": [
    "nlp = spacy.load('en_core_web_lg')"
   ]
  },
  {
   "cell_type": "code",
   "execution_count": 3,
   "id": "066ef993-9f82-4211-9a67-38ae7d3af584",
   "metadata": {},
   "outputs": [],
   "source": [
    "jsonFilenames = glob('../data/texts/json/semanticScholar/*.json')"
   ]
  },
  {
   "cell_type": "code",
   "execution_count": 4,
   "id": "dc218c1e-f2be-4b34-9039-d6b27b7377af",
   "metadata": {},
   "outputs": [],
   "source": [
    "allData = {}\n",
    "for jsonFilename in jsonFilenames: \n",
    "    with open(jsonFilename) as f: \n",
    "        rawFile = f.read()\n",
    "    jsonData = json.loads(rawFile)\n",
    "    if 'abstract' in jsonData: \n",
    "        allData[basename(jsonFilename)] = jsonData"
   ]
  },
  {
   "cell_type": "code",
   "execution_count": 5,
   "id": "95ce3155-3f2c-4593-abab-268a60e63124",
   "metadata": {},
   "outputs": [
    {
     "data": {
      "text/plain": [
       "274"
      ]
     },
     "execution_count": 5,
     "metadata": {},
     "output_type": "execute_result"
    }
   ],
   "source": [
    "len(allData)"
   ]
  },
  {
   "cell_type": "code",
   "execution_count": 6,
   "id": "53c03aef-6cb7-403a-bee0-702c153efb75",
   "metadata": {},
   "outputs": [],
   "source": [
    "df = pd.DataFrame(allData).T"
   ]
  },
  {
   "cell_type": "markdown",
   "id": "dbba286e-9015-45a4-a2f9-33de546d713c",
   "metadata": {},
   "source": [
    "## Average year of publication"
   ]
  },
  {
   "cell_type": "code",
   "execution_count": 7,
   "id": "3813264b-4277-4c3f-9863-0b0a66b4e292",
   "metadata": {},
   "outputs": [
    {
     "data": {
      "text/plain": [
       "2010.6959706959708"
      ]
     },
     "execution_count": 7,
     "metadata": {},
     "output_type": "execute_result"
    }
   ],
   "source": [
    "df['year'].mean()"
   ]
  },
  {
   "cell_type": "code",
   "execution_count": 8,
   "id": "165ed833-5f68-4507-88bc-d7f7d7f88b34",
   "metadata": {},
   "outputs": [
    {
     "data": {
      "text/plain": [
       "Index(['paperId', 'externalIds', 'url', 'title', 'abstract', 'venue', 'year',\n",
       "       'referenceCount', 'citationCount', 'influentialCitationCount',\n",
       "       'isOpenAccess', 'fieldsOfStudy', 'authors'],\n",
       "      dtype='object')"
      ]
     },
     "execution_count": 8,
     "metadata": {},
     "output_type": "execute_result"
    }
   ],
   "source": [
    "df.columns"
   ]
  },
  {
   "cell_type": "markdown",
   "id": "4478fa76-27ba-4fd0-90da-ead1d7f5edbc",
   "metadata": {},
   "source": [
    "## Texts sorted by highest citation count"
   ]
  },
  {
   "cell_type": "code",
   "execution_count": 9,
   "id": "f6de1e3b-8a2a-4d61-96bc-719f743fee3e",
   "metadata": {},
   "outputs": [
    {
     "data": {
      "text/html": [
       "<div>\n",
       "<style scoped>\n",
       "    .dataframe tbody tr th:only-of-type {\n",
       "        vertical-align: middle;\n",
       "    }\n",
       "\n",
       "    .dataframe tbody tr th {\n",
       "        vertical-align: top;\n",
       "    }\n",
       "\n",
       "    .dataframe thead th {\n",
       "        text-align: right;\n",
       "    }\n",
       "</style>\n",
       "<table border=\"1\" class=\"dataframe\">\n",
       "  <thead>\n",
       "    <tr style=\"text-align: right;\">\n",
       "      <th></th>\n",
       "      <th>title</th>\n",
       "      <th>authors</th>\n",
       "      <th>citationCount</th>\n",
       "    </tr>\n",
       "  </thead>\n",
       "  <tbody>\n",
       "    <tr>\n",
       "      <th>JJWEWH5N.json</th>\n",
       "      <td>Understanding Media: The Extensions of Man</td>\n",
       "      <td>[{'authorId': '32996996', 'name': 'M. Mcluhan'}]</td>\n",
       "      <td>9126</td>\n",
       "    </tr>\n",
       "    <tr>\n",
       "      <th>2N49FVDE.json</th>\n",
       "      <td>We Have Never Been Modern</td>\n",
       "      <td>[{'authorId': '47701965', 'name': 'B. Latour'}]</td>\n",
       "      <td>8411</td>\n",
       "    </tr>\n",
       "    <tr>\n",
       "      <th>L8YC3BR8.json</th>\n",
       "      <td>Regional Advantage: Culture and Competition in...</td>\n",
       "      <td>[{'authorId': '1423411984', 'name': 'A. Chandl...</td>\n",
       "      <td>6776</td>\n",
       "    </tr>\n",
       "    <tr>\n",
       "      <th>5M6SZ7NI.json</th>\n",
       "      <td>Bitcoin : A Peer-to-Peer Electronic Cash System</td>\n",
       "      <td>[{'authorId': '38219008', 'name': 'Satoshi Nak...</td>\n",
       "      <td>5989</td>\n",
       "    </tr>\n",
       "    <tr>\n",
       "      <th>M5UMJG3R.json</th>\n",
       "      <td>Leadership: Theory and Practice</td>\n",
       "      <td>[{'authorId': '113329495', 'name': 'P. Northou...</td>\n",
       "      <td>4695</td>\n",
       "    </tr>\n",
       "    <tr>\n",
       "      <th>AJQAAMWM.json</th>\n",
       "      <td>The spread of true and false news online</td>\n",
       "      <td>[{'authorId': '1918441', 'name': 'Soroush Voso...</td>\n",
       "      <td>2551</td>\n",
       "    </tr>\n",
       "    <tr>\n",
       "      <th>3X2UYKXM.json</th>\n",
       "      <td>The social shaping of technology</td>\n",
       "      <td>[{'authorId': '2116648759', 'name': 'Robin Wil...</td>\n",
       "      <td>2290</td>\n",
       "    </tr>\n",
       "    <tr>\n",
       "      <th>A2BJ7NVH.json</th>\n",
       "      <td>The Singularity Is Near: When Humans Transcend...</td>\n",
       "      <td>[{'authorId': '2186634', 'name': 'R. Kurzweil'}]</td>\n",
       "      <td>2103</td>\n",
       "    </tr>\n",
       "    <tr>\n",
       "      <th>3934WUN2.json</th>\n",
       "      <td>Experimental evidence of massive-scale emotion...</td>\n",
       "      <td>[{'authorId': '1845400', 'name': 'Adam D. I. K...</td>\n",
       "      <td>2073</td>\n",
       "    </tr>\n",
       "    <tr>\n",
       "      <th>ICJPYWGA.json</th>\n",
       "      <td>The Ethnography of Infrastructure</td>\n",
       "      <td>[{'authorId': '1730598', 'name': 'S. L. Star'}]</td>\n",
       "      <td>2065</td>\n",
       "    </tr>\n",
       "    <tr>\n",
       "      <th>6V4QH2QI.json</th>\n",
       "      <td>Television: Technology and Cultural Form</td>\n",
       "      <td>[{'authorId': '32996996', 'name': 'M. Mcluhan'...</td>\n",
       "      <td>1939</td>\n",
       "    </tr>\n",
       "    <tr>\n",
       "      <th>3WBKWY8Q.json</th>\n",
       "      <td>A 61-million-person experiment in social influ...</td>\n",
       "      <td>[{'authorId': '15280578', 'name': 'Robert M. B...</td>\n",
       "      <td>1765</td>\n",
       "    </tr>\n",
       "    <tr>\n",
       "      <th>QKZK4T6H.json</th>\n",
       "      <td>The culture of narcissism.</td>\n",
       "      <td>[{'authorId': '32394288', 'name': 'C. Lasch'}]</td>\n",
       "      <td>1544</td>\n",
       "    </tr>\n",
       "    <tr>\n",
       "      <th>623PGBE9.json</th>\n",
       "      <td>Big Data's Disparate Impact</td>\n",
       "      <td>[{'authorId': '2881033', 'name': 'Solon Baroca...</td>\n",
       "      <td>1350</td>\n",
       "    </tr>\n",
       "    <tr>\n",
       "      <th>76CVUSHF.json</th>\n",
       "      <td>The human use of human beings - cybernetics an...</td>\n",
       "      <td>[{'authorId': '145707626', 'name': 'N. Wiener'}]</td>\n",
       "      <td>1322</td>\n",
       "    </tr>\n",
       "    <tr>\n",
       "      <th>ENA4Q5EE.json</th>\n",
       "      <td>Do Artifacts Have Politics</td>\n",
       "      <td>[{'authorId': '8074315', 'name': 'L. Winner'}]</td>\n",
       "      <td>1211</td>\n",
       "    </tr>\n",
       "    <tr>\n",
       "      <th>M5YDMSXV.json</th>\n",
       "      <td>Do Artifacts Have Politics</td>\n",
       "      <td>[{'authorId': '8074315', 'name': 'L. Winner'}]</td>\n",
       "      <td>1211</td>\n",
       "    </tr>\n",
       "    <tr>\n",
       "      <th>9PQMTJSD.json</th>\n",
       "      <td>Do Artifacts Have Politics</td>\n",
       "      <td>[{'authorId': '8074315', 'name': 'L. Winner'}]</td>\n",
       "      <td>1211</td>\n",
       "    </tr>\n",
       "    <tr>\n",
       "      <th>T7WTKY4W.json</th>\n",
       "      <td>Estimation and Inference of Heterogeneous Trea...</td>\n",
       "      <td>[{'authorId': '3160667', 'name': 'Stefan Wager...</td>\n",
       "      <td>1176</td>\n",
       "    </tr>\n",
       "    <tr>\n",
       "      <th>VZP4YJ6X.json</th>\n",
       "      <td>The design philosophy of the DARPA Internet Pr...</td>\n",
       "      <td>[{'authorId': '145734218', 'name': 'D. Clark'}]</td>\n",
       "      <td>1173</td>\n",
       "    </tr>\n",
       "  </tbody>\n",
       "</table>\n",
       "</div>"
      ],
      "text/plain": [
       "                                                           title  \\\n",
       "JJWEWH5N.json         Understanding Media: The Extensions of Man   \n",
       "2N49FVDE.json                          We Have Never Been Modern   \n",
       "L8YC3BR8.json  Regional Advantage: Culture and Competition in...   \n",
       "5M6SZ7NI.json    Bitcoin : A Peer-to-Peer Electronic Cash System   \n",
       "M5UMJG3R.json                    Leadership: Theory and Practice   \n",
       "AJQAAMWM.json           The spread of true and false news online   \n",
       "3X2UYKXM.json                   The social shaping of technology   \n",
       "A2BJ7NVH.json  The Singularity Is Near: When Humans Transcend...   \n",
       "3934WUN2.json  Experimental evidence of massive-scale emotion...   \n",
       "ICJPYWGA.json                  The Ethnography of Infrastructure   \n",
       "6V4QH2QI.json           Television: Technology and Cultural Form   \n",
       "3WBKWY8Q.json  A 61-million-person experiment in social influ...   \n",
       "QKZK4T6H.json                         The culture of narcissism.   \n",
       "623PGBE9.json                        Big Data's Disparate Impact   \n",
       "76CVUSHF.json  The human use of human beings - cybernetics an...   \n",
       "ENA4Q5EE.json                         Do Artifacts Have Politics   \n",
       "M5YDMSXV.json                         Do Artifacts Have Politics   \n",
       "9PQMTJSD.json                         Do Artifacts Have Politics   \n",
       "T7WTKY4W.json  Estimation and Inference of Heterogeneous Trea...   \n",
       "VZP4YJ6X.json  The design philosophy of the DARPA Internet Pr...   \n",
       "\n",
       "                                                         authors citationCount  \n",
       "JJWEWH5N.json   [{'authorId': '32996996', 'name': 'M. Mcluhan'}]          9126  \n",
       "2N49FVDE.json    [{'authorId': '47701965', 'name': 'B. Latour'}]          8411  \n",
       "L8YC3BR8.json  [{'authorId': '1423411984', 'name': 'A. Chandl...          6776  \n",
       "5M6SZ7NI.json  [{'authorId': '38219008', 'name': 'Satoshi Nak...          5989  \n",
       "M5UMJG3R.json  [{'authorId': '113329495', 'name': 'P. Northou...          4695  \n",
       "AJQAAMWM.json  [{'authorId': '1918441', 'name': 'Soroush Voso...          2551  \n",
       "3X2UYKXM.json  [{'authorId': '2116648759', 'name': 'Robin Wil...          2290  \n",
       "A2BJ7NVH.json   [{'authorId': '2186634', 'name': 'R. Kurzweil'}]          2103  \n",
       "3934WUN2.json  [{'authorId': '1845400', 'name': 'Adam D. I. K...          2073  \n",
       "ICJPYWGA.json    [{'authorId': '1730598', 'name': 'S. L. Star'}]          2065  \n",
       "6V4QH2QI.json  [{'authorId': '32996996', 'name': 'M. Mcluhan'...          1939  \n",
       "3WBKWY8Q.json  [{'authorId': '15280578', 'name': 'Robert M. B...          1765  \n",
       "QKZK4T6H.json     [{'authorId': '32394288', 'name': 'C. Lasch'}]          1544  \n",
       "623PGBE9.json  [{'authorId': '2881033', 'name': 'Solon Baroca...          1350  \n",
       "76CVUSHF.json   [{'authorId': '145707626', 'name': 'N. Wiener'}]          1322  \n",
       "ENA4Q5EE.json     [{'authorId': '8074315', 'name': 'L. Winner'}]          1211  \n",
       "M5YDMSXV.json     [{'authorId': '8074315', 'name': 'L. Winner'}]          1211  \n",
       "9PQMTJSD.json     [{'authorId': '8074315', 'name': 'L. Winner'}]          1211  \n",
       "T7WTKY4W.json  [{'authorId': '3160667', 'name': 'Stefan Wager...          1176  \n",
       "VZP4YJ6X.json    [{'authorId': '145734218', 'name': 'D. Clark'}]          1173  "
      ]
     },
     "execution_count": 9,
     "metadata": {},
     "output_type": "execute_result"
    }
   ],
   "source": [
    "df.sort_values('citationCount', ascending=False).head(20)[['title', 'authors', 'citationCount']]"
   ]
  },
  {
   "cell_type": "markdown",
   "id": "9ce72703-5633-4d0e-97e6-28415ee93cfe",
   "metadata": {},
   "source": [
    "## Texts Sorted by highest influential citation count"
   ]
  },
  {
   "cell_type": "code",
   "execution_count": 10,
   "id": "f234f695-b25b-4a68-8678-bfbc8ccbc322",
   "metadata": {
    "tags": []
   },
   "outputs": [
    {
     "data": {
      "text/html": [
       "<div>\n",
       "<style scoped>\n",
       "    .dataframe tbody tr th:only-of-type {\n",
       "        vertical-align: middle;\n",
       "    }\n",
       "\n",
       "    .dataframe tbody tr th {\n",
       "        vertical-align: top;\n",
       "    }\n",
       "\n",
       "    .dataframe thead th {\n",
       "        text-align: right;\n",
       "    }\n",
       "</style>\n",
       "<table border=\"1\" class=\"dataframe\">\n",
       "  <thead>\n",
       "    <tr style=\"text-align: right;\">\n",
       "      <th></th>\n",
       "      <th>title</th>\n",
       "      <th>authors</th>\n",
       "      <th>influentialCitationCount</th>\n",
       "    </tr>\n",
       "  </thead>\n",
       "  <tbody>\n",
       "    <tr>\n",
       "      <th>5M6SZ7NI.json</th>\n",
       "      <td>Bitcoin : A Peer-to-Peer Electronic Cash System</td>\n",
       "      <td>[{'authorId': '38219008', 'name': 'Satoshi Nak...</td>\n",
       "      <td>1310</td>\n",
       "    </tr>\n",
       "    <tr>\n",
       "      <th>M5UMJG3R.json</th>\n",
       "      <td>Leadership: Theory and Practice</td>\n",
       "      <td>[{'authorId': '113329495', 'name': 'P. Northou...</td>\n",
       "      <td>650</td>\n",
       "    </tr>\n",
       "    <tr>\n",
       "      <th>L8YC3BR8.json</th>\n",
       "      <td>Regional Advantage: Culture and Competition in...</td>\n",
       "      <td>[{'authorId': '1423411984', 'name': 'A. Chandl...</td>\n",
       "      <td>486</td>\n",
       "    </tr>\n",
       "    <tr>\n",
       "      <th>2N49FVDE.json</th>\n",
       "      <td>We Have Never Been Modern</td>\n",
       "      <td>[{'authorId': '47701965', 'name': 'B. Latour'}]</td>\n",
       "      <td>381</td>\n",
       "    </tr>\n",
       "    <tr>\n",
       "      <th>JJWEWH5N.json</th>\n",
       "      <td>Understanding Media: The Extensions of Man</td>\n",
       "      <td>[{'authorId': '32996996', 'name': 'M. Mcluhan'}]</td>\n",
       "      <td>358</td>\n",
       "    </tr>\n",
       "    <tr>\n",
       "      <th>...</th>\n",
       "      <td>...</td>\n",
       "      <td>...</td>\n",
       "      <td>...</td>\n",
       "    </tr>\n",
       "    <tr>\n",
       "      <th>JPFIKADG.json</th>\n",
       "      <td>Review of \"Weapons of Math Destruction: How Bi...</td>\n",
       "      <td>[{'authorId': '121222013', 'name': 'Cory Malon...</td>\n",
       "      <td>0</td>\n",
       "    </tr>\n",
       "    <tr>\n",
       "      <th>J7ZH4Q2N.json</th>\n",
       "      <td>Three Views of Logic: Mathematics, Philosophy,...</td>\n",
       "      <td>[{'authorId': '3043218', 'name': 'D. Loveland'...</td>\n",
       "      <td>0</td>\n",
       "    </tr>\n",
       "    <tr>\n",
       "      <th>T2PNBSD5.json</th>\n",
       "      <td>Value scenarios: a technique for envisioning s...</td>\n",
       "      <td>[{'authorId': '34869420', 'name': 'L. Nathan'}...</td>\n",
       "      <td>0</td>\n",
       "    </tr>\n",
       "    <tr>\n",
       "      <th>4K4B5FLS.json</th>\n",
       "      <td>Automation, Algorithms, and Politics | When th...</td>\n",
       "      <td>[{'authorId': '1829115', 'name': 'Christian Sa...</td>\n",
       "      <td>0</td>\n",
       "    </tr>\n",
       "    <tr>\n",
       "      <th>2RYX7TSZ.json</th>\n",
       "      <td>Folksonomies: Introduction: Folksonomies and i...</td>\n",
       "      <td>[{'authorId': '2976618', 'name': 'D. Neal'}]</td>\n",
       "      <td>0</td>\n",
       "    </tr>\n",
       "  </tbody>\n",
       "</table>\n",
       "<p>274 rows × 3 columns</p>\n",
       "</div>"
      ],
      "text/plain": [
       "                                                           title  \\\n",
       "5M6SZ7NI.json    Bitcoin : A Peer-to-Peer Electronic Cash System   \n",
       "M5UMJG3R.json                    Leadership: Theory and Practice   \n",
       "L8YC3BR8.json  Regional Advantage: Culture and Competition in...   \n",
       "2N49FVDE.json                          We Have Never Been Modern   \n",
       "JJWEWH5N.json         Understanding Media: The Extensions of Man   \n",
       "...                                                          ...   \n",
       "JPFIKADG.json  Review of \"Weapons of Math Destruction: How Bi...   \n",
       "J7ZH4Q2N.json  Three Views of Logic: Mathematics, Philosophy,...   \n",
       "T2PNBSD5.json  Value scenarios: a technique for envisioning s...   \n",
       "4K4B5FLS.json  Automation, Algorithms, and Politics | When th...   \n",
       "2RYX7TSZ.json  Folksonomies: Introduction: Folksonomies and i...   \n",
       "\n",
       "                                                         authors  \\\n",
       "5M6SZ7NI.json  [{'authorId': '38219008', 'name': 'Satoshi Nak...   \n",
       "M5UMJG3R.json  [{'authorId': '113329495', 'name': 'P. Northou...   \n",
       "L8YC3BR8.json  [{'authorId': '1423411984', 'name': 'A. Chandl...   \n",
       "2N49FVDE.json    [{'authorId': '47701965', 'name': 'B. Latour'}]   \n",
       "JJWEWH5N.json   [{'authorId': '32996996', 'name': 'M. Mcluhan'}]   \n",
       "...                                                          ...   \n",
       "JPFIKADG.json  [{'authorId': '121222013', 'name': 'Cory Malon...   \n",
       "J7ZH4Q2N.json  [{'authorId': '3043218', 'name': 'D. Loveland'...   \n",
       "T2PNBSD5.json  [{'authorId': '34869420', 'name': 'L. Nathan'}...   \n",
       "4K4B5FLS.json  [{'authorId': '1829115', 'name': 'Christian Sa...   \n",
       "2RYX7TSZ.json       [{'authorId': '2976618', 'name': 'D. Neal'}]   \n",
       "\n",
       "              influentialCitationCount  \n",
       "5M6SZ7NI.json                     1310  \n",
       "M5UMJG3R.json                      650  \n",
       "L8YC3BR8.json                      486  \n",
       "2N49FVDE.json                      381  \n",
       "JJWEWH5N.json                      358  \n",
       "...                                ...  \n",
       "JPFIKADG.json                        0  \n",
       "J7ZH4Q2N.json                        0  \n",
       "T2PNBSD5.json                        0  \n",
       "4K4B5FLS.json                        0  \n",
       "2RYX7TSZ.json                        0  \n",
       "\n",
       "[274 rows x 3 columns]"
      ]
     },
     "execution_count": 10,
     "metadata": {},
     "output_type": "execute_result"
    }
   ],
   "source": [
    "df.sort_values('influentialCitationCount', ascending=False)[['title', 'authors', 'influentialCitationCount']]"
   ]
  },
  {
   "cell_type": "code",
   "execution_count": 11,
   "id": "deae103b-8022-4881-936f-9be72b9d4743",
   "metadata": {},
   "outputs": [],
   "source": [
    "docsWithAbstracts = df[df['abstract'].notnull()]"
   ]
  },
  {
   "cell_type": "code",
   "execution_count": 12,
   "id": "7b45c077-d086-4c24-802c-3f425cecb485",
   "metadata": {},
   "outputs": [
    {
     "data": {
      "text/html": [
       "<div>\n",
       "<style scoped>\n",
       "    .dataframe tbody tr th:only-of-type {\n",
       "        vertical-align: middle;\n",
       "    }\n",
       "\n",
       "    .dataframe tbody tr th {\n",
       "        vertical-align: top;\n",
       "    }\n",
       "\n",
       "    .dataframe thead th {\n",
       "        text-align: right;\n",
       "    }\n",
       "</style>\n",
       "<table border=\"1\" class=\"dataframe\">\n",
       "  <thead>\n",
       "    <tr style=\"text-align: right;\">\n",
       "      <th></th>\n",
       "      <th>title</th>\n",
       "      <th>abstract</th>\n",
       "    </tr>\n",
       "  </thead>\n",
       "  <tbody>\n",
       "    <tr>\n",
       "      <th>VDEEJGMF.json</th>\n",
       "      <td>On Overcoming Imposter Syndrome.</td>\n",
       "      <td>Academic Medicine, Vol. 92, No. 8 / August 201...</td>\n",
       "    </tr>\n",
       "    <tr>\n",
       "      <th>49ZBRC7R.json</th>\n",
       "      <td>The Breakup 2.0: Disconnecting over New Media</td>\n",
       "      <td>A few generations ago, college students showed...</td>\n",
       "    </tr>\n",
       "    <tr>\n",
       "      <th>YXU8PNX2.json</th>\n",
       "      <td>Introduction to Web Accessibility</td>\n",
       "      <td>With raised awareness and accessibility laws e...</td>\n",
       "    </tr>\n",
       "    <tr>\n",
       "      <th>3NVMZK68.json</th>\n",
       "      <td>The Computer from Pascal to von Neumann</td>\n",
       "      <td>From the Publisher: \\nIn 1942, Lt. Herman H. G...</td>\n",
       "    </tr>\n",
       "    <tr>\n",
       "      <th>HSVN86Y6.json</th>\n",
       "      <td>UNESCO and INFOethics: Seeking global ethical ...</td>\n",
       "      <td>UNESCO puts information ethics on the agenda o...</td>\n",
       "    </tr>\n",
       "    <tr>\n",
       "      <th>...</th>\n",
       "      <td>...</td>\n",
       "      <td>...</td>\n",
       "    </tr>\n",
       "    <tr>\n",
       "      <th>ED8C2TD9.json</th>\n",
       "      <td>Review: The Social Shaping of Technology</td>\n",
       "      <td>The depth of the collection is given an histor...</td>\n",
       "    </tr>\n",
       "    <tr>\n",
       "      <th>M5YDMSXV.json</th>\n",
       "      <td>Do Artifacts Have Politics</td>\n",
       "      <td>In controversies about technology and society,...</td>\n",
       "    </tr>\n",
       "    <tr>\n",
       "      <th>2QGYL4FM.json</th>\n",
       "      <td>How the machine ‘thinks’: Understanding opacit...</td>\n",
       "      <td>This article considers the issue of opacity as...</td>\n",
       "    </tr>\n",
       "    <tr>\n",
       "      <th>GKZGQRD8.json</th>\n",
       "      <td>The Drama! Teen Conflict, Gossip, and Bullying...</td>\n",
       "      <td>While teenage conflict is nothing new, today’s...</td>\n",
       "    </tr>\n",
       "    <tr>\n",
       "      <th>I8UGLG4U.json</th>\n",
       "      <td>Moral Crumple Zones: Cautionary Tales in Human...</td>\n",
       "      <td>A prevailing rhetoric in human-robot interacti...</td>\n",
       "    </tr>\n",
       "  </tbody>\n",
       "</table>\n",
       "<p>205 rows × 2 columns</p>\n",
       "</div>"
      ],
      "text/plain": [
       "                                                           title  \\\n",
       "VDEEJGMF.json                   On Overcoming Imposter Syndrome.   \n",
       "49ZBRC7R.json      The Breakup 2.0: Disconnecting over New Media   \n",
       "YXU8PNX2.json                  Introduction to Web Accessibility   \n",
       "3NVMZK68.json            The Computer from Pascal to von Neumann   \n",
       "HSVN86Y6.json  UNESCO and INFOethics: Seeking global ethical ...   \n",
       "...                                                          ...   \n",
       "ED8C2TD9.json           Review: The Social Shaping of Technology   \n",
       "M5YDMSXV.json                         Do Artifacts Have Politics   \n",
       "2QGYL4FM.json  How the machine ‘thinks’: Understanding opacit...   \n",
       "GKZGQRD8.json  The Drama! Teen Conflict, Gossip, and Bullying...   \n",
       "I8UGLG4U.json  Moral Crumple Zones: Cautionary Tales in Human...   \n",
       "\n",
       "                                                        abstract  \n",
       "VDEEJGMF.json  Academic Medicine, Vol. 92, No. 8 / August 201...  \n",
       "49ZBRC7R.json  A few generations ago, college students showed...  \n",
       "YXU8PNX2.json  With raised awareness and accessibility laws e...  \n",
       "3NVMZK68.json  From the Publisher: \\nIn 1942, Lt. Herman H. G...  \n",
       "HSVN86Y6.json  UNESCO puts information ethics on the agenda o...  \n",
       "...                                                          ...  \n",
       "ED8C2TD9.json  The depth of the collection is given an histor...  \n",
       "M5YDMSXV.json  In controversies about technology and society,...  \n",
       "2QGYL4FM.json  This article considers the issue of opacity as...  \n",
       "GKZGQRD8.json  While teenage conflict is nothing new, today’s...  \n",
       "I8UGLG4U.json  A prevailing rhetoric in human-robot interacti...  \n",
       "\n",
       "[205 rows x 2 columns]"
      ]
     },
     "execution_count": 12,
     "metadata": {},
     "output_type": "execute_result"
    }
   ],
   "source": [
    "docsWithAbstracts[['title', 'abstract']]"
   ]
  },
  {
   "cell_type": "markdown",
   "id": "c7683622-e750-4c18-985f-3e760360672c",
   "metadata": {},
   "source": [
    "# What academic fields are the most represented? "
   ]
  },
  {
   "cell_type": "code",
   "execution_count": 147,
   "id": "a1f5d551-be24-4c50-9e44-6d116dfd37fa",
   "metadata": {},
   "outputs": [],
   "source": [
    "allFields = []\n",
    "for fieldList in df.fieldsOfStudy.values: \n",
    "    if fieldList is None: \n",
    "        continue\n",
    "    if type(fieldList) == list: \n",
    "        for item in fieldList: \n",
    "            allFields.append(item)"
   ]
  },
  {
   "cell_type": "code",
   "execution_count": 157,
   "id": "8aff27f8-237d-4cb4-ae67-ec79f926e742",
   "metadata": {},
   "outputs": [],
   "source": [
    "fieldStatsDf = pd.DataFrame(pd.Series(Counter(allFields)))"
   ]
  },
  {
   "cell_type": "code",
   "execution_count": 160,
   "id": "14fc7be1-2ad5-484a-a480-cf2b97e47711",
   "metadata": {},
   "outputs": [],
   "source": [
    "fieldStatsDf['field'] = fieldStatsDf.index"
   ]
  },
  {
   "cell_type": "code",
   "execution_count": 161,
   "id": "2e8e4838-1515-4448-881b-bd447a918aa1",
   "metadata": {},
   "outputs": [],
   "source": [
    "fieldStatsDf['n_papers'] = fieldStatsDf[0]"
   ]
  },
  {
   "cell_type": "code",
   "execution_count": 163,
   "id": "f9542633-1b66-4040-b026-a9cad81a55c3",
   "metadata": {},
   "outputs": [],
   "source": [
    "del fieldStatsDf[0]"
   ]
  },
  {
   "cell_type": "code",
   "execution_count": 168,
   "id": "43b8e95a-16be-4a99-86f0-710f2fd17aaa",
   "metadata": {},
   "outputs": [
    {
     "data": {
      "application/vnd.plotly.v1+json": {
       "config": {
        "plotlyServerURL": "https://plot.ly"
       },
       "data": [
        {
         "domain": {
          "x": [
           0,
           1
          ],
          "y": [
           0,
           1
          ]
         },
         "hovertemplate": "field=%{label}<br>n_papers=%{value}<extra></extra>",
         "labels": [
          "Medicine",
          "History",
          "Sociology",
          "Psychology",
          "Computer Science",
          "Engineering",
          "Philosophy",
          "Political Science",
          "Mathematics",
          "Art",
          "Economics",
          "Business",
          "Environmental Science",
          "Biology",
          "Physics"
         ],
         "legendgroup": "",
         "name": "",
         "showlegend": true,
         "type": "pie",
         "values": [
          22,
          5,
          76,
          29,
          81,
          25,
          8,
          31,
          4,
          9,
          6,
          10,
          1,
          1,
          1
         ]
        }
       ],
       "layout": {
        "autosize": true,
        "legend": {
         "tracegroupgap": 0
        },
        "margin": {
         "t": 60
        },
        "template": {
         "data": {
          "bar": [
           {
            "error_x": {
             "color": "#2a3f5f"
            },
            "error_y": {
             "color": "#2a3f5f"
            },
            "marker": {
             "line": {
              "color": "#E5ECF6",
              "width": 0.5
             },
             "pattern": {
              "fillmode": "overlay",
              "size": 10,
              "solidity": 0.2
             }
            },
            "type": "bar"
           }
          ],
          "barpolar": [
           {
            "marker": {
             "line": {
              "color": "#E5ECF6",
              "width": 0.5
             },
             "pattern": {
              "fillmode": "overlay",
              "size": 10,
              "solidity": 0.2
             }
            },
            "type": "barpolar"
           }
          ],
          "carpet": [
           {
            "aaxis": {
             "endlinecolor": "#2a3f5f",
             "gridcolor": "white",
             "linecolor": "white",
             "minorgridcolor": "white",
             "startlinecolor": "#2a3f5f"
            },
            "baxis": {
             "endlinecolor": "#2a3f5f",
             "gridcolor": "white",
             "linecolor": "white",
             "minorgridcolor": "white",
             "startlinecolor": "#2a3f5f"
            },
            "type": "carpet"
           }
          ],
          "choropleth": [
           {
            "colorbar": {
             "outlinewidth": 0,
             "ticks": ""
            },
            "type": "choropleth"
           }
          ],
          "contour": [
           {
            "colorbar": {
             "outlinewidth": 0,
             "ticks": ""
            },
            "colorscale": [
             [
              0,
              "#0d0887"
             ],
             [
              0.1111111111111111,
              "#46039f"
             ],
             [
              0.2222222222222222,
              "#7201a8"
             ],
             [
              0.3333333333333333,
              "#9c179e"
             ],
             [
              0.4444444444444444,
              "#bd3786"
             ],
             [
              0.5555555555555556,
              "#d8576b"
             ],
             [
              0.6666666666666666,
              "#ed7953"
             ],
             [
              0.7777777777777778,
              "#fb9f3a"
             ],
             [
              0.8888888888888888,
              "#fdca26"
             ],
             [
              1,
              "#f0f921"
             ]
            ],
            "type": "contour"
           }
          ],
          "contourcarpet": [
           {
            "colorbar": {
             "outlinewidth": 0,
             "ticks": ""
            },
            "type": "contourcarpet"
           }
          ],
          "heatmap": [
           {
            "colorbar": {
             "outlinewidth": 0,
             "ticks": ""
            },
            "colorscale": [
             [
              0,
              "#0d0887"
             ],
             [
              0.1111111111111111,
              "#46039f"
             ],
             [
              0.2222222222222222,
              "#7201a8"
             ],
             [
              0.3333333333333333,
              "#9c179e"
             ],
             [
              0.4444444444444444,
              "#bd3786"
             ],
             [
              0.5555555555555556,
              "#d8576b"
             ],
             [
              0.6666666666666666,
              "#ed7953"
             ],
             [
              0.7777777777777778,
              "#fb9f3a"
             ],
             [
              0.8888888888888888,
              "#fdca26"
             ],
             [
              1,
              "#f0f921"
             ]
            ],
            "type": "heatmap"
           }
          ],
          "heatmapgl": [
           {
            "colorbar": {
             "outlinewidth": 0,
             "ticks": ""
            },
            "colorscale": [
             [
              0,
              "#0d0887"
             ],
             [
              0.1111111111111111,
              "#46039f"
             ],
             [
              0.2222222222222222,
              "#7201a8"
             ],
             [
              0.3333333333333333,
              "#9c179e"
             ],
             [
              0.4444444444444444,
              "#bd3786"
             ],
             [
              0.5555555555555556,
              "#d8576b"
             ],
             [
              0.6666666666666666,
              "#ed7953"
             ],
             [
              0.7777777777777778,
              "#fb9f3a"
             ],
             [
              0.8888888888888888,
              "#fdca26"
             ],
             [
              1,
              "#f0f921"
             ]
            ],
            "type": "heatmapgl"
           }
          ],
          "histogram": [
           {
            "marker": {
             "pattern": {
              "fillmode": "overlay",
              "size": 10,
              "solidity": 0.2
             }
            },
            "type": "histogram"
           }
          ],
          "histogram2d": [
           {
            "colorbar": {
             "outlinewidth": 0,
             "ticks": ""
            },
            "colorscale": [
             [
              0,
              "#0d0887"
             ],
             [
              0.1111111111111111,
              "#46039f"
             ],
             [
              0.2222222222222222,
              "#7201a8"
             ],
             [
              0.3333333333333333,
              "#9c179e"
             ],
             [
              0.4444444444444444,
              "#bd3786"
             ],
             [
              0.5555555555555556,
              "#d8576b"
             ],
             [
              0.6666666666666666,
              "#ed7953"
             ],
             [
              0.7777777777777778,
              "#fb9f3a"
             ],
             [
              0.8888888888888888,
              "#fdca26"
             ],
             [
              1,
              "#f0f921"
             ]
            ],
            "type": "histogram2d"
           }
          ],
          "histogram2dcontour": [
           {
            "colorbar": {
             "outlinewidth": 0,
             "ticks": ""
            },
            "colorscale": [
             [
              0,
              "#0d0887"
             ],
             [
              0.1111111111111111,
              "#46039f"
             ],
             [
              0.2222222222222222,
              "#7201a8"
             ],
             [
              0.3333333333333333,
              "#9c179e"
             ],
             [
              0.4444444444444444,
              "#bd3786"
             ],
             [
              0.5555555555555556,
              "#d8576b"
             ],
             [
              0.6666666666666666,
              "#ed7953"
             ],
             [
              0.7777777777777778,
              "#fb9f3a"
             ],
             [
              0.8888888888888888,
              "#fdca26"
             ],
             [
              1,
              "#f0f921"
             ]
            ],
            "type": "histogram2dcontour"
           }
          ],
          "mesh3d": [
           {
            "colorbar": {
             "outlinewidth": 0,
             "ticks": ""
            },
            "type": "mesh3d"
           }
          ],
          "parcoords": [
           {
            "line": {
             "colorbar": {
              "outlinewidth": 0,
              "ticks": ""
             }
            },
            "type": "parcoords"
           }
          ],
          "pie": [
           {
            "automargin": true,
            "type": "pie"
           }
          ],
          "scatter": [
           {
            "marker": {
             "colorbar": {
              "outlinewidth": 0,
              "ticks": ""
             }
            },
            "type": "scatter"
           }
          ],
          "scatter3d": [
           {
            "line": {
             "colorbar": {
              "outlinewidth": 0,
              "ticks": ""
             }
            },
            "marker": {
             "colorbar": {
              "outlinewidth": 0,
              "ticks": ""
             }
            },
            "type": "scatter3d"
           }
          ],
          "scattercarpet": [
           {
            "marker": {
             "colorbar": {
              "outlinewidth": 0,
              "ticks": ""
             }
            },
            "type": "scattercarpet"
           }
          ],
          "scattergeo": [
           {
            "marker": {
             "colorbar": {
              "outlinewidth": 0,
              "ticks": ""
             }
            },
            "type": "scattergeo"
           }
          ],
          "scattergl": [
           {
            "marker": {
             "colorbar": {
              "outlinewidth": 0,
              "ticks": ""
             }
            },
            "type": "scattergl"
           }
          ],
          "scattermapbox": [
           {
            "marker": {
             "colorbar": {
              "outlinewidth": 0,
              "ticks": ""
             }
            },
            "type": "scattermapbox"
           }
          ],
          "scatterpolar": [
           {
            "marker": {
             "colorbar": {
              "outlinewidth": 0,
              "ticks": ""
             }
            },
            "type": "scatterpolar"
           }
          ],
          "scatterpolargl": [
           {
            "marker": {
             "colorbar": {
              "outlinewidth": 0,
              "ticks": ""
             }
            },
            "type": "scatterpolargl"
           }
          ],
          "scatterternary": [
           {
            "marker": {
             "colorbar": {
              "outlinewidth": 0,
              "ticks": ""
             }
            },
            "type": "scatterternary"
           }
          ],
          "surface": [
           {
            "colorbar": {
             "outlinewidth": 0,
             "ticks": ""
            },
            "colorscale": [
             [
              0,
              "#0d0887"
             ],
             [
              0.1111111111111111,
              "#46039f"
             ],
             [
              0.2222222222222222,
              "#7201a8"
             ],
             [
              0.3333333333333333,
              "#9c179e"
             ],
             [
              0.4444444444444444,
              "#bd3786"
             ],
             [
              0.5555555555555556,
              "#d8576b"
             ],
             [
              0.6666666666666666,
              "#ed7953"
             ],
             [
              0.7777777777777778,
              "#fb9f3a"
             ],
             [
              0.8888888888888888,
              "#fdca26"
             ],
             [
              1,
              "#f0f921"
             ]
            ],
            "type": "surface"
           }
          ],
          "table": [
           {
            "cells": {
             "fill": {
              "color": "#EBF0F8"
             },
             "line": {
              "color": "white"
             }
            },
            "header": {
             "fill": {
              "color": "#C8D4E3"
             },
             "line": {
              "color": "white"
             }
            },
            "type": "table"
           }
          ]
         },
         "layout": {
          "annotationdefaults": {
           "arrowcolor": "#2a3f5f",
           "arrowhead": 0,
           "arrowwidth": 1
          },
          "autotypenumbers": "strict",
          "coloraxis": {
           "colorbar": {
            "outlinewidth": 0,
            "ticks": ""
           }
          },
          "colorscale": {
           "diverging": [
            [
             0,
             "#8e0152"
            ],
            [
             0.1,
             "#c51b7d"
            ],
            [
             0.2,
             "#de77ae"
            ],
            [
             0.3,
             "#f1b6da"
            ],
            [
             0.4,
             "#fde0ef"
            ],
            [
             0.5,
             "#f7f7f7"
            ],
            [
             0.6,
             "#e6f5d0"
            ],
            [
             0.7,
             "#b8e186"
            ],
            [
             0.8,
             "#7fbc41"
            ],
            [
             0.9,
             "#4d9221"
            ],
            [
             1,
             "#276419"
            ]
           ],
           "sequential": [
            [
             0,
             "#0d0887"
            ],
            [
             0.1111111111111111,
             "#46039f"
            ],
            [
             0.2222222222222222,
             "#7201a8"
            ],
            [
             0.3333333333333333,
             "#9c179e"
            ],
            [
             0.4444444444444444,
             "#bd3786"
            ],
            [
             0.5555555555555556,
             "#d8576b"
            ],
            [
             0.6666666666666666,
             "#ed7953"
            ],
            [
             0.7777777777777778,
             "#fb9f3a"
            ],
            [
             0.8888888888888888,
             "#fdca26"
            ],
            [
             1,
             "#f0f921"
            ]
           ],
           "sequentialminus": [
            [
             0,
             "#0d0887"
            ],
            [
             0.1111111111111111,
             "#46039f"
            ],
            [
             0.2222222222222222,
             "#7201a8"
            ],
            [
             0.3333333333333333,
             "#9c179e"
            ],
            [
             0.4444444444444444,
             "#bd3786"
            ],
            [
             0.5555555555555556,
             "#d8576b"
            ],
            [
             0.6666666666666666,
             "#ed7953"
            ],
            [
             0.7777777777777778,
             "#fb9f3a"
            ],
            [
             0.8888888888888888,
             "#fdca26"
            ],
            [
             1,
             "#f0f921"
            ]
           ]
          },
          "colorway": [
           "#636efa",
           "#EF553B",
           "#00cc96",
           "#ab63fa",
           "#FFA15A",
           "#19d3f3",
           "#FF6692",
           "#B6E880",
           "#FF97FF",
           "#FECB52"
          ],
          "font": {
           "color": "#2a3f5f"
          },
          "geo": {
           "bgcolor": "white",
           "lakecolor": "white",
           "landcolor": "#E5ECF6",
           "showlakes": true,
           "showland": true,
           "subunitcolor": "white"
          },
          "hoverlabel": {
           "align": "left"
          },
          "hovermode": "closest",
          "mapbox": {
           "style": "light"
          },
          "paper_bgcolor": "white",
          "plot_bgcolor": "#E5ECF6",
          "polar": {
           "angularaxis": {
            "gridcolor": "white",
            "linecolor": "white",
            "ticks": ""
           },
           "bgcolor": "#E5ECF6",
           "radialaxis": {
            "gridcolor": "white",
            "linecolor": "white",
            "ticks": ""
           }
          },
          "scene": {
           "xaxis": {
            "backgroundcolor": "#E5ECF6",
            "gridcolor": "white",
            "gridwidth": 2,
            "linecolor": "white",
            "showbackground": true,
            "ticks": "",
            "zerolinecolor": "white"
           },
           "yaxis": {
            "backgroundcolor": "#E5ECF6",
            "gridcolor": "white",
            "gridwidth": 2,
            "linecolor": "white",
            "showbackground": true,
            "ticks": "",
            "zerolinecolor": "white"
           },
           "zaxis": {
            "backgroundcolor": "#E5ECF6",
            "gridcolor": "white",
            "gridwidth": 2,
            "linecolor": "white",
            "showbackground": true,
            "ticks": "",
            "zerolinecolor": "white"
           }
          },
          "shapedefaults": {
           "line": {
            "color": "#2a3f5f"
           }
          },
          "ternary": {
           "aaxis": {
            "gridcolor": "white",
            "linecolor": "white",
            "ticks": ""
           },
           "baxis": {
            "gridcolor": "white",
            "linecolor": "white",
            "ticks": ""
           },
           "bgcolor": "#E5ECF6",
           "caxis": {
            "gridcolor": "white",
            "linecolor": "white",
            "ticks": ""
           }
          },
          "title": {
           "x": 0.05
          },
          "xaxis": {
           "automargin": true,
           "gridcolor": "white",
           "linecolor": "white",
           "ticks": "",
           "title": {
            "standoff": 15
           },
           "zerolinecolor": "white",
           "zerolinewidth": 2
          },
          "yaxis": {
           "automargin": true,
           "gridcolor": "white",
           "linecolor": "white",
           "ticks": "",
           "title": {
            "standoff": 15
           },
           "zerolinecolor": "white",
           "zerolinewidth": 2
          }
         }
        }
       }
      },
      "image/png": "[encoded data removed]",
      "text/html": [
       "<div>                            <div id=\"d5f42171-3ae9-43e9-a26a-928c47fc48e3\" class=\"plotly-graph-div\" style=\"height:600px; width:100%;\"></div>            <script type=\"text/javascript\">                require([\"plotly\"], function(Plotly) {                    window.PLOTLYENV=window.PLOTLYENV || {};                                    if (document.getElementById(\"d5f42171-3ae9-43e9-a26a-928c47fc48e3\")) {                    Plotly.newPlot(                        \"d5f42171-3ae9-43e9-a26a-928c47fc48e3\",                        [{\"domain\":{\"x\":[0.0,1.0],\"y\":[0.0,1.0]},\"hovertemplate\":\"field=%{label}<br>n_papers=%{value}<extra></extra>\",\"labels\":[\"Medicine\",\"History\",\"Sociology\",\"Psychology\",\"Computer Science\",\"Engineering\",\"Philosophy\",\"Political Science\",\"Mathematics\",\"Art\",\"Economics\",\"Business\",\"Environmental Science\",\"Biology\",\"Physics\"],\"legendgroup\":\"\",\"name\":\"\",\"showlegend\":true,\"type\":\"pie\",\"values\":[22,5,76,29,81,25,8,31,4,9,6,10,1,1,1]}],                        {\"height\":600,\"legend\":{\"tracegroupgap\":0},\"margin\":{\"t\":60},\"template\":{\"data\":{\"bar\":[{\"error_x\":{\"color\":\"#2a3f5f\"},\"error_y\":{\"color\":\"#2a3f5f\"},\"marker\":{\"line\":{\"color\":\"#E5ECF6\",\"width\":0.5},\"pattern\":{\"fillmode\":\"overlay\",\"size\":10,\"solidity\":0.2}},\"type\":\"bar\"}],\"barpolar\":[{\"marker\":{\"line\":{\"color\":\"#E5ECF6\",\"width\":0.5},\"pattern\":{\"fillmode\":\"overlay\",\"size\":10,\"solidity\":0.2}},\"type\":\"barpolar\"}],\"carpet\":[{\"aaxis\":{\"endlinecolor\":\"#2a3f5f\",\"gridcolor\":\"white\",\"linecolor\":\"white\",\"minorgridcolor\":\"white\",\"startlinecolor\":\"#2a3f5f\"},\"baxis\":{\"endlinecolor\":\"#2a3f5f\",\"gridcolor\":\"white\",\"linecolor\":\"white\",\"minorgridcolor\":\"white\",\"startlinecolor\":\"#2a3f5f\"},\"type\":\"carpet\"}],\"choropleth\":[{\"colorbar\":{\"outlinewidth\":0,\"ticks\":\"\"},\"type\":\"choropleth\"}],\"contour\":[{\"colorbar\":{\"outlinewidth\":0,\"ticks\":\"\"},\"colorscale\":[[0.0,\"#0d0887\"],[0.1111111111111111,\"#46039f\"],[0.2222222222222222,\"#7201a8\"],[0.3333333333333333,\"#9c179e\"],[0.4444444444444444,\"#bd3786\"],[0.5555555555555556,\"#d8576b\"],[0.6666666666666666,\"#ed7953\"],[0.7777777777777778,\"#fb9f3a\"],[0.8888888888888888,\"#fdca26\"],[1.0,\"#f0f921\"]],\"type\":\"contour\"}],\"contourcarpet\":[{\"colorbar\":{\"outlinewidth\":0,\"ticks\":\"\"},\"type\":\"contourcarpet\"}],\"heatmap\":[{\"colorbar\":{\"outlinewidth\":0,\"ticks\":\"\"},\"colorscale\":[[0.0,\"#0d0887\"],[0.1111111111111111,\"#46039f\"],[0.2222222222222222,\"#7201a8\"],[0.3333333333333333,\"#9c179e\"],[0.4444444444444444,\"#bd3786\"],[0.5555555555555556,\"#d8576b\"],[0.6666666666666666,\"#ed7953\"],[0.7777777777777778,\"#fb9f3a\"],[0.8888888888888888,\"#fdca26\"],[1.0,\"#f0f921\"]],\"type\":\"heatmap\"}],\"heatmapgl\":[{\"colorbar\":{\"outlinewidth\":0,\"ticks\":\"\"},\"colorscale\":[[0.0,\"#0d0887\"],[0.1111111111111111,\"#46039f\"],[0.2222222222222222,\"#7201a8\"],[0.3333333333333333,\"#9c179e\"],[0.4444444444444444,\"#bd3786\"],[0.5555555555555556,\"#d8576b\"],[0.6666666666666666,\"#ed7953\"],[0.7777777777777778,\"#fb9f3a\"],[0.8888888888888888,\"#fdca26\"],[1.0,\"#f0f921\"]],\"type\":\"heatmapgl\"}],\"histogram\":[{\"marker\":{\"pattern\":{\"fillmode\":\"overlay\",\"size\":10,\"solidity\":0.2}},\"type\":\"histogram\"}],\"histogram2d\":[{\"colorbar\":{\"outlinewidth\":0,\"ticks\":\"\"},\"colorscale\":[[0.0,\"#0d0887\"],[0.1111111111111111,\"#46039f\"],[0.2222222222222222,\"#7201a8\"],[0.3333333333333333,\"#9c179e\"],[0.4444444444444444,\"#bd3786\"],[0.5555555555555556,\"#d8576b\"],[0.6666666666666666,\"#ed7953\"],[0.7777777777777778,\"#fb9f3a\"],[0.8888888888888888,\"#fdca26\"],[1.0,\"#f0f921\"]],\"type\":\"histogram2d\"}],\"histogram2dcontour\":[{\"colorbar\":{\"outlinewidth\":0,\"ticks\":\"\"},\"colorscale\":[[0.0,\"#0d0887\"],[0.1111111111111111,\"#46039f\"],[0.2222222222222222,\"#7201a8\"],[0.3333333333333333,\"#9c179e\"],[0.4444444444444444,\"#bd3786\"],[0.5555555555555556,\"#d8576b\"],[0.6666666666666666,\"#ed7953\"],[0.7777777777777778,\"#fb9f3a\"],[0.8888888888888888,\"#fdca26\"],[1.0,\"#f0f921\"]],\"type\":\"histogram2dcontour\"}],\"mesh3d\":[{\"colorbar\":{\"outlinewidth\":0,\"ticks\":\"\"},\"type\":\"mesh3d\"}],\"parcoords\":[{\"line\":{\"colorbar\":{\"outlinewidth\":0,\"ticks\":\"\"}},\"type\":\"parcoords\"}],\"pie\":[{\"automargin\":true,\"type\":\"pie\"}],\"scatter\":[{\"marker\":{\"colorbar\":{\"outlinewidth\":0,\"ticks\":\"\"}},\"type\":\"scatter\"}],\"scatter3d\":[{\"line\":{\"colorbar\":{\"outlinewidth\":0,\"ticks\":\"\"}},\"marker\":{\"colorbar\":{\"outlinewidth\":0,\"ticks\":\"\"}},\"type\":\"scatter3d\"}],\"scattercarpet\":[{\"marker\":{\"colorbar\":{\"outlinewidth\":0,\"ticks\":\"\"}},\"type\":\"scattercarpet\"}],\"scattergeo\":[{\"marker\":{\"colorbar\":{\"outlinewidth\":0,\"ticks\":\"\"}},\"type\":\"scattergeo\"}],\"scattergl\":[{\"marker\":{\"colorbar\":{\"outlinewidth\":0,\"ticks\":\"\"}},\"type\":\"scattergl\"}],\"scattermapbox\":[{\"marker\":{\"colorbar\":{\"outlinewidth\":0,\"ticks\":\"\"}},\"type\":\"scattermapbox\"}],\"scatterpolar\":[{\"marker\":{\"colorbar\":{\"outlinewidth\":0,\"ticks\":\"\"}},\"type\":\"scatterpolar\"}],\"scatterpolargl\":[{\"marker\":{\"colorbar\":{\"outlinewidth\":0,\"ticks\":\"\"}},\"type\":\"scatterpolargl\"}],\"scatterternary\":[{\"marker\":{\"colorbar\":{\"outlinewidth\":0,\"ticks\":\"\"}},\"type\":\"scatterternary\"}],\"surface\":[{\"colorbar\":{\"outlinewidth\":0,\"ticks\":\"\"},\"colorscale\":[[0.0,\"#0d0887\"],[0.1111111111111111,\"#46039f\"],[0.2222222222222222,\"#7201a8\"],[0.3333333333333333,\"#9c179e\"],[0.4444444444444444,\"#bd3786\"],[0.5555555555555556,\"#d8576b\"],[0.6666666666666666,\"#ed7953\"],[0.7777777777777778,\"#fb9f3a\"],[0.8888888888888888,\"#fdca26\"],[1.0,\"#f0f921\"]],\"type\":\"surface\"}],\"table\":[{\"cells\":{\"fill\":{\"color\":\"#EBF0F8\"},\"line\":{\"color\":\"white\"}},\"header\":{\"fill\":{\"color\":\"#C8D4E3\"},\"line\":{\"color\":\"white\"}},\"type\":\"table\"}]},\"layout\":{\"annotationdefaults\":{\"arrowcolor\":\"#2a3f5f\",\"arrowhead\":0,\"arrowwidth\":1},\"autotypenumbers\":\"strict\",\"coloraxis\":{\"colorbar\":{\"outlinewidth\":0,\"ticks\":\"\"}},\"colorscale\":{\"diverging\":[[0,\"#8e0152\"],[0.1,\"#c51b7d\"],[0.2,\"#de77ae\"],[0.3,\"#f1b6da\"],[0.4,\"#fde0ef\"],[0.5,\"#f7f7f7\"],[0.6,\"#e6f5d0\"],[0.7,\"#b8e186\"],[0.8,\"#7fbc41\"],[0.9,\"#4d9221\"],[1,\"#276419\"]],\"sequential\":[[0.0,\"#0d0887\"],[0.1111111111111111,\"#46039f\"],[0.2222222222222222,\"#7201a8\"],[0.3333333333333333,\"#9c179e\"],[0.4444444444444444,\"#bd3786\"],[0.5555555555555556,\"#d8576b\"],[0.6666666666666666,\"#ed7953\"],[0.7777777777777778,\"#fb9f3a\"],[0.8888888888888888,\"#fdca26\"],[1.0,\"#f0f921\"]],\"sequentialminus\":[[0.0,\"#0d0887\"],[0.1111111111111111,\"#46039f\"],[0.2222222222222222,\"#7201a8\"],[0.3333333333333333,\"#9c179e\"],[0.4444444444444444,\"#bd3786\"],[0.5555555555555556,\"#d8576b\"],[0.6666666666666666,\"#ed7953\"],[0.7777777777777778,\"#fb9f3a\"],[0.8888888888888888,\"#fdca26\"],[1.0,\"#f0f921\"]]},\"colorway\":[\"#636efa\",\"#EF553B\",\"#00cc96\",\"#ab63fa\",\"#FFA15A\",\"#19d3f3\",\"#FF6692\",\"#B6E880\",\"#FF97FF\",\"#FECB52\"],\"font\":{\"color\":\"#2a3f5f\"},\"geo\":{\"bgcolor\":\"white\",\"lakecolor\":\"white\",\"landcolor\":\"#E5ECF6\",\"showlakes\":true,\"showland\":true,\"subunitcolor\":\"white\"},\"hoverlabel\":{\"align\":\"left\"},\"hovermode\":\"closest\",\"mapbox\":{\"style\":\"light\"},\"paper_bgcolor\":\"white\",\"plot_bgcolor\":\"#E5ECF6\",\"polar\":{\"angularaxis\":{\"gridcolor\":\"white\",\"linecolor\":\"white\",\"ticks\":\"\"},\"bgcolor\":\"#E5ECF6\",\"radialaxis\":{\"gridcolor\":\"white\",\"linecolor\":\"white\",\"ticks\":\"\"}},\"scene\":{\"xaxis\":{\"backgroundcolor\":\"#E5ECF6\",\"gridcolor\":\"white\",\"gridwidth\":2,\"linecolor\":\"white\",\"showbackground\":true,\"ticks\":\"\",\"zerolinecolor\":\"white\"},\"yaxis\":{\"backgroundcolor\":\"#E5ECF6\",\"gridcolor\":\"white\",\"gridwidth\":2,\"linecolor\":\"white\",\"showbackground\":true,\"ticks\":\"\",\"zerolinecolor\":\"white\"},\"zaxis\":{\"backgroundcolor\":\"#E5ECF6\",\"gridcolor\":\"white\",\"gridwidth\":2,\"linecolor\":\"white\",\"showbackground\":true,\"ticks\":\"\",\"zerolinecolor\":\"white\"}},\"shapedefaults\":{\"line\":{\"color\":\"#2a3f5f\"}},\"ternary\":{\"aaxis\":{\"gridcolor\":\"white\",\"linecolor\":\"white\",\"ticks\":\"\"},\"baxis\":{\"gridcolor\":\"white\",\"linecolor\":\"white\",\"ticks\":\"\"},\"bgcolor\":\"#E5ECF6\",\"caxis\":{\"gridcolor\":\"white\",\"linecolor\":\"white\",\"ticks\":\"\"}},\"title\":{\"x\":0.05},\"xaxis\":{\"automargin\":true,\"gridcolor\":\"white\",\"linecolor\":\"white\",\"ticks\":\"\",\"title\":{\"standoff\":15},\"zerolinecolor\":\"white\",\"zerolinewidth\":2},\"yaxis\":{\"automargin\":true,\"gridcolor\":\"white\",\"linecolor\":\"white\",\"ticks\":\"\",\"title\":{\"standoff\":15},\"zerolinecolor\":\"white\",\"zerolinewidth\":2}}}},                        {\"responsive\": true}                    ).then(function(){\n",
       "                            \n",
       "var gd = document.getElementById('d5f42171-3ae9-43e9-a26a-928c47fc48e3');\n",
       "var x = new MutationObserver(function (mutations, observer) {{\n",
       "        var display = window.getComputedStyle(gd).display;\n",
       "        if (!display || display === 'none') {{\n",
       "            console.log([gd, 'removed!']);\n",
       "            Plotly.purge(gd);\n",
       "            observer.disconnect();\n",
       "        }}\n",
       "}});\n",
       "\n",
       "// Listen for the removal of the full notebook cells\n",
       "var notebookContainer = gd.closest('#notebook-container');\n",
       "if (notebookContainer) {{\n",
       "    x.observe(notebookContainer, {childList: true});\n",
       "}}\n",
       "\n",
       "// Listen for the clearing of the current output cell\n",
       "var outputEl = gd.closest('.output');\n",
       "if (outputEl) {{\n",
       "    x.observe(outputEl, {childList: true});\n",
       "}}\n",
       "\n",
       "                        })                };                });            </script>        </div>"
      ]
     },
     "metadata": {},
     "output_type": "display_data"
    }
   ],
   "source": [
    "px.pie(fieldStatsDf, names='field', values='n_papers', height=600)"
   ]
  },
  {
   "cell_type": "code",
   "execution_count": 218,
   "id": "e9f20a34-29a3-4dd0-b6a2-216f736dabe4",
   "metadata": {},
   "outputs": [
    {
     "data": {
      "text/html": [
       "<div>\n",
       "<style scoped>\n",
       "    .dataframe tbody tr th:only-of-type {\n",
       "        vertical-align: middle;\n",
       "    }\n",
       "\n",
       "    .dataframe tbody tr th {\n",
       "        vertical-align: top;\n",
       "    }\n",
       "\n",
       "    .dataframe thead th {\n",
       "        text-align: right;\n",
       "    }\n",
       "</style>\n",
       "<table border=\"1\" class=\"dataframe\">\n",
       "  <thead>\n",
       "    <tr style=\"text-align: right;\">\n",
       "      <th></th>\n",
       "      <th>paperId</th>\n",
       "      <th>externalIds</th>\n",
       "      <th>url</th>\n",
       "      <th>title</th>\n",
       "      <th>abstract</th>\n",
       "      <th>venue</th>\n",
       "      <th>year</th>\n",
       "      <th>referenceCount</th>\n",
       "      <th>citationCount</th>\n",
       "      <th>influentialCitationCount</th>\n",
       "      <th>isOpenAccess</th>\n",
       "      <th>fieldsOfStudy</th>\n",
       "      <th>authors</th>\n",
       "    </tr>\n",
       "  </thead>\n",
       "  <tbody>\n",
       "    <tr>\n",
       "      <th>VDEEJGMF.json</th>\n",
       "      <td>02f3cf6681d4818fa61bd68b9102e468990cfcbf</td>\n",
       "      <td>{'MAG': '2741907776', 'DOI': '10.1097/ACM.0000...</td>\n",
       "      <td>https://www.semanticscholar.org/paper/02f3cf66...</td>\n",
       "      <td>On Overcoming Imposter Syndrome.</td>\n",
       "      <td>Academic Medicine, Vol. 92, No. 8 / August 201...</td>\n",
       "      <td>Academic medicine : journal of the Association...</td>\n",
       "      <td>2017</td>\n",
       "      <td>5</td>\n",
       "      <td>22</td>\n",
       "      <td>2</td>\n",
       "      <td>False</td>\n",
       "      <td>[Medicine]</td>\n",
       "      <td>[{'authorId': '1999945617', 'name': 'Rebecca R...</td>\n",
       "    </tr>\n",
       "    <tr>\n",
       "      <th>BMW3IWPH.json</th>\n",
       "      <td>cb8d9b56866470b44099a33f9f4f9d791d37d236</td>\n",
       "      <td>{'MAG': '2798497543'}</td>\n",
       "      <td>https://www.semanticscholar.org/paper/cb8d9b56...</td>\n",
       "      <td>Buda's Wagon: A Brief History of the Car Bomb</td>\n",
       "      <td>None</td>\n",
       "      <td></td>\n",
       "      <td>2007</td>\n",
       "      <td>0</td>\n",
       "      <td>46</td>\n",
       "      <td>4</td>\n",
       "      <td>False</td>\n",
       "      <td>[History]</td>\n",
       "      <td>[{'authorId': '118710965', 'name': 'M. Davis'}]</td>\n",
       "    </tr>\n",
       "    <tr>\n",
       "      <th>5D9IPFXG.json</th>\n",
       "      <td>7a30503932a4009aa5bd2b2d67712a55edd71b06</td>\n",
       "      <td>{'MAG': '2783095890'}</td>\n",
       "      <td>https://www.semanticscholar.org/paper/7a305039...</td>\n",
       "      <td>Technology vs. Humanity: The coming clash betw...</td>\n",
       "      <td>None</td>\n",
       "      <td></td>\n",
       "      <td>2016</td>\n",
       "      <td>0</td>\n",
       "      <td>26</td>\n",
       "      <td>1</td>\n",
       "      <td>False</td>\n",
       "      <td>[Sociology]</td>\n",
       "      <td>[{'authorId': '101671549', 'name': 'Gerd Leonh...</td>\n",
       "    </tr>\n",
       "    <tr>\n",
       "      <th>82TIUIHZ.json</th>\n",
       "      <td>9aa6574126be3a9567a9c1811c0fbef81c088c9f</td>\n",
       "      <td>{}</td>\n",
       "      <td>https://www.semanticscholar.org/paper/9aa65741...</td>\n",
       "      <td>Networked Theology: Negotiating Faith in Digit...</td>\n",
       "      <td>None</td>\n",
       "      <td></td>\n",
       "      <td>None</td>\n",
       "      <td>0</td>\n",
       "      <td>0</td>\n",
       "      <td>0</td>\n",
       "      <td>False</td>\n",
       "      <td>None</td>\n",
       "      <td>[{'authorId': '144257955', 'name': 'S. Garner'}]</td>\n",
       "    </tr>\n",
       "    <tr>\n",
       "      <th>USRDR4GH.json</th>\n",
       "      <td>e2314316300ed6c801398a135a3e0d5df048a894</td>\n",
       "      <td>{'MAG': '3106821106'}</td>\n",
       "      <td>https://www.semanticscholar.org/paper/e2314316...</td>\n",
       "      <td>[Review] The Age of AI: Artificial Intelligenc...</td>\n",
       "      <td>None</td>\n",
       "      <td></td>\n",
       "      <td>2020</td>\n",
       "      <td>0</td>\n",
       "      <td>0</td>\n",
       "      <td>0</td>\n",
       "      <td>False</td>\n",
       "      <td>[Psychology]</td>\n",
       "      <td>[{'authorId': '119564173', 'name': 'J. R. Paul...</td>\n",
       "    </tr>\n",
       "    <tr>\n",
       "      <th>...</th>\n",
       "      <td>...</td>\n",
       "      <td>...</td>\n",
       "      <td>...</td>\n",
       "      <td>...</td>\n",
       "      <td>...</td>\n",
       "      <td>...</td>\n",
       "      <td>...</td>\n",
       "      <td>...</td>\n",
       "      <td>...</td>\n",
       "      <td>...</td>\n",
       "      <td>...</td>\n",
       "      <td>...</td>\n",
       "      <td>...</td>\n",
       "    </tr>\n",
       "    <tr>\n",
       "      <th>M5YDMSXV.json</th>\n",
       "      <td>260cd45d1925551364ea4c6d02e3eebf79e48471</td>\n",
       "      <td>{'MAG': '1498112155', 'DOI': '10.4324/97813152...</td>\n",
       "      <td>https://www.semanticscholar.org/paper/260cd45d...</td>\n",
       "      <td>Do Artifacts Have Politics</td>\n",
       "      <td>In controversies about technology and society,...</td>\n",
       "      <td></td>\n",
       "      <td>2017</td>\n",
       "      <td>29</td>\n",
       "      <td>1211</td>\n",
       "      <td>26</td>\n",
       "      <td>True</td>\n",
       "      <td>[Political Science]</td>\n",
       "      <td>[{'authorId': '8074315', 'name': 'L. Winner'}]</td>\n",
       "    </tr>\n",
       "    <tr>\n",
       "      <th>2QGYL4FM.json</th>\n",
       "      <td>91e36e1c6e3d4a5bdc97fa5ab5b89bdf9113413d</td>\n",
       "      <td>{'MAG': '2189632871', 'DOI': '10.1177/20539517...</td>\n",
       "      <td>https://www.semanticscholar.org/paper/91e36e1c...</td>\n",
       "      <td>How the machine ‘thinks’: Understanding opacit...</td>\n",
       "      <td>This article considers the issue of opacity as...</td>\n",
       "      <td></td>\n",
       "      <td>2016</td>\n",
       "      <td>39</td>\n",
       "      <td>786</td>\n",
       "      <td>38</td>\n",
       "      <td>False</td>\n",
       "      <td>[Computer Science]</td>\n",
       "      <td>[{'authorId': '48129731', 'name': 'J. Burrell'}]</td>\n",
       "    </tr>\n",
       "    <tr>\n",
       "      <th>GKZGQRD8.json</th>\n",
       "      <td>5074cddca9b19ca13caedf709f874ae6d045c2ef</td>\n",
       "      <td>{'MAG': '1573875084', 'DOI': '10.31219/osf.io/...</td>\n",
       "      <td>https://www.semanticscholar.org/paper/5074cddc...</td>\n",
       "      <td>The Drama! Teen Conflict, Gossip, and Bullying...</td>\n",
       "      <td>While teenage conflict is nothing new, today’s...</td>\n",
       "      <td></td>\n",
       "      <td>2011</td>\n",
       "      <td>11</td>\n",
       "      <td>85</td>\n",
       "      <td>5</td>\n",
       "      <td>True</td>\n",
       "      <td>[Psychology]</td>\n",
       "      <td>[{'authorId': '2929988', 'name': 'Alice E. Mar...</td>\n",
       "    </tr>\n",
       "    <tr>\n",
       "      <th>I8UGLG4U.json</th>\n",
       "      <td>89990f961cd37ad576068b3a9af0a24a36c2fe65</td>\n",
       "      <td>{'MAG': '2331567494', 'DOI': '10.2139/SSRN.275...</td>\n",
       "      <td>https://www.semanticscholar.org/paper/89990f96...</td>\n",
       "      <td>Moral Crumple Zones: Cautionary Tales in Human...</td>\n",
       "      <td>A prevailing rhetoric in human-robot interacti...</td>\n",
       "      <td></td>\n",
       "      <td>2016</td>\n",
       "      <td>0</td>\n",
       "      <td>16</td>\n",
       "      <td>0</td>\n",
       "      <td>False</td>\n",
       "      <td>[Political Science]</td>\n",
       "      <td>[{'authorId': '21817215', 'name': 'M. Elish'}]</td>\n",
       "    </tr>\n",
       "    <tr>\n",
       "      <th>38U2K4YG.json</th>\n",
       "      <td>6f537e6de47bf5f3ea78a600cb01acc4b0f1c057</td>\n",
       "      <td>{}</td>\n",
       "      <td>https://www.semanticscholar.org/paper/6f537e6d...</td>\n",
       "      <td>Governing Global Electronic Networks</td>\n",
       "      <td>None</td>\n",
       "      <td></td>\n",
       "      <td>2008</td>\n",
       "      <td>0</td>\n",
       "      <td>6</td>\n",
       "      <td>1</td>\n",
       "      <td>False</td>\n",
       "      <td>None</td>\n",
       "      <td>[{'authorId': '89899572', 'name': 'Preface'}]</td>\n",
       "    </tr>\n",
       "  </tbody>\n",
       "</table>\n",
       "<p>274 rows × 13 columns</p>\n",
       "</div>"
      ],
      "text/plain": [
       "                                                paperId  \\\n",
       "VDEEJGMF.json  02f3cf6681d4818fa61bd68b9102e468990cfcbf   \n",
       "BMW3IWPH.json  cb8d9b56866470b44099a33f9f4f9d791d37d236   \n",
       "5D9IPFXG.json  7a30503932a4009aa5bd2b2d67712a55edd71b06   \n",
       "82TIUIHZ.json  9aa6574126be3a9567a9c1811c0fbef81c088c9f   \n",
       "USRDR4GH.json  e2314316300ed6c801398a135a3e0d5df048a894   \n",
       "...                                                 ...   \n",
       "M5YDMSXV.json  260cd45d1925551364ea4c6d02e3eebf79e48471   \n",
       "2QGYL4FM.json  91e36e1c6e3d4a5bdc97fa5ab5b89bdf9113413d   \n",
       "GKZGQRD8.json  5074cddca9b19ca13caedf709f874ae6d045c2ef   \n",
       "I8UGLG4U.json  89990f961cd37ad576068b3a9af0a24a36c2fe65   \n",
       "38U2K4YG.json  6f537e6de47bf5f3ea78a600cb01acc4b0f1c057   \n",
       "\n",
       "                                                     externalIds  \\\n",
       "VDEEJGMF.json  {'MAG': '2741907776', 'DOI': '10.1097/ACM.0000...   \n",
       "BMW3IWPH.json                              {'MAG': '2798497543'}   \n",
       "5D9IPFXG.json                              {'MAG': '2783095890'}   \n",
       "82TIUIHZ.json                                                 {}   \n",
       "USRDR4GH.json                              {'MAG': '3106821106'}   \n",
       "...                                                          ...   \n",
       "M5YDMSXV.json  {'MAG': '1498112155', 'DOI': '10.4324/97813152...   \n",
       "2QGYL4FM.json  {'MAG': '2189632871', 'DOI': '10.1177/20539517...   \n",
       "GKZGQRD8.json  {'MAG': '1573875084', 'DOI': '10.31219/osf.io/...   \n",
       "I8UGLG4U.json  {'MAG': '2331567494', 'DOI': '10.2139/SSRN.275...   \n",
       "38U2K4YG.json                                                 {}   \n",
       "\n",
       "                                                             url  \\\n",
       "VDEEJGMF.json  https://www.semanticscholar.org/paper/02f3cf66...   \n",
       "BMW3IWPH.json  https://www.semanticscholar.org/paper/cb8d9b56...   \n",
       "5D9IPFXG.json  https://www.semanticscholar.org/paper/7a305039...   \n",
       "82TIUIHZ.json  https://www.semanticscholar.org/paper/9aa65741...   \n",
       "USRDR4GH.json  https://www.semanticscholar.org/paper/e2314316...   \n",
       "...                                                          ...   \n",
       "M5YDMSXV.json  https://www.semanticscholar.org/paper/260cd45d...   \n",
       "2QGYL4FM.json  https://www.semanticscholar.org/paper/91e36e1c...   \n",
       "GKZGQRD8.json  https://www.semanticscholar.org/paper/5074cddc...   \n",
       "I8UGLG4U.json  https://www.semanticscholar.org/paper/89990f96...   \n",
       "38U2K4YG.json  https://www.semanticscholar.org/paper/6f537e6d...   \n",
       "\n",
       "                                                           title  \\\n",
       "VDEEJGMF.json                   On Overcoming Imposter Syndrome.   \n",
       "BMW3IWPH.json      Buda's Wagon: A Brief History of the Car Bomb   \n",
       "5D9IPFXG.json  Technology vs. Humanity: The coming clash betw...   \n",
       "82TIUIHZ.json  Networked Theology: Negotiating Faith in Digit...   \n",
       "USRDR4GH.json  [Review] The Age of AI: Artificial Intelligenc...   \n",
       "...                                                          ...   \n",
       "M5YDMSXV.json                         Do Artifacts Have Politics   \n",
       "2QGYL4FM.json  How the machine ‘thinks’: Understanding opacit...   \n",
       "GKZGQRD8.json  The Drama! Teen Conflict, Gossip, and Bullying...   \n",
       "I8UGLG4U.json  Moral Crumple Zones: Cautionary Tales in Human...   \n",
       "38U2K4YG.json               Governing Global Electronic Networks   \n",
       "\n",
       "                                                        abstract  \\\n",
       "VDEEJGMF.json  Academic Medicine, Vol. 92, No. 8 / August 201...   \n",
       "BMW3IWPH.json                                               None   \n",
       "5D9IPFXG.json                                               None   \n",
       "82TIUIHZ.json                                               None   \n",
       "USRDR4GH.json                                               None   \n",
       "...                                                          ...   \n",
       "M5YDMSXV.json  In controversies about technology and society,...   \n",
       "2QGYL4FM.json  This article considers the issue of opacity as...   \n",
       "GKZGQRD8.json  While teenage conflict is nothing new, today’s...   \n",
       "I8UGLG4U.json  A prevailing rhetoric in human-robot interacti...   \n",
       "38U2K4YG.json                                               None   \n",
       "\n",
       "                                                           venue  year  \\\n",
       "VDEEJGMF.json  Academic medicine : journal of the Association...  2017   \n",
       "BMW3IWPH.json                                                     2007   \n",
       "5D9IPFXG.json                                                     2016   \n",
       "82TIUIHZ.json                                                     None   \n",
       "USRDR4GH.json                                                     2020   \n",
       "...                                                          ...   ...   \n",
       "M5YDMSXV.json                                                     2017   \n",
       "2QGYL4FM.json                                                     2016   \n",
       "GKZGQRD8.json                                                     2011   \n",
       "I8UGLG4U.json                                                     2016   \n",
       "38U2K4YG.json                                                     2008   \n",
       "\n",
       "              referenceCount citationCount influentialCitationCount  \\\n",
       "VDEEJGMF.json              5            22                        2   \n",
       "BMW3IWPH.json              0            46                        4   \n",
       "5D9IPFXG.json              0            26                        1   \n",
       "82TIUIHZ.json              0             0                        0   \n",
       "USRDR4GH.json              0             0                        0   \n",
       "...                      ...           ...                      ...   \n",
       "M5YDMSXV.json             29          1211                       26   \n",
       "2QGYL4FM.json             39           786                       38   \n",
       "GKZGQRD8.json             11            85                        5   \n",
       "I8UGLG4U.json              0            16                        0   \n",
       "38U2K4YG.json              0             6                        1   \n",
       "\n",
       "              isOpenAccess        fieldsOfStudy  \\\n",
       "VDEEJGMF.json        False           [Medicine]   \n",
       "BMW3IWPH.json        False            [History]   \n",
       "5D9IPFXG.json        False          [Sociology]   \n",
       "82TIUIHZ.json        False                 None   \n",
       "USRDR4GH.json        False         [Psychology]   \n",
       "...                    ...                  ...   \n",
       "M5YDMSXV.json         True  [Political Science]   \n",
       "2QGYL4FM.json        False   [Computer Science]   \n",
       "GKZGQRD8.json         True         [Psychology]   \n",
       "I8UGLG4U.json        False  [Political Science]   \n",
       "38U2K4YG.json        False                 None   \n",
       "\n",
       "                                                         authors  \n",
       "VDEEJGMF.json  [{'authorId': '1999945617', 'name': 'Rebecca R...  \n",
       "BMW3IWPH.json    [{'authorId': '118710965', 'name': 'M. Davis'}]  \n",
       "5D9IPFXG.json  [{'authorId': '101671549', 'name': 'Gerd Leonh...  \n",
       "82TIUIHZ.json   [{'authorId': '144257955', 'name': 'S. Garner'}]  \n",
       "USRDR4GH.json  [{'authorId': '119564173', 'name': 'J. R. Paul...  \n",
       "...                                                          ...  \n",
       "M5YDMSXV.json     [{'authorId': '8074315', 'name': 'L. Winner'}]  \n",
       "2QGYL4FM.json   [{'authorId': '48129731', 'name': 'J. Burrell'}]  \n",
       "GKZGQRD8.json  [{'authorId': '2929988', 'name': 'Alice E. Mar...  \n",
       "I8UGLG4U.json     [{'authorId': '21817215', 'name': 'M. Elish'}]  \n",
       "38U2K4YG.json      [{'authorId': '89899572', 'name': 'Preface'}]  \n",
       "\n",
       "[274 rows x 13 columns]"
      ]
     },
     "execution_count": 218,
     "metadata": {},
     "output_type": "execute_result"
    }
   ],
   "source": [
    "df"
   ]
  },
  {
   "cell_type": "code",
   "execution_count": 219,
   "id": "1ce3610a-0d72-4f7f-881c-f1a6af5352f3",
   "metadata": {},
   "outputs": [
    {
     "data": {
      "text/plain": [
       "Index(['paperId', 'externalIds', 'url', 'title', 'abstract', 'venue', 'year',\n",
       "       'referenceCount', 'citationCount', 'influentialCitationCount',\n",
       "       'isOpenAccess', 'fieldsOfStudy', 'authors'],\n",
       "      dtype='object')"
      ]
     },
     "execution_count": 219,
     "metadata": {},
     "output_type": "execute_result"
    }
   ],
   "source": [
    "df.columns"
   ]
  },
  {
   "cell_type": "markdown",
   "id": "8dfc7237-1c20-456b-a3b4-91da2d4ea4e3",
   "metadata": {},
   "source": [
    "## Derive document embeddings, reduce with PCA, visualize"
   ]
  },
  {
   "cell_type": "code",
   "execution_count": 13,
   "id": "32635c30-5495-4bf1-87fd-70dfbe3bdea3",
   "metadata": {},
   "outputs": [],
   "source": [
    "docsWithAbstractsDict = docsWithAbstracts.to_dict()"
   ]
  },
  {
   "cell_type": "code",
   "execution_count": 14,
   "id": "3cafd46e-ae62-4aa7-8a41-7044ea985f71",
   "metadata": {},
   "outputs": [],
   "source": [
    "labels = []\n",
    "abstractDocs = []\n",
    "for i, row in docsWithAbstracts.iterrows(): \n",
    "    abstractDocs.append(nlp(row['abstract']))\n",
    "    labels.append(row['title'])"
   ]
  },
  {
   "cell_type": "code",
   "execution_count": 15,
   "id": "480d544f-b95d-41f1-9ec5-bffd9598d596",
   "metadata": {},
   "outputs": [],
   "source": [
    "vecs = [doc.vector for doc in abstractDocs]"
   ]
  },
  {
   "cell_type": "code",
   "execution_count": 16,
   "id": "59d50b39-fcaa-45fb-a875-20c59a8c31a6",
   "metadata": {},
   "outputs": [],
   "source": [
    "pca = PCA(n_components=3)"
   ]
  },
  {
   "cell_type": "code",
   "execution_count": 17,
   "id": "9f6eda14-3251-410b-abfe-d8f2138d54bd",
   "metadata": {},
   "outputs": [],
   "source": [
    "threeDimensionalVecs = pca.fit_transform(vecs)"
   ]
  },
  {
   "cell_type": "code",
   "execution_count": 18,
   "id": "75b6a504-5b98-41d7-a799-c787da43ddc3",
   "metadata": {},
   "outputs": [],
   "source": [
    "df3d = pd.DataFrame(threeDimensionalVecs, index=labels)"
   ]
  },
  {
   "cell_type": "code",
   "execution_count": 19,
   "id": "4f4097bb-b3e5-4054-b113-24b6c134ed7e",
   "metadata": {},
   "outputs": [],
   "source": [
    "df3d['title'] = df3d.index"
   ]
  },
  {
   "cell_type": "code",
   "execution_count": 20,
   "id": "0975649a-a881-4f54-bca4-6c5f6bf5e915",
   "metadata": {},
   "outputs": [
    {
     "data": {
      "text/html": [
       "<div>\n",
       "<style scoped>\n",
       "    .dataframe tbody tr th:only-of-type {\n",
       "        vertical-align: middle;\n",
       "    }\n",
       "\n",
       "    .dataframe tbody tr th {\n",
       "        vertical-align: top;\n",
       "    }\n",
       "\n",
       "    .dataframe thead th {\n",
       "        text-align: right;\n",
       "    }\n",
       "</style>\n",
       "<table border=\"1\" class=\"dataframe\">\n",
       "  <thead>\n",
       "    <tr style=\"text-align: right;\">\n",
       "      <th></th>\n",
       "      <th>0</th>\n",
       "      <th>1</th>\n",
       "      <th>2</th>\n",
       "      <th>title</th>\n",
       "    </tr>\n",
       "  </thead>\n",
       "  <tbody>\n",
       "    <tr>\n",
       "      <th>On Overcoming Imposter Syndrome.</th>\n",
       "      <td>-0.053554</td>\n",
       "      <td>-0.115794</td>\n",
       "      <td>0.049201</td>\n",
       "      <td>On Overcoming Imposter Syndrome.</td>\n",
       "    </tr>\n",
       "    <tr>\n",
       "      <th>The Breakup 2.0: Disconnecting over New Media</th>\n",
       "      <td>-0.136819</td>\n",
       "      <td>-0.163527</td>\n",
       "      <td>0.360202</td>\n",
       "      <td>The Breakup 2.0: Disconnecting over New Media</td>\n",
       "    </tr>\n",
       "    <tr>\n",
       "      <th>Introduction to Web Accessibility</th>\n",
       "      <td>-0.320572</td>\n",
       "      <td>0.144301</td>\n",
       "      <td>-0.031839</td>\n",
       "      <td>Introduction to Web Accessibility</td>\n",
       "    </tr>\n",
       "    <tr>\n",
       "      <th>The Computer from Pascal to von Neumann</th>\n",
       "      <td>0.176389</td>\n",
       "      <td>-0.307023</td>\n",
       "      <td>0.229065</td>\n",
       "      <td>The Computer from Pascal to von Neumann</td>\n",
       "    </tr>\n",
       "    <tr>\n",
       "      <th>UNESCO and INFOethics: Seeking global ethical values in the Information Society</th>\n",
       "      <td>-0.167124</td>\n",
       "      <td>0.223986</td>\n",
       "      <td>-0.170036</td>\n",
       "      <td>UNESCO and INFOethics: Seeking global ethical ...</td>\n",
       "    </tr>\n",
       "    <tr>\n",
       "      <th>...</th>\n",
       "      <td>...</td>\n",
       "      <td>...</td>\n",
       "      <td>...</td>\n",
       "      <td>...</td>\n",
       "    </tr>\n",
       "    <tr>\n",
       "      <th>Review: The Social Shaping of Technology</th>\n",
       "      <td>0.071699</td>\n",
       "      <td>-0.229546</td>\n",
       "      <td>0.370591</td>\n",
       "      <td>Review: The Social Shaping of Technology</td>\n",
       "    </tr>\n",
       "    <tr>\n",
       "      <th>Do Artifacts Have Politics</th>\n",
       "      <td>-0.033217</td>\n",
       "      <td>-0.120698</td>\n",
       "      <td>0.134927</td>\n",
       "      <td>Do Artifacts Have Politics</td>\n",
       "    </tr>\n",
       "    <tr>\n",
       "      <th>How the machine ‘thinks’: Understanding opacity in machine learning algorithms</th>\n",
       "      <td>-0.104938</td>\n",
       "      <td>0.035229</td>\n",
       "      <td>-0.232185</td>\n",
       "      <td>How the machine ‘thinks’: Understanding opacit...</td>\n",
       "    </tr>\n",
       "    <tr>\n",
       "      <th>The Drama! Teen Conflict, Gossip, and Bullying in Networked Publics</th>\n",
       "      <td>-0.076307</td>\n",
       "      <td>-0.063573</td>\n",
       "      <td>0.130439</td>\n",
       "      <td>The Drama! Teen Conflict, Gossip, and Bullying...</td>\n",
       "    </tr>\n",
       "    <tr>\n",
       "      <th>Moral Crumple Zones: Cautionary Tales in Human-Robot Interaction (We Robot 2016)</th>\n",
       "      <td>-0.283736</td>\n",
       "      <td>0.116917</td>\n",
       "      <td>0.054678</td>\n",
       "      <td>Moral Crumple Zones: Cautionary Tales in Human...</td>\n",
       "    </tr>\n",
       "  </tbody>\n",
       "</table>\n",
       "<p>205 rows × 4 columns</p>\n",
       "</div>"
      ],
      "text/plain": [
       "                                                           0         1  \\\n",
       "On Overcoming Imposter Syndrome.                   -0.053554 -0.115794   \n",
       "The Breakup 2.0: Disconnecting over New Media      -0.136819 -0.163527   \n",
       "Introduction to Web Accessibility                  -0.320572  0.144301   \n",
       "The Computer from Pascal to von Neumann             0.176389 -0.307023   \n",
       "UNESCO and INFOethics: Seeking global ethical v... -0.167124  0.223986   \n",
       "...                                                      ...       ...   \n",
       "Review: The Social Shaping of Technology            0.071699 -0.229546   \n",
       "Do Artifacts Have Politics                         -0.033217 -0.120698   \n",
       "How the machine ‘thinks’: Understanding opacity... -0.104938  0.035229   \n",
       "The Drama! Teen Conflict, Gossip, and Bullying ... -0.076307 -0.063573   \n",
       "Moral Crumple Zones: Cautionary Tales in Human-... -0.283736  0.116917   \n",
       "\n",
       "                                                           2  \\\n",
       "On Overcoming Imposter Syndrome.                    0.049201   \n",
       "The Breakup 2.0: Disconnecting over New Media       0.360202   \n",
       "Introduction to Web Accessibility                  -0.031839   \n",
       "The Computer from Pascal to von Neumann             0.229065   \n",
       "UNESCO and INFOethics: Seeking global ethical v... -0.170036   \n",
       "...                                                      ...   \n",
       "Review: The Social Shaping of Technology            0.370591   \n",
       "Do Artifacts Have Politics                          0.134927   \n",
       "How the machine ‘thinks’: Understanding opacity... -0.232185   \n",
       "The Drama! Teen Conflict, Gossip, and Bullying ...  0.130439   \n",
       "Moral Crumple Zones: Cautionary Tales in Human-...  0.054678   \n",
       "\n",
       "                                                                                                title  \n",
       "On Overcoming Imposter Syndrome.                                     On Overcoming Imposter Syndrome.  \n",
       "The Breakup 2.0: Disconnecting over New Media           The Breakup 2.0: Disconnecting over New Media  \n",
       "Introduction to Web Accessibility                                   Introduction to Web Accessibility  \n",
       "The Computer from Pascal to von Neumann                       The Computer from Pascal to von Neumann  \n",
       "UNESCO and INFOethics: Seeking global ethical v...  UNESCO and INFOethics: Seeking global ethical ...  \n",
       "...                                                                                               ...  \n",
       "Review: The Social Shaping of Technology                     Review: The Social Shaping of Technology  \n",
       "Do Artifacts Have Politics                                                 Do Artifacts Have Politics  \n",
       "How the machine ‘thinks’: Understanding opacity...  How the machine ‘thinks’: Understanding opacit...  \n",
       "The Drama! Teen Conflict, Gossip, and Bullying ...  The Drama! Teen Conflict, Gossip, and Bullying...  \n",
       "Moral Crumple Zones: Cautionary Tales in Human-...  Moral Crumple Zones: Cautionary Tales in Human...  \n",
       "\n",
       "[205 rows x 4 columns]"
      ]
     },
     "execution_count": 20,
     "metadata": {},
     "output_type": "execute_result"
    }
   ],
   "source": [
    "df3d"
   ]
  },
  {
   "cell_type": "code",
   "execution_count": 217,
   "id": "b1bada13-a5c0-42b4-a837-5f1ecab5ad58",
   "metadata": {},
   "outputs": [
    {
     "data": {
      "application/vnd.plotly.v1+json": {
       "config": {
        "plotlyServerURL": "https://plot.ly"
       },
       "data": [
        {
         "hovertemplate": "<b>%{hovertext}</b><br><br>0=%{x}<br>1=%{y}<br>2=%{z}<extra></extra>",
         "hovertext": [
          "On Overcoming Imposter Syndrome.",
          "The Breakup 2.0: Disconnecting over New Media",
          "Introduction to Web Accessibility",
          "The Computer from Pascal to von Neumann",
          "UNESCO and INFOethics: Seeking global ethical values in the Information Society",
          "Predicting Financial Crime: Augmenting the Predictive Policing Arsenal",
          "The Influence of Gender-Ethnic Intersectionality on Gender Stereotypes about IT Skills and Knowledge",
          "Algorithms in practice: Comparing web journalism and criminal justice",
          "Philosophical Devices: Proofs, Probabilities, Possibilities, and Sets",
          "Race and racism in Internet Studies: A review and critique",
          "The Singularity Is Near: When Humans Transcend Biology",
          "Big Data Surveillance: The Case of Policing",
          "Typologie des risques pour une analyse éthique de l'impact des technologies du TAL",
          "Recoding Gender: Women's Changing Participation in Computing",
          "The Social Life of Money",
          "Site Selection Bias in Program Evaluation",
          "Beginner's Guide to SEO",
          "Éthique et traitement automatique des langues et de la parole : entre truismes et tabous",
          "Why media companies insist they're not media companies, why they're wrong, and why it matters",
          "Beyond the Belmont Principles: Ethical Challenges, Practices, and Beliefs in the Online Data Research Community",
          "Gender and Diversity in Collaborative Virtual Teams",
          "What you can do.",
          "America Calling: A Social History of the Telephone to 1940",
          "Accounting for Market Frictions and Power Asymmetries in Online Labor Markets",
          "The philosopher's toolkit : a compendium of philosophical concepts and methods",
          "\"Algorithms ruin everything\": #RIPTwitter, Folk Theories, and Resistance to Algorithmic Change in Social Media",
          "Usability Testing Report",
          "Big Data ethics",
          "Ambient belonging: how stereotypical cues impact gender participation in computer science.",
          "Tweetment Effects on the Tweeted: Experimentally Reducing Racist Harassment",
          "The human use of human beings - cybernetics and society",
          "Why librarians can’t fight fake news",
          "Through the Google Goggles: Sociopolitical Bias in Search Engine Design",
          "\"Touch Someone\": The Telephone Industry Discovers Sociability",
          "Digital Materialisms: Frameworks for Digital Media Studies",
          "FROM EDITORS TO ALGORITHMS A Values-Based Approach to Understanding Story Selection in the Facebook News Feed",
          "The Onlife Manifesto: Being Human in a Hyperconnected Era",
          "Artificial Intelligence's White Guy Problem",
          "Technologies of the Gendered Body: Reading Cyborg Women",
          "Transhumanism and the Image of God. Today’s Technology and the Future of Christian Discipleship",
          "Blended, Not Bossy: Ethics Roles, Responsibilities and Expertise in Design",
          "Embodying values in technology: Theory and practice",
          "Scholarly Communication: Cultural Contexts, Evolving Models",
          "The ethics of algorithms: Mapping the debate",
          "Emotional selection in memes: the case of urban legends.",
          "Proven practices that can reduce stereotype threat in engineering education: A literature review",
          "Automated Media: An Institutional Theory Perspective on Algorithmic Media Production and Consumption",
          "Learning consumption: Media, literacy, and the legacy of One Laptop per Child",
          "The digital phoenix : how computers are changing philosophy",
          "Our metrics, ourselves: A hundred years of self-tracking from the weight scale to the wrist wearable device",
          "Car Troubles: Critical Studies of Automobility and Auto-Mobility",
          "The Watcher and the Watched: Social Judgments about Privacy in a Public Place",
          "The strategic role of technology in a good society",
          "Technology hype versus enduring uses: A longitudinal study of Internet use among early adopters in an African city",
          "Geek Heresy: Rescuing Social Change from the Cult of Technology",
          "Cyberspace and International Law: The Penumbral Mist of Uncertainty",
          "Can Technology Embody Values",
          "Why a Right to Explanation of Automated Decision-Making Does Not Exist in the General Data Protection Regulation",
          "Machines of Loving Grace: The Quest for Common Ground Between Humans and Robots",
          "Logic: A Very Short Introduction",
          "It’s Complicated: The Social Lives of Networked Teens",
          "The Master Algorithm: How the Quest for the Ultimate Learning Machine Will Remake Our World",
          "Three Views of Logic: Mathematics, Philosophy, and Computer Science",
          "Big Data for All: Privacy and User Control in the Age of Analytics",
          "Value scenarios: a technique for envisioning systemic effects of new technologies",
          "Beyond distributions and primary goods: Assessing applications of rawls in information science and technology literature since 1990",
          "Thinking through technology : the path between engineering and philosophy",
          "Gender-based violence in 140 characters or fewer: a #BigData case study of Twitter",
          "Want to be on the top? Algorithmic power and the threat of invisibility on Facebook",
          "A Gift of Fire: Social, Legal, and Ethical Issues for Computing and the Internet",
          "The Whale and the Reactor",
          "All I really need to know about pair programming I learned in kindergarten",
          "Curation by code: Infomediaries and the data mining of taste",
          "'I've Got Nothing to Hide' and Other Misunderstandings of Privacy",
          "Full-cycle social psychology for theory and application.",
          "The Tyranny of Structurelessness",
          "The Ethnography of Infrastructure",
          "Experimental evidence of massive-scale emotional contagion through social networks.",
          "Managing social norms for persuasive impact",
          "Indigenous Circuits: Navajo Women and the Racialization of Early Electronic Manufacture",
          "The like economy: Social buttons and the data-intensive web",
          "Estimation and Inference of Heterogeneous Treatment Effects using Random Forests",
          "Good Faith Collaboration: The Culture of Wikipedia",
          "Exceptional Engineering: Challenges and Opportunities for Socially Just Engineering in Non-governmental Organizations in Colombia",
          "'I've Got Nothing to Hide' and Other Misunderstandings of Privacy",
          "Wired for War: The Robotics Revolution and Conflict in the 21st Century",
          "Professional values and ethics as defined by the LIS discipline",
          "The social shaping of technology",
          "Rise of the Robots: Technology and the Threat of a Jobless Future, by Martin Ford",
          "Logic in computer science - modelling and reasoning about systems (2. ed.)",
          "Reset: Reclaiming the Internet for Civil Society",
          "“Guns Don’t Kill, People Kill”; Values in and/or Around Technologies",
          "Dealing with digital intermediaries: A case study of the relations between publishers and platforms",
          "Semantics derived automatically from language corpora contain human-like biases",
          "The IRA, Social Media and Political Polarization in the United States, 2012-2018",
          "Big Data's Disparate Impact",
          "Determining Whether Commercial Publishers Overcharge Libraries for Scholarly Journals in the Fields of Science, Technology, and Medicine, with a Semilogarithmic Econometric Model",
          "Trigger-Action Programming in the Wild: An Analysis of 200,000 IFTTT Recipes",
          "The Data Base for Advances in Information Systems",
          "What ever happened to accountability?",
          "GENDER, RACE, AND MERITOCRACY IN ORGANIZATIONAL CAREERS.",
          "What Do We Talk About When We Talk About Dashboards?",
          "Just Information Warfare",
          "The Visible Hand: Race and Online Market Outcomes",
          "Leo Marx's The Machine in the Garden",
          "Social Justice as Topic and Tool: An Attempt to Transform an LIS Curriculum and Culture",
          "Algorithms in practice: Comparing web journalism and criminal justice",
          "Understanding Media: The Extensions of Man",
          "Self-Tracking",
          "Technology and the Virtues: A Philosophical Guide to a Future Worth Wanting",
          "Telemedicine in the Era of COVID-19",
          "Making technology homey: finding sources of satisfaction and meaning in home automation",
          "Recommended for you: The Netflix Prize and the production of algorithmic culture",
          "Feminist Theories of Technology",
          "Inherent Trade-Offs in the Fair Determination of Risk Scores",
          "We Have Never Been Modern",
          "Reconsidering the ‘Right to be Forgotten’ – memory rights and the right to memory in the new media era",
          "SELECT * FROM USER: infrastructure and socio-technical representation",
          "The Role of Ethics in the Commercialization of Indigenous Knowledge",
          "A game design methodology to incorporate social activist themes",
          "Burning Man at Google: a cultural infrastructure for new media production",
          "An Open Access Overview",
          "Discriminating Tastes: Customer Ratings as Vehicles for Bias",
          "User Perception of Facebook App Data Access: A Comparison of Methods and Privacy Concerns",
          "Hacking tech'S diversity problem",
          "Charting Sociotechnical Dimensions of Values for Design Research",
          "Interface Design",
          "Evocative Objects: Things We Think With",
          "Online file sharing: resolving the tensions between privacy and property interests",
          "Do Gays Shy Away from Competition? Do Lesbians Compete Too Much?",
          "Pax Technica: How the Internet of Things May Set Us Free or Lock Us Up",
          "What happens before? A field experiment exploring how pay and representation differentially shape bias on the pathway into organizations.",
          "Toward a comprehensive understanding of executive cognitive function in implicit racial bias.",
          "The Cambridge Handbook Of Information And Computer Ethics",
          "Lance Strate. Amazing Ourselves to Death: Neil Postman's Brave New World Revisited",
          "A Small World: Smart Houses and the Dream of the Perfect Day",
          "How Should the Law Think About Robots",
          "Gender, Representation and Online Participation: A Quantitative Study of StackOverflow",
          "Regional Advantage: Culture and Competition in Silicon Valley and Route 128",
          "Ambient Intelligence and Persuasive Technology: The Blurring Boundaries Between Human and Technology",
          "Situating Digital Interventions: Mixed Methods for HCI Research in the Home",
          "Web-Based Experiments for the Study of Collective Social Dynamics in Cultural Markets",
          "Problems Of Philosophy",
          "Annotateurs volontaires investis et éthique de l'annotation de lettres de suicidés",
          "Disability, human rights, and social justice: The ongoing struggle for online accessibility and equality",
          "Automation, Algorithms, and Politics | When the Algorithm Itself is a Racist: Diagnosing Ethical Harm in the Basic Components of Software",
          "The Ethics of Big Data: Current and Foreseeable Issues in Biomedical Contexts",
          "Review of \"Weapons of Math Destruction: How Big Data Increases Inequality and Threatens Democracy\" by Cathy O’Neil",
          "Persistence Is Cultural: Professional Socialization and the Reproduction of Sex Segregation",
          "It, Gender, and Professional Practice: Or, Why an Automated Drug Distribution System Was Sent Back to the Manufacturer",
          "Do Artifacts Have Politics",
          "Moral Machines?",
          "Knowledge exchange processes in organizations and policy arenas: a narrative systematic review of the literature.",
          "Critical Making: Conceptual and Material Studies in Technology and Social Life",
          "Card-sorting",
          "The algorithmic imaginary: exploring the ordinary affects of Facebook algorithms",
          "First I \"like\" it, then I hide it: Folk Theories of Social Feeds",
          "Authoritarian and Democratic Technics",
          "Working Algorithms: Software Automation and the Future of Work",
          "Upon Opening the Black Box and Finding It Empty: Social Constructivism and the Philosophy of Technology",
          "Technology and Social Control",
          "A 61-million-person experiment in social influence and political mobilization",
          "Environmental, social, and economic implications of global reuse and recycling of personal computers.",
          "The charisma machine: The life, death, and legacy of one laptop per child",
          "Television: Technology and Cultural Form",
          "Big Data Surveillance: The Case of Policing",
          "Values and pragmatic action: The challenges of introducing ethical intelligence in technical design communities",
          "In the Chamber of Risks: Understanding Risk Controversies",
          "Bots as Virtual Confederates: Design and Ethics",
          "Technology and the Virtues: A Philosophical Guide to a Future Worth Wanting",
          "Even facts cannot change our minds",
          "Computer-Supported Collaborative Learning: Best Practices and Principles for Instructors",
          "Do Artifacts Have Politics",
          "Do Health and Forensic DNA Databases Increase Racial Disparities?",
          "Alternative Design Scholarship: Working Toward Appropriate Design",
          "The design philosophy of the DARPA Internet Protocols",
          "Weapons of Math Destruction",
          "The Social Impact of Natural Language Processing",
          "Who Controls the Internet? Illusions of a Borderless World",
          "The culture of narcissism.",
          "Blown to Bits: Your Life, Liberty, and Happiness After the Digital Explosion",
          "An Open Access Overview",
          "Tweetment Effects on the Tweeted: Experimentally Reducing Racist Harassment",
          "The digital production gap: The digital divide and Web 2.0 collide",
          "American Girls: Social Media and the Secret Lives of Teenagers",
          "Afterword",
          "Machine Learning and the Rule of Law",
          "When Computers Were Women",
          "Locating the wrongness in ultra-violent video games",
          "Algorithmic Ideology: How Capitalist Society Shapes Search Engines",
          "The work of sustaining order in wikipedia: the banning of a vandal",
          "Moral Predators: The Duty to Employ Uninhabited Aerial Vehicles",
          "Stuck in the Shallow End: Education, Race, and Computing",
          "Social Network Sites as Networked Publics: Affordances, Dynamics, and Implications",
          "John Cheney-Lippold, We Are Data: Algorithms and the Making of Our Digital Selves",
          "Seeing without knowing: Limitations of the transparency ideal and its application to algorithmic accountability",
          "Using Dublin Core",
          "Autonomous technology and the greater human good",
          "The spread of true and false news online",
          "Leadership: Theory and Practice",
          "Review: The Social Shaping of Technology",
          "Do Artifacts Have Politics",
          "How the machine ‘thinks’: Understanding opacity in machine learning algorithms",
          "The Drama! Teen Conflict, Gossip, and Bullying in Networked Publics",
          "Moral Crumple Zones: Cautionary Tales in Human-Robot Interaction (We Robot 2016)"
         ],
         "legendgroup": "",
         "marker": {
          "color": "#636efa",
          "symbol": "circle"
         },
         "mode": "markers",
         "name": "",
         "scene": "scene",
         "showlegend": false,
         "type": "scatter3d",
         "x": [
          -0.053553960531559065,
          -0.1368192888664229,
          -0.3205715121060522,
          0.17638921743132452,
          -0.16712360238853993,
          -0.0019684237081179752,
          -0.4364188405296692,
          -0.19208887083284948,
          0.49237707769366756,
          -0.1699666650760871,
          -0.05290719817991359,
          -0.16761694552769668,
          3.6617423797417823,
          -0.052205717421586514,
          -0.14091253222483183,
          0.05987394073664774,
          -0.20362431597378894,
          3.6813907370665007,
          -0.3038838399623947,
          -0.3022809384477889,
          -0.34916602509060385,
          0.11782173865588258,
          -0.013053072375699408,
          -0.18325374670852743,
          0.9935855339351413,
          -0.12483699174589777,
          -0.10997146963186596,
          -0.35580369914577376,
          -0.16022652813996932,
          0.067994155519042,
          -0.2004670598770327,
          -0.11662335306537877,
          -0.12257086526800465,
          -0.1765814327030851,
          -0.1756007989033796,
          0.34677011276449443,
          -0.2374486947560452,
          0.005741413521251476,
          -0.0902183046377198,
          2.2450118251554683,
          -0.17301566748666286,
          -0.09232984435059892,
          -0.30149141519240563,
          -0.39730359312265584,
          -0.06538190815510263,
          -0.27458757926307276,
          -0.426027269954603,
          0.03502561753620298,
          0.892608213740017,
          -0.22887269734821827,
          0.7982122352250077,
          0.024644546059954916,
          -0.281957173985254,
          -0.03539424301913306,
          0.12528805996005554,
          -0.2549099310605363,
          -0.21512682433420194,
          -0.1726047672552767,
          -0.14180936745875836,
          -0.22752125872175596,
          0.022402340434428715,
          0.01741949855122201,
          -0.08437486072515896,
          -0.30933618815915936,
          -0.2666046228455813,
          -0.08769559213538929,
          -0.15071647218049417,
          -0.12589154976152597,
          -0.016784063061165283,
          0.38586060941646927,
          0.005794438768481381,
          -0.06846604106795355,
          -0.1371063306765439,
          -0.09888912748778242,
          -0.36454654240771917,
          -0.33660786250012864,
          -0.2899678224251363,
          -0.050998832757493166,
          -0.0008408647206044406,
          -0.004109033692439124,
          -0.13773475334612056,
          -0.10140845838044824,
          0.039047550683163415,
          -0.28261353545197515,
          -0.09888912748778242,
          -0.1190648227185562,
          -0.4377899026780185,
          -0.14861687209004967,
          -0.10562711745786096,
          0.2038978770899275,
          -0.2167124505785689,
          -0.2157774741942717,
          -0.24920913826806892,
          -0.13321522936487556,
          0.014960074865401405,
          -0.2676215344296284,
          -0.3244145819298987,
          -0.13316410358647715,
          0.18060822961337147,
          -0.004677390088733525,
          -0.08121380695427001,
          -0.2721142580092744,
          -0.3206187045127334,
          -0.09336234784767077,
          0.055066820923567204,
          -0.07704634475145854,
          -0.1920888708328495,
          -0.03664245467269689,
          -0.1458906119825079,
          2.096963757758532,
          -0.22360960058154433,
          -0.40834882797759486,
          -0.06597913293497758,
          -0.2276316581908102,
          -0.3397269439035404,
          -0.32785431222638034,
          -0.162810161238319,
          -0.2665306769606735,
          -0.1479550094207356,
          -0.26318187969697554,
          -0.14656155001566604,
          1.9547056646209953,
          0.10334177029344595,
          -0.395955091825499,
          -0.1473395904444373,
          -0.22320097877836947,
          -0.31677393998435593,
          0.6204544443068355,
          0.03834081623770146,
          -0.31045934770586353,
          -0.21357218139618508,
          -0.21837088399536816,
          0.0498781358003968,
          -0.31536624154814213,
          0.08499954958699994,
          -0.013811040649966778,
          -0.2927492914914785,
          -0.2182118022413373,
          -0.12156893737424018,
          -0.4306705541245775,
          -0.3074812682051382,
          -0.20956483928866126,
          -0.0789463682315871,
          1.5130794661337066,
          -0.43154030544937794,
          -0.2679542388013173,
          -0.16774664826665783,
          0.6296442123191633,
          -0.16873902996013082,
          -0.26091265235259736,
          -0.033217269635990386,
          -0.08239085507060698,
          -0.1019444928694678,
          -0.3817175043578792,
          -0.2816869758300222,
          -0.344671404099253,
          -0.07871388225864867,
          -0.3277391954997722,
          -0.2617084156096269,
          -0.37800481401000985,
          -0.12690184110024383,
          -0.23919942265910846,
          -0.2463829892030086,
          0.13249974192353114,
          -0.11078394628639016,
          -0.1676169455276967,
          -0.24397304218229415,
          -0.3167376144409436,
          -0.27670225041908003,
          2.096963757758532,
          -0.09662847919421873,
          -0.0961096699268194,
          -0.033217269635990386,
          0.2814863891651861,
          -0.053781698502746826,
          -0.12607350627367397,
          0.16405091872056238,
          -0.22254287762255265,
          -0.23703791592230625,
          -0.2485716780164613,
          -0.008811019629274025,
          1.9547056646209953,
          0.067994155519042,
          -0.16342402880646728,
          0.06210459891497263,
          -0.07771152550300793,
          -0.20142793545983764,
          3.816387394851726,
          -0.144550841025355,
          0.019034160752721727,
          -0.1749105720704055,
          -0.19216826943693185,
          -0.06351156809400957,
          -0.17212243472813443,
          -0.3373671526983539,
          -0.20954302112005485,
          -0.2057466577344438,
          -0.29838736307496955,
          -0.057717921782200345,
          0.19745819114752494,
          0.07169944467365129,
          -0.033217269635990386,
          -0.10493784210021233,
          -0.0763065472540029,
          -0.28373563587012807
         ],
         "y": [
          -0.11579447413344149,
          -0.16352728094147168,
          0.1443007233690281,
          -0.3070227492767382,
          0.22398564422145043,
          -0.09976819857891842,
          0.17630681387011837,
          0.11849748709877375,
          -0.3802629802589553,
          0.009643299357175427,
          -0.058792556075240386,
          0.13892045970344952,
          1.5025036780954408,
          -0.12523620350797798,
          -0.06474212847962502,
          -0.09128827002044639,
          0.0024683422325592003,
          1.2231528422336706,
          0.17420126526427887,
          0.2863546991198766,
          0.2867158942672542,
          -0.045759569281653985,
          -0.18052463930783752,
          0.023859973313342026,
          -0.5084980413658917,
          0.14757186164436528,
          -0.006439970915264531,
          0.1471299457718998,
          -0.026362589880455648,
          -0.0842873608697931,
          -0.1023595960433274,
          -0.05844077146056182,
          -0.011614882869066938,
          0.009775541245425463,
          0.14857818670529677,
          -0.3941837249604546,
          0.06414193347455154,
          -0.12311431424595806,
          -0.09130803199862261,
          0.07260071337269669,
          0.19630332772901965,
          -0.1319222064079505,
          0.198175981827628,
          0.21052090850413777,
          -0.04423615378283963,
          0.06504893869223269,
          0.33537072714720556,
          -0.1558414905092124,
          -0.6407682799561139,
          0.10263795261774561,
          -0.523285886741899,
          -0.13258009243308028,
          0.1106154355394458,
          0.01589422892011896,
          -0.20381286268109722,
          0.1763976988621532,
          0.05330064950244096,
          0.0181350206745587,
          -0.11256597913061943,
          -0.019697659583951654,
          -0.16424151523329958,
          -0.2298405716361722,
          0.06109626051433932,
          0.1441539105591009,
          0.14922681060352566,
          0.047440818753539886,
          0.021811593349529826,
          0.27376278155794875,
          0.10895564623939577,
          -0.143584436116771,
          -0.15401165719670631,
          -0.11738351164298587,
          0.15449014490843505,
          -0.13510000891052173,
          0.24360907794693795,
          -0.03799559159196081,
          0.13812073444735587,
          -0.028236405913239525,
          0.024769221945473072,
          -0.08794233867054457,
          0.13485504573740234,
          0.11533744797398887,
          -0.11862201640366951,
          0.12991776236180377,
          -0.13510000891052173,
          -0.1750276453568649,
          0.2053128482484036,
          0.18768939785462596,
          -0.07894954695806547,
          -0.21680112675593005,
          -0.050754159808335385,
          0.026424195612191333,
          0.10420807405620175,
          0.03898872865842538,
          -0.07008363641462616,
          0.11485612050958782,
          0.16189530094581236,
          0.0027900069322310244,
          -0.23441210757204597,
          -0.2053263897773204,
          -0.061906785573284245,
          0.1542082757072394,
          0.23042783148674728,
          -0.14510318253024992,
          -0.18823752167523644,
          0.20668731323979728,
          0.11849748709877374,
          -0.09896372054362482,
          -0.1468544582788536,
          -1.152821389451833,
          0.0944822289850854,
          0.021007641882245562,
          0.0001688431194155469,
          0.154017247815674,
          0.17599359855495522,
          0.0552036025370158,
          -0.04002924714746811,
          0.12556142291877365,
          0.10730412578556563,
          0.06763212410891421,
          0.03427451267521538,
          -1.2614834211181136,
          -0.049761169207421116,
          0.11276501510305585,
          -0.14178712682519648,
          0.05719223734605143,
          0.15287110603689014,
          -0.590289638654481,
          0.05920673381565114,
          0.04342507292206249,
          -0.007937380330423707,
          0.03742179467801538,
          0.014992005427733943,
          -0.029174815657947245,
          -0.15632876223836548,
          -0.1398729749085228,
          -0.01010922112720578,
          0.10861806678934383,
          -0.010629952190346117,
          0.33097553328001533,
          0.2515665901786323,
          0.09947934985400854,
          -0.15606413815722425,
          0.487597507191384,
          0.3308075281225965,
          0.16747717903439915,
          0.11132209820173015,
          -0.5656296828364327,
          0.08575754768858754,
          0.04688977306986256,
          -0.12069758530084286,
          -0.08305249875733102,
          0.15399418079619137,
          0.2718252874180012,
          -0.0546952351532171,
          0.10062064239969679,
          0.1191936889358774,
          0.003924465082811161,
          0.19357914963288209,
          0.15144883298573425,
          0.028698676661792967,
          0.07187114134514931,
          0.13487047979890995,
          -0.16691551580475314,
          -0.14962658803199125,
          0.13892045970344954,
          0.22156131563660825,
          0.12025736229691494,
          0.1682800652492991,
          -1.152821389451833,
          -0.05858595478966417,
          0.15387115545842905,
          -0.12069758530084286,
          -0.14763665780971366,
          -0.009587298406282328,
          0.006352216793689842,
          -0.32399332716135154,
          0.09377240223918505,
          -0.040689583980861165,
          -0.28708462040993304,
          -0.22489131373994756,
          -1.2614834211181136,
          -0.08428736086979316,
          0.19486481394569952,
          -0.2152279264953895,
          0.01914154322487575,
          0.17034055011699892,
          1.2355650187875387,
          -0.01607477153048194,
          0.022656024462963536,
          0.18237099885792354,
          -0.01845824020129741,
          -0.1369135997648392,
          0.13859161606632103,
          0.03942819015617197,
          0.04275758406427661,
          0.024426772602149475,
          0.1823109775799672,
          -0.17014149071611193,
          0.04352014695601364,
          -0.22954623625544282,
          -0.12069758530084286,
          0.03522918251085502,
          -0.06357316984003633,
          0.11691672469577848
         ],
         "z": [
          0.049200588173777225,
          0.360202415114559,
          -0.03183863377590051,
          0.22906513718448346,
          -0.17003556626928273,
          -0.022952852922069118,
          0.1218780553735747,
          -0.09403415806141761,
          -0.26546398342044086,
          0.0669835694710383,
          0.32498016836101057,
          -0.286907933610047,
          0.09998115176836452,
          0.11321911593686894,
          0.22635806444358092,
          -0.19556570584886868,
          0.17761098113232604,
          0.4041591817669021,
          -0.1395852955123679,
          -0.48999082257825466,
          -0.2875309203468324,
          0.22294344640655406,
          0.13596418410516434,
          -0.07003748656640024,
          -0.44159312338680856,
          -0.2231902018716819,
          0.10131408118325559,
          -0.05784681422694456,
          0.023690225362872446,
          0.0777903754367427,
          0.31347568751619675,
          0.10407308219123189,
          0.08010851044299967,
          0.1855778706857215,
          -0.15521237640613597,
          0.19564176200330913,
          -0.07524835364000404,
          0.1383888205137377,
          0.32061084503861864,
          0.30148663375187706,
          -0.4241283915818609,
          -0.0686698684520281,
          -0.17464751716573237,
          -0.24603650309330763,
          0.05635763309153879,
          0.038307383004386325,
          -0.26290952250601807,
          0.005139906647550815,
          -0.2666554166335513,
          -0.20303013623440364,
          -0.05816341950843076,
          0.06975693566183029,
          0.01541223096559,
          -0.17096481729065321,
          0.19021577656079286,
          0.09348367649226931,
          -0.10321441740819322,
          0.015281762977251022,
          0.28026041920940814,
          0.2598653084945762,
          0.2760490351498929,
          0.29967205220865617,
          -0.2788933419769201,
          -0.25895348072774044,
          -0.2788653709600241,
          -0.16363982322183074,
          -0.14166324935377933,
          -0.3882107159954568,
          -0.06445426313393256,
          -0.4478362868541839,
          0.395626588963153,
          -0.016902762235615463,
          -0.22679342281067313,
          0.3391313248588604,
          -0.16005085873313143,
          0.4324873537337418,
          -0.13957784780977545,
          -0.047632625894215054,
          -0.11815473828352485,
          -0.014140491526018022,
          -0.0718160024345774,
          -0.35125507277839385,
          0.0648446051442759,
          0.06025899934899477,
          0.3391313248588604,
          0.40265797391720654,
          -0.019997896657163457,
          -0.21673613041788126,
          0.17779580668287057,
          -0.1307753980817126,
          0.430883123855102,
          0.03639776232351046,
          -0.12595297673778272,
          0.004811547062403802,
          -0.5500869038637851,
          -0.0062899768606216105,
          -0.18710594670194097,
          -0.0817163357751125,
          0.22466299503754952,
          0.3280048957873061,
          -0.4106262088215861,
          -0.37662186976782086,
          0.05176502312669318,
          0.10765382696533961,
          0.37537603162002875,
          -0.37024884647095274,
          -0.09403415806141789,
          0.1810033200714216,
          0.1360256452119843,
          -0.3616488053473678,
          -0.22752567100772605,
          0.18098747652784897,
          0.0312605317625406,
          -0.15130912344982025,
          0.018734443021403237,
          0.3469439821232958,
          0.23301610653916796,
          -0.22406542486271275,
          -0.15842543816467455,
          0.019484831098153285,
          0.07664416673668835,
          -0.5634343430476176,
          -0.27606234351448933,
          0.06567449974541635,
          0.12474125524621553,
          -0.4388159236603335,
          -0.12408392975570832,
          0.11720050143397516,
          -0.24705653989350326,
          0.19751472899341418,
          0.32678207659730985,
          -0.1086148066728115,
          -0.458078536721636,
          0.26190238925292747,
          0.46123898661358154,
          0.16344628249567317,
          0.35269056968900686,
          -0.08010523581684191,
          -0.2400580958473129,
          -0.11711102176870557,
          -0.29342358793328654,
          -0.14825557932309258,
          0.31912950357376396,
          0.2761050023669149,
          -0.18492995848706806,
          -0.25124096038407995,
          -0.34076997105376344,
          -0.19662725909856332,
          -0.16406937033428257,
          -0.0344757219873393,
          0.13492690468414212,
          0.3477849479221593,
          -0.38588605496893696,
          -0.02354954677809874,
          0.5201795420368671,
          0.2034895514131435,
          -0.18764450492012924,
          0.2548100911733474,
          -0.2530155820077383,
          0.2163102962431149,
          -0.16947249930871688,
          0.18233286164000545,
          -0.3519525922386652,
          0.02503669569928137,
          0.41091894316964794,
          -0.28690793361004685,
          -0.3164379277355648,
          -0.07473288706392933,
          -0.04916627460390394,
          -0.3616488053473678,
          0.14686982499180762,
          -0.2671644165698682,
          0.13492690468414212,
          -0.07640019529863142,
          -0.13579829073173627,
          0.07655322980536274,
          0.16791727512805046,
          -0.05843140274266314,
          0.3649009981185442,
          1.1668152741532234,
          0.3258746082457448,
          -0.5634343430476176,
          0.0777903754367427,
          -0.14841402695979558,
          0.3748497462520051,
          0.220250751442259,
          -0.2180271062019689,
          0.35108415187627917,
          0.247149969961412,
          -0.07354189309001814,
          -0.3065080383064023,
          0.2584010571032006,
          0.027990151520336223,
          -0.054951962770357916,
          0.3233564402753172,
          -0.025680172114882292,
          0.12686089409029114,
          -0.1543827600045224,
          0.1915796532802199,
          -0.3161071823964238,
          0.37059064331446684,
          0.13492690468414212,
          -0.23218501142483902,
          0.13043854788566925,
          0.05467750719472267
         ]
        }
       ],
       "layout": {
        "autosize": true,
        "legend": {
         "tracegroupgap": 0
        },
        "margin": {
         "t": 60
        },
        "scene": {
         "aspectmode": "auto",
         "aspectratio": {
          "x": 1.5583396920315489,
          "y": 1.0124709206333942,
          "z": 0.6338044860453097
         },
         "camera": {
          "center": {
           "x": 0,
           "y": 0,
           "z": 0
          },
          "eye": {
           "x": -1.1681021814484527,
           "y": -0.2599174745396136,
           "z": -0.17622762105476067
          },
          "projection": {
           "type": "perspective"
          },
          "up": {
           "x": -0.2073564120195723,
           "y": 0.3319747869916122,
           "z": 0.9202152243884271
          }
         },
         "domain": {
          "x": [
           0,
           1
          ],
          "y": [
           0,
           1
          ]
         },
         "xaxis": {
          "title": {
           "text": "0"
          },
          "type": "linear"
         },
         "yaxis": {
          "title": {
           "text": "1"
          },
          "type": "linear"
         },
         "zaxis": {
          "title": {
           "text": "2"
          },
          "type": "linear"
         }
        },
        "template": {
         "data": {
          "bar": [
           {
            "error_x": {
             "color": "#2a3f5f"
            },
            "error_y": {
             "color": "#2a3f5f"
            },
            "marker": {
             "line": {
              "color": "#E5ECF6",
              "width": 0.5
             },
             "pattern": {
              "fillmode": "overlay",
              "size": 10,
              "solidity": 0.2
             }
            },
            "type": "bar"
           }
          ],
          "barpolar": [
           {
            "marker": {
             "line": {
              "color": "#E5ECF6",
              "width": 0.5
             },
             "pattern": {
              "fillmode": "overlay",
              "size": 10,
              "solidity": 0.2
             }
            },
            "type": "barpolar"
           }
          ],
          "carpet": [
           {
            "aaxis": {
             "endlinecolor": "#2a3f5f",
             "gridcolor": "white",
             "linecolor": "white",
             "minorgridcolor": "white",
             "startlinecolor": "#2a3f5f"
            },
            "baxis": {
             "endlinecolor": "#2a3f5f",
             "gridcolor": "white",
             "linecolor": "white",
             "minorgridcolor": "white",
             "startlinecolor": "#2a3f5f"
            },
            "type": "carpet"
           }
          ],
          "choropleth": [
           {
            "colorbar": {
             "outlinewidth": 0,
             "ticks": ""
            },
            "type": "choropleth"
           }
          ],
          "contour": [
           {
            "colorbar": {
             "outlinewidth": 0,
             "ticks": ""
            },
            "colorscale": [
             [
              0,
              "#0d0887"
             ],
             [
              0.1111111111111111,
              "#46039f"
             ],
             [
              0.2222222222222222,
              "#7201a8"
             ],
             [
              0.3333333333333333,
              "#9c179e"
             ],
             [
              0.4444444444444444,
              "#bd3786"
             ],
             [
              0.5555555555555556,
              "#d8576b"
             ],
             [
              0.6666666666666666,
              "#ed7953"
             ],
             [
              0.7777777777777778,
              "#fb9f3a"
             ],
             [
              0.8888888888888888,
              "#fdca26"
             ],
             [
              1,
              "#f0f921"
             ]
            ],
            "type": "contour"
           }
          ],
          "contourcarpet": [
           {
            "colorbar": {
             "outlinewidth": 0,
             "ticks": ""
            },
            "type": "contourcarpet"
           }
          ],
          "heatmap": [
           {
            "colorbar": {
             "outlinewidth": 0,
             "ticks": ""
            },
            "colorscale": [
             [
              0,
              "#0d0887"
             ],
             [
              0.1111111111111111,
              "#46039f"
             ],
             [
              0.2222222222222222,
              "#7201a8"
             ],
             [
              0.3333333333333333,
              "#9c179e"
             ],
             [
              0.4444444444444444,
              "#bd3786"
             ],
             [
              0.5555555555555556,
              "#d8576b"
             ],
             [
              0.6666666666666666,
              "#ed7953"
             ],
             [
              0.7777777777777778,
              "#fb9f3a"
             ],
             [
              0.8888888888888888,
              "#fdca26"
             ],
             [
              1,
              "#f0f921"
             ]
            ],
            "type": "heatmap"
           }
          ],
          "heatmapgl": [
           {
            "colorbar": {
             "outlinewidth": 0,
             "ticks": ""
            },
            "colorscale": [
             [
              0,
              "#0d0887"
             ],
             [
              0.1111111111111111,
              "#46039f"
             ],
             [
              0.2222222222222222,
              "#7201a8"
             ],
             [
              0.3333333333333333,
              "#9c179e"
             ],
             [
              0.4444444444444444,
              "#bd3786"
             ],
             [
              0.5555555555555556,
              "#d8576b"
             ],
             [
              0.6666666666666666,
              "#ed7953"
             ],
             [
              0.7777777777777778,
              "#fb9f3a"
             ],
             [
              0.8888888888888888,
              "#fdca26"
             ],
             [
              1,
              "#f0f921"
             ]
            ],
            "type": "heatmapgl"
           }
          ],
          "histogram": [
           {
            "marker": {
             "pattern": {
              "fillmode": "overlay",
              "size": 10,
              "solidity": 0.2
             }
            },
            "type": "histogram"
           }
          ],
          "histogram2d": [
           {
            "colorbar": {
             "outlinewidth": 0,
             "ticks": ""
            },
            "colorscale": [
             [
              0,
              "#0d0887"
             ],
             [
              0.1111111111111111,
              "#46039f"
             ],
             [
              0.2222222222222222,
              "#7201a8"
             ],
             [
              0.3333333333333333,
              "#9c179e"
             ],
             [
              0.4444444444444444,
              "#bd3786"
             ],
             [
              0.5555555555555556,
              "#d8576b"
             ],
             [
              0.6666666666666666,
              "#ed7953"
             ],
             [
              0.7777777777777778,
              "#fb9f3a"
             ],
             [
              0.8888888888888888,
              "#fdca26"
             ],
             [
              1,
              "#f0f921"
             ]
            ],
            "type": "histogram2d"
           }
          ],
          "histogram2dcontour": [
           {
            "colorbar": {
             "outlinewidth": 0,
             "ticks": ""
            },
            "colorscale": [
             [
              0,
              "#0d0887"
             ],
             [
              0.1111111111111111,
              "#46039f"
             ],
             [
              0.2222222222222222,
              "#7201a8"
             ],
             [
              0.3333333333333333,
              "#9c179e"
             ],
             [
              0.4444444444444444,
              "#bd3786"
             ],
             [
              0.5555555555555556,
              "#d8576b"
             ],
             [
              0.6666666666666666,
              "#ed7953"
             ],
             [
              0.7777777777777778,
              "#fb9f3a"
             ],
             [
              0.8888888888888888,
              "#fdca26"
             ],
             [
              1,
              "#f0f921"
             ]
            ],
            "type": "histogram2dcontour"
           }
          ],
          "mesh3d": [
           {
            "colorbar": {
             "outlinewidth": 0,
             "ticks": ""
            },
            "type": "mesh3d"
           }
          ],
          "parcoords": [
           {
            "line": {
             "colorbar": {
              "outlinewidth": 0,
              "ticks": ""
             }
            },
            "type": "parcoords"
           }
          ],
          "pie": [
           {
            "automargin": true,
            "type": "pie"
           }
          ],
          "scatter": [
           {
            "marker": {
             "colorbar": {
              "outlinewidth": 0,
              "ticks": ""
             }
            },
            "type": "scatter"
           }
          ],
          "scatter3d": [
           {
            "line": {
             "colorbar": {
              "outlinewidth": 0,
              "ticks": ""
             }
            },
            "marker": {
             "colorbar": {
              "outlinewidth": 0,
              "ticks": ""
             }
            },
            "type": "scatter3d"
           }
          ],
          "scattercarpet": [
           {
            "marker": {
             "colorbar": {
              "outlinewidth": 0,
              "ticks": ""
             }
            },
            "type": "scattercarpet"
           }
          ],
          "scattergeo": [
           {
            "marker": {
             "colorbar": {
              "outlinewidth": 0,
              "ticks": ""
             }
            },
            "type": "scattergeo"
           }
          ],
          "scattergl": [
           {
            "marker": {
             "colorbar": {
              "outlinewidth": 0,
              "ticks": ""
             }
            },
            "type": "scattergl"
           }
          ],
          "scattermapbox": [
           {
            "marker": {
             "colorbar": {
              "outlinewidth": 0,
              "ticks": ""
             }
            },
            "type": "scattermapbox"
           }
          ],
          "scatterpolar": [
           {
            "marker": {
             "colorbar": {
              "outlinewidth": 0,
              "ticks": ""
             }
            },
            "type": "scatterpolar"
           }
          ],
          "scatterpolargl": [
           {
            "marker": {
             "colorbar": {
              "outlinewidth": 0,
              "ticks": ""
             }
            },
            "type": "scatterpolargl"
           }
          ],
          "scatterternary": [
           {
            "marker": {
             "colorbar": {
              "outlinewidth": 0,
              "ticks": ""
             }
            },
            "type": "scatterternary"
           }
          ],
          "surface": [
           {
            "colorbar": {
             "outlinewidth": 0,
             "ticks": ""
            },
            "colorscale": [
             [
              0,
              "#0d0887"
             ],
             [
              0.1111111111111111,
              "#46039f"
             ],
             [
              0.2222222222222222,
              "#7201a8"
             ],
             [
              0.3333333333333333,
              "#9c179e"
             ],
             [
              0.4444444444444444,
              "#bd3786"
             ],
             [
              0.5555555555555556,
              "#d8576b"
             ],
             [
              0.6666666666666666,
              "#ed7953"
             ],
             [
              0.7777777777777778,
              "#fb9f3a"
             ],
             [
              0.8888888888888888,
              "#fdca26"
             ],
             [
              1,
              "#f0f921"
             ]
            ],
            "type": "surface"
           }
          ],
          "table": [
           {
            "cells": {
             "fill": {
              "color": "#EBF0F8"
             },
             "line": {
              "color": "white"
             }
            },
            "header": {
             "fill": {
              "color": "#C8D4E3"
             },
             "line": {
              "color": "white"
             }
            },
            "type": "table"
           }
          ]
         },
         "layout": {
          "annotationdefaults": {
           "arrowcolor": "#2a3f5f",
           "arrowhead": 0,
           "arrowwidth": 1
          },
          "autotypenumbers": "strict",
          "coloraxis": {
           "colorbar": {
            "outlinewidth": 0,
            "ticks": ""
           }
          },
          "colorscale": {
           "diverging": [
            [
             0,
             "#8e0152"
            ],
            [
             0.1,
             "#c51b7d"
            ],
            [
             0.2,
             "#de77ae"
            ],
            [
             0.3,
             "#f1b6da"
            ],
            [
             0.4,
             "#fde0ef"
            ],
            [
             0.5,
             "#f7f7f7"
            ],
            [
             0.6,
             "#e6f5d0"
            ],
            [
             0.7,
             "#b8e186"
            ],
            [
             0.8,
             "#7fbc41"
            ],
            [
             0.9,
             "#4d9221"
            ],
            [
             1,
             "#276419"
            ]
           ],
           "sequential": [
            [
             0,
             "#0d0887"
            ],
            [
             0.1111111111111111,
             "#46039f"
            ],
            [
             0.2222222222222222,
             "#7201a8"
            ],
            [
             0.3333333333333333,
             "#9c179e"
            ],
            [
             0.4444444444444444,
             "#bd3786"
            ],
            [
             0.5555555555555556,
             "#d8576b"
            ],
            [
             0.6666666666666666,
             "#ed7953"
            ],
            [
             0.7777777777777778,
             "#fb9f3a"
            ],
            [
             0.8888888888888888,
             "#fdca26"
            ],
            [
             1,
             "#f0f921"
            ]
           ],
           "sequentialminus": [
            [
             0,
             "#0d0887"
            ],
            [
             0.1111111111111111,
             "#46039f"
            ],
            [
             0.2222222222222222,
             "#7201a8"
            ],
            [
             0.3333333333333333,
             "#9c179e"
            ],
            [
             0.4444444444444444,
             "#bd3786"
            ],
            [
             0.5555555555555556,
             "#d8576b"
            ],
            [
             0.6666666666666666,
             "#ed7953"
            ],
            [
             0.7777777777777778,
             "#fb9f3a"
            ],
            [
             0.8888888888888888,
             "#fdca26"
            ],
            [
             1,
             "#f0f921"
            ]
           ]
          },
          "colorway": [
           "#636efa",
           "#EF553B",
           "#00cc96",
           "#ab63fa",
           "#FFA15A",
           "#19d3f3",
           "#FF6692",
           "#B6E880",
           "#FF97FF",
           "#FECB52"
          ],
          "font": {
           "color": "#2a3f5f"
          },
          "geo": {
           "bgcolor": "white",
           "lakecolor": "white",
           "landcolor": "#E5ECF6",
           "showlakes": true,
           "showland": true,
           "subunitcolor": "white"
          },
          "hoverlabel": {
           "align": "left"
          },
          "hovermode": "closest",
          "mapbox": {
           "style": "light"
          },
          "paper_bgcolor": "white",
          "plot_bgcolor": "#E5ECF6",
          "polar": {
           "angularaxis": {
            "gridcolor": "white",
            "linecolor": "white",
            "ticks": ""
           },
           "bgcolor": "#E5ECF6",
           "radialaxis": {
            "gridcolor": "white",
            "linecolor": "white",
            "ticks": ""
           }
          },
          "scene": {
           "xaxis": {
            "backgroundcolor": "#E5ECF6",
            "gridcolor": "white",
            "gridwidth": 2,
            "linecolor": "white",
            "showbackground": true,
            "ticks": "",
            "zerolinecolor": "white"
           },
           "yaxis": {
            "backgroundcolor": "#E5ECF6",
            "gridcolor": "white",
            "gridwidth": 2,
            "linecolor": "white",
            "showbackground": true,
            "ticks": "",
            "zerolinecolor": "white"
           },
           "zaxis": {
            "backgroundcolor": "#E5ECF6",
            "gridcolor": "white",
            "gridwidth": 2,
            "linecolor": "white",
            "showbackground": true,
            "ticks": "",
            "zerolinecolor": "white"
           }
          },
          "shapedefaults": {
           "line": {
            "color": "#2a3f5f"
           }
          },
          "ternary": {
           "aaxis": {
            "gridcolor": "white",
            "linecolor": "white",
            "ticks": ""
           },
           "baxis": {
            "gridcolor": "white",
            "linecolor": "white",
            "ticks": ""
           },
           "bgcolor": "#E5ECF6",
           "caxis": {
            "gridcolor": "white",
            "linecolor": "white",
            "ticks": ""
           }
          },
          "title": {
           "x": 0.05
          },
          "xaxis": {
           "automargin": true,
           "gridcolor": "white",
           "linecolor": "white",
           "ticks": "",
           "title": {
            "standoff": 15
           },
           "zerolinecolor": "white",
           "zerolinewidth": 2
          },
          "yaxis": {
           "automargin": true,
           "gridcolor": "white",
           "linecolor": "white",
           "ticks": "",
           "title": {
            "standoff": 15
           },
           "zerolinecolor": "white",
           "zerolinewidth": 2
          }
         }
        }
       }
      },
      "image/png": "[encoded data removed]",
      "text/html": [
       "<div>                            <div id=\"26c1f26f-452c-4e61-937c-5b724cfa4fc3\" class=\"plotly-graph-div\" style=\"height:900px; width:100%;\"></div>            <script type=\"text/javascript\">                require([\"plotly\"], function(Plotly) {                    window.PLOTLYENV=window.PLOTLYENV || {};                                    if (document.getElementById(\"26c1f26f-452c-4e61-937c-5b724cfa4fc3\")) {                    Plotly.newPlot(                        \"26c1f26f-452c-4e61-937c-5b724cfa4fc3\",                        [{\"hovertemplate\":\"<b>%{hovertext}</b><br><br>0=%{x}<br>1=%{y}<br>2=%{z}<extra></extra>\",\"hovertext\":[\"On Overcoming Imposter Syndrome.\",\"The Breakup 2.0: Disconnecting over New Media\",\"Introduction to Web Accessibility\",\"The Computer from Pascal to von Neumann\",\"UNESCO and INFOethics: Seeking global ethical values in the Information Society\",\"Predicting Financial Crime: Augmenting the Predictive Policing Arsenal\",\"The Influence of Gender-Ethnic Intersectionality on Gender Stereotypes about IT Skills and Knowledge\",\"Algorithms in practice: Comparing web journalism and criminal justice\",\"Philosophical Devices: Proofs, Probabilities, Possibilities, and Sets\",\"Race and racism in Internet Studies: A review and critique\",\"The Singularity Is Near: When Humans Transcend Biology\",\"Big Data Surveillance: The Case of Policing\",\"Typologie des risques pour une analyse \\u00e9thique de l'impact des technologies du TAL\",\"Recoding Gender: Women's Changing Participation in Computing\",\"The Social Life of Money\",\"Site Selection Bias in Program Evaluation\",\"Beginner's Guide to SEO\",\"\\u00c9thique et traitement automatique des langues et de la parole : entre truismes et tabous\",\"Why media companies insist they're not media companies, why they're wrong, and why it matters\",\"Beyond the Belmont Principles: Ethical Challenges, Practices, and Beliefs in the Online Data Research Community\",\"Gender and Diversity in Collaborative Virtual Teams\",\"What you can do.\",\"America Calling: A Social History of the Telephone to 1940\",\"Accounting for Market Frictions and Power Asymmetries in Online Labor Markets\",\"The philosopher's toolkit : a compendium of philosophical concepts and methods\",\"\\\"Algorithms ruin everything\\\": #RIPTwitter, Folk Theories, and Resistance to Algorithmic Change in Social Media\",\"Usability Testing Report\",\"Big Data ethics\",\"Ambient belonging: how stereotypical cues impact gender participation in computer science.\",\"Tweetment Effects on the Tweeted: Experimentally Reducing Racist Harassment\",\"The human use of human beings - cybernetics and society\",\"Why librarians can\\u2019t fight fake news\",\"Through the Google Goggles: Sociopolitical Bias in Search Engine Design\",\"\\\"Touch Someone\\\": The Telephone Industry Discovers Sociability\",\"Digital Materialisms: Frameworks for Digital Media Studies\",\"FROM EDITORS TO ALGORITHMS A Values-Based Approach to Understanding Story Selection in the Facebook News Feed\",\"The Onlife Manifesto: Being Human in a Hyperconnected Era\",\"Artificial Intelligence's White Guy Problem\",\"Technologies of the Gendered Body: Reading Cyborg Women\",\"Transhumanism and the Image of God. Today\\u2019s Technology and the Future of Christian Discipleship\",\"Blended, Not Bossy: Ethics Roles, Responsibilities and Expertise in Design\",\"Embodying values in technology: Theory and practice\",\"Scholarly Communication: Cultural Contexts, Evolving Models\",\"The ethics of algorithms: Mapping the debate\",\"Emotional selection in memes: the case of urban legends.\",\"Proven practices that can reduce stereotype threat in engineering education: A literature review\",\"Automated Media: An Institutional Theory Perspective on Algorithmic Media Production and Consumption\",\"Learning consumption: Media, literacy, and the legacy of One Laptop per Child\",\"The digital phoenix : how computers are changing philosophy\",\"Our metrics, ourselves: A hundred years of self-tracking from the weight scale to the wrist wearable device\",\"Car Troubles: Critical Studies of Automobility and Auto-Mobility\",\"The Watcher and the Watched: Social Judgments about Privacy in a Public Place\",\"The strategic role of technology in a good society\",\"Technology hype versus enduring uses: A longitudinal study of Internet use among early adopters in an African city\",\"Geek Heresy: Rescuing Social Change from the Cult of Technology\",\"Cyberspace and International Law: The Penumbral Mist of Uncertainty\",\"Can Technology Embody Values\",\"Why a Right to Explanation of Automated Decision-Making Does Not Exist in the General Data Protection Regulation\",\"Machines of Loving Grace: The Quest for Common Ground Between Humans and Robots\",\"Logic: A Very Short Introduction\",\"It\\u2019s Complicated: The Social Lives of Networked Teens\",\"The Master Algorithm: How the Quest for the Ultimate Learning Machine Will Remake Our World\",\"Three Views of Logic: Mathematics, Philosophy, and Computer Science\",\"Big Data for All: Privacy and User Control in the Age of Analytics\",\"Value scenarios: a technique for envisioning systemic effects of new technologies\",\"Beyond distributions and primary goods: Assessing applications of rawls in information science and technology literature since 1990\",\"Thinking through technology : the path between engineering and philosophy\",\"Gender-based violence in 140 characters or fewer: a #BigData case study of Twitter\",\"Want to be on the top? Algorithmic power and the threat of invisibility on Facebook\",\"A Gift of Fire: Social, Legal, and Ethical Issues for Computing and the Internet\",\"The Whale and the Reactor\",\"All I really need to know about pair programming I learned in kindergarten\",\"Curation by code: Infomediaries and the data mining of taste\",\"'I've Got Nothing to Hide' and Other Misunderstandings of Privacy\",\"Full-cycle social psychology for theory and application.\",\"The Tyranny of Structurelessness\",\"The Ethnography of Infrastructure\",\"Experimental evidence of massive-scale emotional contagion through social networks.\",\"Managing social norms for persuasive impact\",\"Indigenous Circuits: Navajo Women and the Racialization of Early Electronic Manufacture\",\"The like economy: Social buttons and the data-intensive web\",\"Estimation and Inference of Heterogeneous Treatment Effects using Random Forests\",\"Good Faith Collaboration: The Culture of Wikipedia\",\"Exceptional Engineering: Challenges and Opportunities for Socially Just Engineering in Non-governmental Organizations in Colombia\",\"'I've Got Nothing to Hide' and Other Misunderstandings of Privacy\",\"Wired for War: The Robotics Revolution and Conflict in the 21st Century\",\"Professional values and ethics as defined by the LIS discipline\",\"The social shaping of technology\",\"Rise of the Robots: Technology and the Threat of a Jobless Future, by Martin Ford\",\"Logic in computer science - modelling and reasoning about systems (2. ed.)\",\"Reset: Reclaiming the Internet for Civil Society\",\"\\u201cGuns Don\\u2019t Kill, People Kill\\u201d; Values in and/or Around Technologies\",\"Dealing with digital intermediaries: A case study of the relations between publishers and platforms\",\"Semantics derived automatically from language corpora contain human-like biases\",\"The IRA, Social Media and Political Polarization in the United States, 2012-2018\",\"Big Data's Disparate Impact\",\"Determining Whether Commercial Publishers Overcharge Libraries for Scholarly Journals in the Fields of Science, Technology, and Medicine, with a Semilogarithmic Econometric Model\",\"Trigger-Action Programming in the Wild: An Analysis of 200,000 IFTTT Recipes\",\"The Data Base for Advances in Information Systems\",\"What ever happened to accountability?\",\"GENDER, RACE, AND MERITOCRACY IN ORGANIZATIONAL CAREERS.\",\"What Do We Talk About When We Talk About Dashboards?\",\"Just Information Warfare\",\"The Visible Hand: Race and Online Market Outcomes\",\"Leo Marx's The Machine in the Garden\",\"Social Justice as Topic and Tool: An Attempt to Transform an LIS Curriculum and Culture\",\"Algorithms in practice: Comparing web journalism and criminal justice\",\"Understanding Media: The Extensions of Man\",\"Self-Tracking\",\"Technology and the Virtues: A Philosophical Guide to a Future Worth Wanting\",\"Telemedicine in the Era of COVID-19\",\"Making technology homey: finding sources of satisfaction and meaning in home automation\",\"Recommended for you: The Netflix Prize and the production of algorithmic culture\",\"Feminist Theories of Technology\",\"Inherent Trade-Offs in the Fair Determination of Risk Scores\",\"We Have Never Been Modern\",\"Reconsidering the \\u2018Right to be Forgotten\\u2019 \\u2013 memory rights and the right to memory in the new media era\",\"SELECT * FROM USER: infrastructure and socio-technical representation\",\"The Role of Ethics in the Commercialization of Indigenous Knowledge\",\"A game design methodology to incorporate social activist themes\",\"Burning Man at Google: a cultural infrastructure for new media production\",\"An Open Access Overview\",\"Discriminating Tastes: Customer Ratings as Vehicles for Bias\",\"User Perception of Facebook App Data Access: A Comparison of Methods and Privacy Concerns\",\"Hacking tech'S diversity problem\",\"Charting Sociotechnical Dimensions of Values for Design Research\",\"Interface Design\",\"Evocative Objects: Things We Think With\",\"Online file sharing: resolving the tensions between privacy and property interests\",\"Do Gays Shy Away from Competition? Do Lesbians Compete Too Much?\",\"Pax Technica: How the Internet of Things May Set Us Free or Lock Us Up\",\"What happens before? A field experiment exploring how pay and representation differentially shape bias on the pathway into organizations.\",\"Toward a comprehensive understanding of executive cognitive function in implicit racial bias.\",\"The Cambridge Handbook Of Information And Computer Ethics\",\"Lance Strate. Amazing Ourselves to Death: Neil Postman's Brave New World Revisited\",\"A Small World: Smart Houses and the Dream of the Perfect Day\",\"How Should the Law Think About Robots\",\"Gender, Representation and Online Participation: A Quantitative Study of StackOverflow\",\"Regional Advantage: Culture and Competition in Silicon Valley and Route 128\",\"Ambient Intelligence and Persuasive Technology: The Blurring Boundaries Between Human and Technology\",\"Situating Digital Interventions: Mixed Methods for HCI Research in the Home\",\"Web-Based Experiments for the Study of Collective Social Dynamics in Cultural Markets\",\"Problems Of Philosophy\",\"Annotateurs volontaires investis et \\u00e9thique de l'annotation de lettres de suicid\\u00e9s\",\"Disability, human rights, and social justice: The ongoing struggle for online accessibility and equality\",\"Automation, Algorithms, and Politics | When the Algorithm Itself is a Racist: Diagnosing Ethical Harm in the Basic Components of Software\",\"The Ethics of Big Data: Current and Foreseeable Issues in Biomedical Contexts\",\"Review of \\\"Weapons of Math Destruction: How Big Data Increases Inequality and Threatens Democracy\\\" by Cathy O\\u2019Neil\",\"Persistence Is Cultural: Professional Socialization and the Reproduction of Sex Segregation\",\"It, Gender, and Professional Practice: Or, Why an Automated Drug Distribution System Was Sent Back to the Manufacturer\",\"Do Artifacts Have Politics\",\"Moral Machines?\",\"Knowledge exchange processes in organizations and policy arenas: a narrative systematic review of the literature.\",\"Critical Making: Conceptual and Material Studies in Technology and Social Life\",\"Card-sorting\",\"The algorithmic imaginary: exploring the ordinary affects of Facebook algorithms\",\"First I \\\"like\\\" it, then I hide it: Folk Theories of Social Feeds\",\"Authoritarian and Democratic Technics\",\"Working Algorithms: Software Automation and the Future of Work\",\"Upon Opening the Black Box and Finding It Empty: Social Constructivism and the Philosophy of Technology\",\"Technology and Social Control\",\"A 61-million-person experiment in social influence and political mobilization\",\"Environmental, social, and economic implications of global reuse and recycling of personal computers.\",\"The charisma machine: The life, death, and legacy of one laptop per child\",\"Television: Technology and Cultural Form\",\"Big Data Surveillance: The Case of Policing\",\"Values and pragmatic action: The challenges of introducing ethical intelligence in technical design communities\",\"In the Chamber of Risks: Understanding Risk Controversies\",\"Bots as Virtual Confederates: Design and Ethics\",\"Technology and the Virtues: A Philosophical Guide to a Future Worth Wanting\",\"Even facts cannot change our minds\",\"Computer-Supported Collaborative Learning: Best Practices and Principles for Instructors\",\"Do Artifacts Have Politics\",\"Do Health and Forensic DNA Databases Increase Racial Disparities?\",\"Alternative Design Scholarship: Working Toward Appropriate Design\",\"The design philosophy of the DARPA Internet Protocols\",\"Weapons of Math Destruction\",\"The Social Impact of Natural Language Processing\",\"Who Controls the Internet? Illusions of a Borderless World\",\"The culture of narcissism.\",\"Blown to Bits: Your Life, Liberty, and Happiness After the Digital Explosion\",\"An Open Access Overview\",\"Tweetment Effects on the Tweeted: Experimentally Reducing Racist Harassment\",\"The digital production gap: The digital divide and Web 2.0 collide\",\"American Girls: Social Media and the Secret Lives of Teenagers\",\"Afterword\",\"Machine Learning and the Rule of Law\",\"When Computers Were Women\",\"Locating the wrongness in ultra-violent video games\",\"Algorithmic Ideology: How Capitalist Society Shapes Search Engines\",\"The work of sustaining order in wikipedia: the banning of a vandal\",\"Moral Predators: The Duty to Employ Uninhabited Aerial Vehicles\",\"Stuck in the Shallow End: Education, Race, and Computing\",\"Social Network Sites as Networked Publics: Affordances, Dynamics, and Implications\",\"John Cheney-Lippold, We Are Data: Algorithms and the Making of Our Digital Selves\",\"Seeing without knowing: Limitations of the transparency ideal and its application to algorithmic accountability\",\"Using Dublin Core\",\"Autonomous technology and the greater human good\",\"The spread of true and false news online\",\"Leadership: Theory and Practice\",\"Review: The Social Shaping of Technology\",\"Do Artifacts Have Politics\",\"How the machine \\u2018thinks\\u2019: Understanding opacity in machine learning algorithms\",\"The Drama! Teen Conflict, Gossip, and Bullying in Networked Publics\",\"Moral Crumple Zones: Cautionary Tales in Human-Robot Interaction (We Robot 2016)\"],\"legendgroup\":\"\",\"marker\":{\"color\":\"#636efa\",\"symbol\":\"circle\"},\"mode\":\"markers\",\"name\":\"\",\"scene\":\"scene\",\"showlegend\":false,\"type\":\"scatter3d\",\"x\":[-0.053553960531559065,-0.1368192888664229,-0.3205715121060522,0.17638921743132452,-0.16712360238853993,-0.0019684237081179752,-0.4364188405296692,-0.19208887083284948,0.49237707769366756,-0.1699666650760871,-0.05290719817991359,-0.16761694552769668,3.6617423797417823,-0.052205717421586514,-0.14091253222483183,0.05987394073664774,-0.20362431597378894,3.6813907370665007,-0.3038838399623947,-0.3022809384477889,-0.34916602509060385,0.11782173865588258,-0.013053072375699408,-0.18325374670852743,0.9935855339351413,-0.12483699174589777,-0.10997146963186596,-0.35580369914577376,-0.16022652813996932,0.067994155519042,-0.2004670598770327,-0.11662335306537877,-0.12257086526800465,-0.1765814327030851,-0.1756007989033796,0.34677011276449443,-0.2374486947560452,0.005741413521251476,-0.0902183046377198,2.2450118251554683,-0.17301566748666286,-0.09232984435059892,-0.30149141519240563,-0.39730359312265584,-0.06538190815510263,-0.27458757926307276,-0.426027269954603,0.03502561753620298,0.892608213740017,-0.22887269734821827,0.7982122352250077,0.024644546059954916,-0.281957173985254,-0.03539424301913306,0.12528805996005554,-0.2549099310605363,-0.21512682433420194,-0.1726047672552767,-0.14180936745875836,-0.22752125872175596,0.022402340434428715,0.01741949855122201,-0.08437486072515896,-0.30933618815915936,-0.2666046228455813,-0.08769559213538929,-0.15071647218049417,-0.12589154976152597,-0.016784063061165283,0.38586060941646927,0.005794438768481381,-0.06846604106795355,-0.1371063306765439,-0.09888912748778242,-0.36454654240771917,-0.33660786250012864,-0.2899678224251363,-0.050998832757493166,-0.0008408647206044406,-0.004109033692439124,-0.13773475334612056,-0.10140845838044824,0.039047550683163415,-0.28261353545197515,-0.09888912748778242,-0.1190648227185562,-0.4377899026780185,-0.14861687209004967,-0.10562711745786096,0.2038978770899275,-0.2167124505785689,-0.2157774741942717,-0.24920913826806892,-0.13321522936487556,0.014960074865401405,-0.2676215344296284,-0.3244145819298987,-0.13316410358647715,0.18060822961337147,-0.004677390088733525,-0.08121380695427001,-0.2721142580092744,-0.3206187045127334,-0.09336234784767077,0.055066820923567204,-0.07704634475145854,-0.1920888708328495,-0.03664245467269689,-0.1458906119825079,2.096963757758532,-0.22360960058154433,-0.40834882797759486,-0.06597913293497758,-0.2276316581908102,-0.3397269439035404,-0.32785431222638034,-0.162810161238319,-0.2665306769606735,-0.1479550094207356,-0.26318187969697554,-0.14656155001566604,1.9547056646209953,0.10334177029344595,-0.395955091825499,-0.1473395904444373,-0.22320097877836947,-0.31677393998435593,0.6204544443068355,0.03834081623770146,-0.31045934770586353,-0.21357218139618508,-0.21837088399536816,0.0498781358003968,-0.31536624154814213,0.08499954958699994,-0.013811040649966778,-0.2927492914914785,-0.2182118022413373,-0.12156893737424018,-0.4306705541245775,-0.3074812682051382,-0.20956483928866126,-0.0789463682315871,1.5130794661337066,-0.43154030544937794,-0.2679542388013173,-0.16774664826665783,0.6296442123191633,-0.16873902996013082,-0.26091265235259736,-0.033217269635990386,-0.08239085507060698,-0.1019444928694678,-0.3817175043578792,-0.2816869758300222,-0.344671404099253,-0.07871388225864867,-0.3277391954997722,-0.2617084156096269,-0.37800481401000985,-0.12690184110024383,-0.23919942265910846,-0.2463829892030086,0.13249974192353114,-0.11078394628639016,-0.1676169455276967,-0.24397304218229415,-0.3167376144409436,-0.27670225041908003,2.096963757758532,-0.09662847919421873,-0.0961096699268194,-0.033217269635990386,0.2814863891651861,-0.053781698502746826,-0.12607350627367397,0.16405091872056238,-0.22254287762255265,-0.23703791592230625,-0.2485716780164613,-0.008811019629274025,1.9547056646209953,0.067994155519042,-0.16342402880646728,0.06210459891497263,-0.07771152550300793,-0.20142793545983764,3.816387394851726,-0.144550841025355,0.019034160752721727,-0.1749105720704055,-0.19216826943693185,-0.06351156809400957,-0.17212243472813443,-0.3373671526983539,-0.20954302112005485,-0.2057466577344438,-0.29838736307496955,-0.057717921782200345,0.19745819114752494,0.07169944467365129,-0.033217269635990386,-0.10493784210021233,-0.0763065472540029,-0.28373563587012807],\"y\":[-0.11579447413344149,-0.16352728094147168,0.1443007233690281,-0.3070227492767382,0.22398564422145043,-0.09976819857891842,0.17630681387011837,0.11849748709877375,-0.3802629802589553,0.009643299357175427,-0.058792556075240386,0.13892045970344952,1.5025036780954408,-0.12523620350797798,-0.06474212847962502,-0.09128827002044639,0.0024683422325592003,1.2231528422336706,0.17420126526427887,0.2863546991198766,0.2867158942672542,-0.045759569281653985,-0.18052463930783752,0.023859973313342026,-0.5084980413658917,0.14757186164436528,-0.006439970915264531,0.1471299457718998,-0.026362589880455648,-0.0842873608697931,-0.1023595960433274,-0.05844077146056182,-0.011614882869066938,0.009775541245425463,0.14857818670529677,-0.3941837249604546,0.06414193347455154,-0.12311431424595806,-0.09130803199862261,0.07260071337269669,0.19630332772901965,-0.1319222064079505,0.198175981827628,0.21052090850413777,-0.04423615378283963,0.06504893869223269,0.33537072714720556,-0.1558414905092124,-0.6407682799561139,0.10263795261774561,-0.523285886741899,-0.13258009243308028,0.1106154355394458,0.01589422892011896,-0.20381286268109722,0.1763976988621532,0.05330064950244096,0.0181350206745587,-0.11256597913061943,-0.019697659583951654,-0.16424151523329958,-0.2298405716361722,0.06109626051433932,0.1441539105591009,0.14922681060352566,0.047440818753539886,0.021811593349529826,0.27376278155794875,0.10895564623939577,-0.143584436116771,-0.15401165719670631,-0.11738351164298587,0.15449014490843505,-0.13510000891052173,0.24360907794693795,-0.03799559159196081,0.13812073444735587,-0.028236405913239525,0.024769221945473072,-0.08794233867054457,0.13485504573740234,0.11533744797398887,-0.11862201640366951,0.12991776236180377,-0.13510000891052173,-0.1750276453568649,0.2053128482484036,0.18768939785462596,-0.07894954695806547,-0.21680112675593005,-0.050754159808335385,0.026424195612191333,0.10420807405620175,0.03898872865842538,-0.07008363641462616,0.11485612050958782,0.16189530094581236,0.0027900069322310244,-0.23441210757204597,-0.2053263897773204,-0.061906785573284245,0.1542082757072394,0.23042783148674728,-0.14510318253024992,-0.18823752167523644,0.20668731323979728,0.11849748709877374,-0.09896372054362482,-0.1468544582788536,-1.152821389451833,0.0944822289850854,0.021007641882245562,0.0001688431194155469,0.154017247815674,0.17599359855495522,0.0552036025370158,-0.04002924714746811,0.12556142291877365,0.10730412578556563,0.06763212410891421,0.03427451267521538,-1.2614834211181136,-0.049761169207421116,0.11276501510305585,-0.14178712682519648,0.05719223734605143,0.15287110603689014,-0.590289638654481,0.05920673381565114,0.04342507292206249,-0.007937380330423707,0.03742179467801538,0.014992005427733943,-0.029174815657947245,-0.15632876223836548,-0.1398729749085228,-0.01010922112720578,0.10861806678934383,-0.010629952190346117,0.33097553328001533,0.2515665901786323,0.09947934985400854,-0.15606413815722425,0.487597507191384,0.3308075281225965,0.16747717903439915,0.11132209820173015,-0.5656296828364327,0.08575754768858754,0.04688977306986256,-0.12069758530084286,-0.08305249875733102,0.15399418079619137,0.2718252874180012,-0.0546952351532171,0.10062064239969679,0.1191936889358774,0.003924465082811161,0.19357914963288209,0.15144883298573425,0.028698676661792967,0.07187114134514931,0.13487047979890995,-0.16691551580475314,-0.14962658803199125,0.13892045970344954,0.22156131563660825,0.12025736229691494,0.1682800652492991,-1.152821389451833,-0.05858595478966417,0.15387115545842905,-0.12069758530084286,-0.14763665780971366,-0.009587298406282328,0.006352216793689842,-0.32399332716135154,0.09377240223918505,-0.040689583980861165,-0.28708462040993304,-0.22489131373994756,-1.2614834211181136,-0.08428736086979316,0.19486481394569952,-0.2152279264953895,0.01914154322487575,0.17034055011699892,1.2355650187875387,-0.01607477153048194,0.022656024462963536,0.18237099885792354,-0.01845824020129741,-0.1369135997648392,0.13859161606632103,0.03942819015617197,0.04275758406427661,0.024426772602149475,0.1823109775799672,-0.17014149071611193,0.04352014695601364,-0.22954623625544282,-0.12069758530084286,0.03522918251085502,-0.06357316984003633,0.11691672469577848],\"z\":[0.049200588173777225,0.360202415114559,-0.03183863377590051,0.22906513718448346,-0.17003556626928273,-0.022952852922069118,0.1218780553735747,-0.09403415806141761,-0.26546398342044086,0.0669835694710383,0.32498016836101057,-0.286907933610047,0.09998115176836452,0.11321911593686894,0.22635806444358092,-0.19556570584886868,0.17761098113232604,0.4041591817669021,-0.1395852955123679,-0.48999082257825466,-0.2875309203468324,0.22294344640655406,0.13596418410516434,-0.07003748656640024,-0.44159312338680856,-0.2231902018716819,0.10131408118325559,-0.05784681422694456,0.023690225362872446,0.0777903754367427,0.31347568751619675,0.10407308219123189,0.08010851044299967,0.1855778706857215,-0.15521237640613597,0.19564176200330913,-0.07524835364000404,0.1383888205137377,0.32061084503861864,0.30148663375187706,-0.4241283915818609,-0.0686698684520281,-0.17464751716573237,-0.24603650309330763,0.05635763309153879,0.038307383004386325,-0.26290952250601807,0.005139906647550815,-0.2666554166335513,-0.20303013623440364,-0.05816341950843076,0.06975693566183029,0.01541223096559,-0.17096481729065321,0.19021577656079286,0.09348367649226931,-0.10321441740819322,0.015281762977251022,0.28026041920940814,0.2598653084945762,0.2760490351498929,0.29967205220865617,-0.2788933419769201,-0.25895348072774044,-0.2788653709600241,-0.16363982322183074,-0.14166324935377933,-0.3882107159954568,-0.06445426313393256,-0.4478362868541839,0.395626588963153,-0.016902762235615463,-0.22679342281067313,0.3391313248588604,-0.16005085873313143,0.4324873537337418,-0.13957784780977545,-0.047632625894215054,-0.11815473828352485,-0.014140491526018022,-0.0718160024345774,-0.35125507277839385,0.0648446051442759,0.06025899934899477,0.3391313248588604,0.40265797391720654,-0.019997896657163457,-0.21673613041788126,0.17779580668287057,-0.1307753980817126,0.430883123855102,0.03639776232351046,-0.12595297673778272,0.004811547062403802,-0.5500869038637851,-0.0062899768606216105,-0.18710594670194097,-0.0817163357751125,0.22466299503754952,0.3280048957873061,-0.4106262088215861,-0.37662186976782086,0.05176502312669318,0.10765382696533961,0.37537603162002875,-0.37024884647095274,-0.09403415806141789,0.1810033200714216,0.1360256452119843,-0.3616488053473678,-0.22752567100772605,0.18098747652784897,0.0312605317625406,-0.15130912344982025,0.018734443021403237,0.3469439821232958,0.23301610653916796,-0.22406542486271275,-0.15842543816467455,0.019484831098153285,0.07664416673668835,-0.5634343430476176,-0.27606234351448933,0.06567449974541635,0.12474125524621553,-0.4388159236603335,-0.12408392975570832,0.11720050143397516,-0.24705653989350326,0.19751472899341418,0.32678207659730985,-0.1086148066728115,-0.458078536721636,0.26190238925292747,0.46123898661358154,0.16344628249567317,0.35269056968900686,-0.08010523581684191,-0.2400580958473129,-0.11711102176870557,-0.29342358793328654,-0.14825557932309258,0.31912950357376396,0.2761050023669149,-0.18492995848706806,-0.25124096038407995,-0.34076997105376344,-0.19662725909856332,-0.16406937033428257,-0.0344757219873393,0.13492690468414212,0.3477849479221593,-0.38588605496893696,-0.02354954677809874,0.5201795420368671,0.2034895514131435,-0.18764450492012924,0.2548100911733474,-0.2530155820077383,0.2163102962431149,-0.16947249930871688,0.18233286164000545,-0.3519525922386652,0.02503669569928137,0.41091894316964794,-0.28690793361004685,-0.3164379277355648,-0.07473288706392933,-0.04916627460390394,-0.3616488053473678,0.14686982499180762,-0.2671644165698682,0.13492690468414212,-0.07640019529863142,-0.13579829073173627,0.07655322980536274,0.16791727512805046,-0.05843140274266314,0.3649009981185442,1.1668152741532234,0.3258746082457448,-0.5634343430476176,0.0777903754367427,-0.14841402695979558,0.3748497462520051,0.220250751442259,-0.2180271062019689,0.35108415187627917,0.247149969961412,-0.07354189309001814,-0.3065080383064023,0.2584010571032006,0.027990151520336223,-0.054951962770357916,0.3233564402753172,-0.025680172114882292,0.12686089409029114,-0.1543827600045224,0.1915796532802199,-0.3161071823964238,0.37059064331446684,0.13492690468414212,-0.23218501142483902,0.13043854788566925,0.05467750719472267]}],                        {\"height\":900,\"legend\":{\"tracegroupgap\":0},\"margin\":{\"t\":60},\"scene\":{\"domain\":{\"x\":[0.0,1.0],\"y\":[0.0,1.0]},\"xaxis\":{\"title\":{\"text\":\"0\"}},\"yaxis\":{\"title\":{\"text\":\"1\"}},\"zaxis\":{\"title\":{\"text\":\"2\"}}},\"template\":{\"data\":{\"bar\":[{\"error_x\":{\"color\":\"#2a3f5f\"},\"error_y\":{\"color\":\"#2a3f5f\"},\"marker\":{\"line\":{\"color\":\"#E5ECF6\",\"width\":0.5},\"pattern\":{\"fillmode\":\"overlay\",\"size\":10,\"solidity\":0.2}},\"type\":\"bar\"}],\"barpolar\":[{\"marker\":{\"line\":{\"color\":\"#E5ECF6\",\"width\":0.5},\"pattern\":{\"fillmode\":\"overlay\",\"size\":10,\"solidity\":0.2}},\"type\":\"barpolar\"}],\"carpet\":[{\"aaxis\":{\"endlinecolor\":\"#2a3f5f\",\"gridcolor\":\"white\",\"linecolor\":\"white\",\"minorgridcolor\":\"white\",\"startlinecolor\":\"#2a3f5f\"},\"baxis\":{\"endlinecolor\":\"#2a3f5f\",\"gridcolor\":\"white\",\"linecolor\":\"white\",\"minorgridcolor\":\"white\",\"startlinecolor\":\"#2a3f5f\"},\"type\":\"carpet\"}],\"choropleth\":[{\"colorbar\":{\"outlinewidth\":0,\"ticks\":\"\"},\"type\":\"choropleth\"}],\"contour\":[{\"colorbar\":{\"outlinewidth\":0,\"ticks\":\"\"},\"colorscale\":[[0.0,\"#0d0887\"],[0.1111111111111111,\"#46039f\"],[0.2222222222222222,\"#7201a8\"],[0.3333333333333333,\"#9c179e\"],[0.4444444444444444,\"#bd3786\"],[0.5555555555555556,\"#d8576b\"],[0.6666666666666666,\"#ed7953\"],[0.7777777777777778,\"#fb9f3a\"],[0.8888888888888888,\"#fdca26\"],[1.0,\"#f0f921\"]],\"type\":\"contour\"}],\"contourcarpet\":[{\"colorbar\":{\"outlinewidth\":0,\"ticks\":\"\"},\"type\":\"contourcarpet\"}],\"heatmap\":[{\"colorbar\":{\"outlinewidth\":0,\"ticks\":\"\"},\"colorscale\":[[0.0,\"#0d0887\"],[0.1111111111111111,\"#46039f\"],[0.2222222222222222,\"#7201a8\"],[0.3333333333333333,\"#9c179e\"],[0.4444444444444444,\"#bd3786\"],[0.5555555555555556,\"#d8576b\"],[0.6666666666666666,\"#ed7953\"],[0.7777777777777778,\"#fb9f3a\"],[0.8888888888888888,\"#fdca26\"],[1.0,\"#f0f921\"]],\"type\":\"heatmap\"}],\"heatmapgl\":[{\"colorbar\":{\"outlinewidth\":0,\"ticks\":\"\"},\"colorscale\":[[0.0,\"#0d0887\"],[0.1111111111111111,\"#46039f\"],[0.2222222222222222,\"#7201a8\"],[0.3333333333333333,\"#9c179e\"],[0.4444444444444444,\"#bd3786\"],[0.5555555555555556,\"#d8576b\"],[0.6666666666666666,\"#ed7953\"],[0.7777777777777778,\"#fb9f3a\"],[0.8888888888888888,\"#fdca26\"],[1.0,\"#f0f921\"]],\"type\":\"heatmapgl\"}],\"histogram\":[{\"marker\":{\"pattern\":{\"fillmode\":\"overlay\",\"size\":10,\"solidity\":0.2}},\"type\":\"histogram\"}],\"histogram2d\":[{\"colorbar\":{\"outlinewidth\":0,\"ticks\":\"\"},\"colorscale\":[[0.0,\"#0d0887\"],[0.1111111111111111,\"#46039f\"],[0.2222222222222222,\"#7201a8\"],[0.3333333333333333,\"#9c179e\"],[0.4444444444444444,\"#bd3786\"],[0.5555555555555556,\"#d8576b\"],[0.6666666666666666,\"#ed7953\"],[0.7777777777777778,\"#fb9f3a\"],[0.8888888888888888,\"#fdca26\"],[1.0,\"#f0f921\"]],\"type\":\"histogram2d\"}],\"histogram2dcontour\":[{\"colorbar\":{\"outlinewidth\":0,\"ticks\":\"\"},\"colorscale\":[[0.0,\"#0d0887\"],[0.1111111111111111,\"#46039f\"],[0.2222222222222222,\"#7201a8\"],[0.3333333333333333,\"#9c179e\"],[0.4444444444444444,\"#bd3786\"],[0.5555555555555556,\"#d8576b\"],[0.6666666666666666,\"#ed7953\"],[0.7777777777777778,\"#fb9f3a\"],[0.8888888888888888,\"#fdca26\"],[1.0,\"#f0f921\"]],\"type\":\"histogram2dcontour\"}],\"mesh3d\":[{\"colorbar\":{\"outlinewidth\":0,\"ticks\":\"\"},\"type\":\"mesh3d\"}],\"parcoords\":[{\"line\":{\"colorbar\":{\"outlinewidth\":0,\"ticks\":\"\"}},\"type\":\"parcoords\"}],\"pie\":[{\"automargin\":true,\"type\":\"pie\"}],\"scatter\":[{\"marker\":{\"colorbar\":{\"outlinewidth\":0,\"ticks\":\"\"}},\"type\":\"scatter\"}],\"scatter3d\":[{\"line\":{\"colorbar\":{\"outlinewidth\":0,\"ticks\":\"\"}},\"marker\":{\"colorbar\":{\"outlinewidth\":0,\"ticks\":\"\"}},\"type\":\"scatter3d\"}],\"scattercarpet\":[{\"marker\":{\"colorbar\":{\"outlinewidth\":0,\"ticks\":\"\"}},\"type\":\"scattercarpet\"}],\"scattergeo\":[{\"marker\":{\"colorbar\":{\"outlinewidth\":0,\"ticks\":\"\"}},\"type\":\"scattergeo\"}],\"scattergl\":[{\"marker\":{\"colorbar\":{\"outlinewidth\":0,\"ticks\":\"\"}},\"type\":\"scattergl\"}],\"scattermapbox\":[{\"marker\":{\"colorbar\":{\"outlinewidth\":0,\"ticks\":\"\"}},\"type\":\"scattermapbox\"}],\"scatterpolar\":[{\"marker\":{\"colorbar\":{\"outlinewidth\":0,\"ticks\":\"\"}},\"type\":\"scatterpolar\"}],\"scatterpolargl\":[{\"marker\":{\"colorbar\":{\"outlinewidth\":0,\"ticks\":\"\"}},\"type\":\"scatterpolargl\"}],\"scatterternary\":[{\"marker\":{\"colorbar\":{\"outlinewidth\":0,\"ticks\":\"\"}},\"type\":\"scatterternary\"}],\"surface\":[{\"colorbar\":{\"outlinewidth\":0,\"ticks\":\"\"},\"colorscale\":[[0.0,\"#0d0887\"],[0.1111111111111111,\"#46039f\"],[0.2222222222222222,\"#7201a8\"],[0.3333333333333333,\"#9c179e\"],[0.4444444444444444,\"#bd3786\"],[0.5555555555555556,\"#d8576b\"],[0.6666666666666666,\"#ed7953\"],[0.7777777777777778,\"#fb9f3a\"],[0.8888888888888888,\"#fdca26\"],[1.0,\"#f0f921\"]],\"type\":\"surface\"}],\"table\":[{\"cells\":{\"fill\":{\"color\":\"#EBF0F8\"},\"line\":{\"color\":\"white\"}},\"header\":{\"fill\":{\"color\":\"#C8D4E3\"},\"line\":{\"color\":\"white\"}},\"type\":\"table\"}]},\"layout\":{\"annotationdefaults\":{\"arrowcolor\":\"#2a3f5f\",\"arrowhead\":0,\"arrowwidth\":1},\"autotypenumbers\":\"strict\",\"coloraxis\":{\"colorbar\":{\"outlinewidth\":0,\"ticks\":\"\"}},\"colorscale\":{\"diverging\":[[0,\"#8e0152\"],[0.1,\"#c51b7d\"],[0.2,\"#de77ae\"],[0.3,\"#f1b6da\"],[0.4,\"#fde0ef\"],[0.5,\"#f7f7f7\"],[0.6,\"#e6f5d0\"],[0.7,\"#b8e186\"],[0.8,\"#7fbc41\"],[0.9,\"#4d9221\"],[1,\"#276419\"]],\"sequential\":[[0.0,\"#0d0887\"],[0.1111111111111111,\"#46039f\"],[0.2222222222222222,\"#7201a8\"],[0.3333333333333333,\"#9c179e\"],[0.4444444444444444,\"#bd3786\"],[0.5555555555555556,\"#d8576b\"],[0.6666666666666666,\"#ed7953\"],[0.7777777777777778,\"#fb9f3a\"],[0.8888888888888888,\"#fdca26\"],[1.0,\"#f0f921\"]],\"sequentialminus\":[[0.0,\"#0d0887\"],[0.1111111111111111,\"#46039f\"],[0.2222222222222222,\"#7201a8\"],[0.3333333333333333,\"#9c179e\"],[0.4444444444444444,\"#bd3786\"],[0.5555555555555556,\"#d8576b\"],[0.6666666666666666,\"#ed7953\"],[0.7777777777777778,\"#fb9f3a\"],[0.8888888888888888,\"#fdca26\"],[1.0,\"#f0f921\"]]},\"colorway\":[\"#636efa\",\"#EF553B\",\"#00cc96\",\"#ab63fa\",\"#FFA15A\",\"#19d3f3\",\"#FF6692\",\"#B6E880\",\"#FF97FF\",\"#FECB52\"],\"font\":{\"color\":\"#2a3f5f\"},\"geo\":{\"bgcolor\":\"white\",\"lakecolor\":\"white\",\"landcolor\":\"#E5ECF6\",\"showlakes\":true,\"showland\":true,\"subunitcolor\":\"white\"},\"hoverlabel\":{\"align\":\"left\"},\"hovermode\":\"closest\",\"mapbox\":{\"style\":\"light\"},\"paper_bgcolor\":\"white\",\"plot_bgcolor\":\"#E5ECF6\",\"polar\":{\"angularaxis\":{\"gridcolor\":\"white\",\"linecolor\":\"white\",\"ticks\":\"\"},\"bgcolor\":\"#E5ECF6\",\"radialaxis\":{\"gridcolor\":\"white\",\"linecolor\":\"white\",\"ticks\":\"\"}},\"scene\":{\"xaxis\":{\"backgroundcolor\":\"#E5ECF6\",\"gridcolor\":\"white\",\"gridwidth\":2,\"linecolor\":\"white\",\"showbackground\":true,\"ticks\":\"\",\"zerolinecolor\":\"white\"},\"yaxis\":{\"backgroundcolor\":\"#E5ECF6\",\"gridcolor\":\"white\",\"gridwidth\":2,\"linecolor\":\"white\",\"showbackground\":true,\"ticks\":\"\",\"zerolinecolor\":\"white\"},\"zaxis\":{\"backgroundcolor\":\"#E5ECF6\",\"gridcolor\":\"white\",\"gridwidth\":2,\"linecolor\":\"white\",\"showbackground\":true,\"ticks\":\"\",\"zerolinecolor\":\"white\"}},\"shapedefaults\":{\"line\":{\"color\":\"#2a3f5f\"}},\"ternary\":{\"aaxis\":{\"gridcolor\":\"white\",\"linecolor\":\"white\",\"ticks\":\"\"},\"baxis\":{\"gridcolor\":\"white\",\"linecolor\":\"white\",\"ticks\":\"\"},\"bgcolor\":\"#E5ECF6\",\"caxis\":{\"gridcolor\":\"white\",\"linecolor\":\"white\",\"ticks\":\"\"}},\"title\":{\"x\":0.05},\"xaxis\":{\"automargin\":true,\"gridcolor\":\"white\",\"linecolor\":\"white\",\"ticks\":\"\",\"title\":{\"standoff\":15},\"zerolinecolor\":\"white\",\"zerolinewidth\":2},\"yaxis\":{\"automargin\":true,\"gridcolor\":\"white\",\"linecolor\":\"white\",\"ticks\":\"\",\"title\":{\"standoff\":15},\"zerolinecolor\":\"white\",\"zerolinewidth\":2}}}},                        {\"responsive\": true}                    ).then(function(){\n",
       "                            \n",
       "var gd = document.getElementById('26c1f26f-452c-4e61-937c-5b724cfa4fc3');\n",
       "var x = new MutationObserver(function (mutations, observer) {{\n",
       "        var display = window.getComputedStyle(gd).display;\n",
       "        if (!display || display === 'none') {{\n",
       "            console.log([gd, 'removed!']);\n",
       "            Plotly.purge(gd);\n",
       "            observer.disconnect();\n",
       "        }}\n",
       "}});\n",
       "\n",
       "// Listen for the removal of the full notebook cells\n",
       "var notebookContainer = gd.closest('#notebook-container');\n",
       "if (notebookContainer) {{\n",
       "    x.observe(notebookContainer, {childList: true});\n",
       "}}\n",
       "\n",
       "// Listen for the clearing of the current output cell\n",
       "var outputEl = gd.closest('.output');\n",
       "if (outputEl) {{\n",
       "    x.observe(outputEl, {childList: true});\n",
       "}}\n",
       "\n",
       "                        })                };                });            </script>        </div>"
      ]
     },
     "metadata": {},
     "output_type": "display_data"
    }
   ],
   "source": [
    "px.scatter_3d(df3d, x=0, y=1, z=2, hover_name='title', height=900)"
   ]
  },
  {
   "cell_type": "markdown",
   "id": "cddda585-f802-4a4d-871c-73c09018e46c",
   "metadata": {},
   "source": [
    "## Cluster without reducing"
   ]
  },
  {
   "cell_type": "code",
   "execution_count": 24,
   "id": "5384ddac-a80b-4e9b-8faa-c5f482947ec8",
   "metadata": {},
   "outputs": [],
   "source": [
    "bgmix = BayesianGaussianMixture(n_components=3)"
   ]
  },
  {
   "cell_type": "code",
   "execution_count": 25,
   "id": "0f358b0b-98dc-4e72-bfdd-3289d90bfe25",
   "metadata": {},
   "outputs": [],
   "source": [
    "predictions = bgmix.fit_predict(vecs)"
   ]
  },
  {
   "cell_type": "code",
   "execution_count": 26,
   "id": "8826ff01-4068-46ab-8843-38216a45898d",
   "metadata": {},
   "outputs": [],
   "source": [
    "nGroups = max(predictions) + 1\n",
    "groups = {i: [] for i in range(nGroups)}\n",
    "for i, k in enumerate(predictions): \n",
    "    groups[k].append(labels[i])\n",
    "    "
   ]
  },
  {
   "cell_type": "code",
   "execution_count": 27,
   "id": "1e054a6a-1542-4749-9233-a0716f156f8a",
   "metadata": {
    "collapsed": true,
    "jupyter": {
     "outputs_hidden": true
    },
    "tags": []
   },
   "outputs": [
    {
     "data": {
      "text/plain": [
       "{0: ['Introduction to Web Accessibility',\n",
       "  'UNESCO and INFOethics: Seeking global ethical values in the Information Society',\n",
       "  'The Influence of Gender-Ethnic Intersectionality on Gender Stereotypes about IT Skills and Knowledge',\n",
       "  'Algorithms in practice: Comparing web journalism and criminal justice',\n",
       "  'Big Data Surveillance: The Case of Policing',\n",
       "  'Site Selection Bias in Program Evaluation',\n",
       "  \"Why media companies insist they're not media companies, why they're wrong, and why it matters\",\n",
       "  'Beyond the Belmont Principles: Ethical Challenges, Practices, and Beliefs in the Online Data Research Community',\n",
       "  'Gender and Diversity in Collaborative Virtual Teams',\n",
       "  'Accounting for Market Frictions and Power Asymmetries in Online Labor Markets',\n",
       "  '\"Algorithms ruin everything\": #RIPTwitter, Folk Theories, and Resistance to Algorithmic Change in Social Media',\n",
       "  'Big Data ethics',\n",
       "  'Digital Materialisms: Frameworks for Digital Media Studies',\n",
       "  'The Onlife Manifesto: Being Human in a Hyperconnected Era',\n",
       "  'Blended, Not Bossy: Ethics Roles, Responsibilities and Expertise in Design',\n",
       "  'Scholarly Communication: Cultural Contexts, Evolving Models',\n",
       "  'The ethics of algorithms: Mapping the debate',\n",
       "  'Proven practices that can reduce stereotype threat in engineering education: A literature review',\n",
       "  'Automated Media: An Institutional Theory Perspective on Algorithmic Media Production and Consumption',\n",
       "  'Our metrics, ourselves: A hundred years of self-tracking from the weight scale to the wrist wearable device',\n",
       "  'The strategic role of technology in a good society',\n",
       "  'Technology hype versus enduring uses: A longitudinal study of Internet use among early adopters in an African city',\n",
       "  'Cyberspace and International Law: The Penumbral Mist of Uncertainty',\n",
       "  'Can Technology Embody Values',\n",
       "  'Why a Right to Explanation of Automated Decision-Making Does Not Exist in the General Data Protection Regulation',\n",
       "  'Three Views of Logic: Mathematics, Philosophy, and Computer Science',\n",
       "  'Big Data for All: Privacy and User Control in the Age of Analytics',\n",
       "  'Value scenarios: a technique for envisioning systemic effects of new technologies',\n",
       "  'Beyond distributions and primary goods: Assessing applications of rawls in information science and technology literature since 1990',\n",
       "  'Thinking through technology : the path between engineering and philosophy',\n",
       "  'Gender-based violence in 140 characters or fewer: a #BigData case study of Twitter',\n",
       "  'Want to be on the top? Algorithmic power and the threat of invisibility on Facebook',\n",
       "  'A Gift of Fire: Social, Legal, and Ethical Issues for Computing and the Internet',\n",
       "  'Curation by code: Infomediaries and the data mining of taste',\n",
       "  'Full-cycle social psychology for theory and application.',\n",
       "  'The Ethnography of Infrastructure',\n",
       "  'Experimental evidence of massive-scale emotional contagion through social networks.',\n",
       "  'Managing social norms for persuasive impact',\n",
       "  'The like economy: Social buttons and the data-intensive web',\n",
       "  'Estimation and Inference of Heterogeneous Treatment Effects using Random Forests',\n",
       "  'Exceptional Engineering: Challenges and Opportunities for Socially Just Engineering in Non-governmental Organizations in Colombia',\n",
       "  'Professional values and ethics as defined by the LIS discipline',\n",
       "  'The social shaping of technology',\n",
       "  '“Guns Don’t Kill, People Kill”; Values in and/or Around Technologies',\n",
       "  'Dealing with digital intermediaries: A case study of the relations between publishers and platforms',\n",
       "  'Semantics derived automatically from language corpora contain human-like biases',\n",
       "  'The IRA, Social Media and Political Polarization in the United States, 2012-2018',\n",
       "  \"Big Data's Disparate Impact\",\n",
       "  'Determining Whether Commercial Publishers Overcharge Libraries for Scholarly Journals in the Fields of Science, Technology, and Medicine, with a Semilogarithmic Econometric Model',\n",
       "  'Trigger-Action Programming in the Wild: An Analysis of 200,000 IFTTT Recipes',\n",
       "  'GENDER, RACE, AND MERITOCRACY IN ORGANIZATIONAL CAREERS.',\n",
       "  'What Do We Talk About When We Talk About Dashboards?',\n",
       "  'Just Information Warfare',\n",
       "  'Social Justice as Topic and Tool: An Attempt to Transform an LIS Curriculum and Culture',\n",
       "  'Algorithms in practice: Comparing web journalism and criminal justice',\n",
       "  'Telemedicine in the Era of COVID-19',\n",
       "  'Feminist Theories of Technology',\n",
       "  'Inherent Trade-Offs in the Fair Determination of Risk Scores',\n",
       "  'SELECT * FROM USER: infrastructure and socio-technical representation',\n",
       "  'The Role of Ethics in the Commercialization of Indigenous Knowledge',\n",
       "  'A game design methodology to incorporate social activist themes',\n",
       "  'Discriminating Tastes: Customer Ratings as Vehicles for Bias',\n",
       "  'User Perception of Facebook App Data Access: A Comparison of Methods and Privacy Concerns',\n",
       "  'Charting Sociotechnical Dimensions of Values for Design Research',\n",
       "  'Interface Design',\n",
       "  'Online file sharing: resolving the tensions between privacy and property interests',\n",
       "  'What happens before? A field experiment exploring how pay and representation differentially shape bias on the pathway into organizations.',\n",
       "  'Toward a comprehensive understanding of executive cognitive function in implicit racial bias.',\n",
       "  'Gender, Representation and Online Participation: A Quantitative Study of StackOverflow',\n",
       "  'Regional Advantage: Culture and Competition in Silicon Valley and Route 128',\n",
       "  'Ambient Intelligence and Persuasive Technology: The Blurring Boundaries Between Human and Technology',\n",
       "  'Situating Digital Interventions: Mixed Methods for HCI Research in the Home',\n",
       "  'Web-Based Experiments for the Study of Collective Social Dynamics in Cultural Markets',\n",
       "  'Disability, human rights, and social justice: The ongoing struggle for online accessibility and equality',\n",
       "  'Automation, Algorithms, and Politics | When the Algorithm Itself is a Racist: Diagnosing Ethical Harm in the Basic Components of Software',\n",
       "  'The Ethics of Big Data: Current and Foreseeable Issues in Biomedical Contexts',\n",
       "  'Persistence Is Cultural: Professional Socialization and the Reproduction of Sex Segregation',\n",
       "  'It, Gender, and Professional Practice: Or, Why an Automated Drug Distribution System Was Sent Back to the Manufacturer',\n",
       "  'Knowledge exchange processes in organizations and policy arenas: a narrative systematic review of the literature.',\n",
       "  'Critical Making: Conceptual and Material Studies in Technology and Social Life',\n",
       "  'The algorithmic imaginary: exploring the ordinary affects of Facebook algorithms',\n",
       "  'First I \"like\" it, then I hide it: Folk Theories of Social Feeds',\n",
       "  'Working Algorithms: Software Automation and the Future of Work',\n",
       "  'Upon Opening the Black Box and Finding It Empty: Social Constructivism and the Philosophy of Technology',\n",
       "  'Technology and Social Control',\n",
       "  'Environmental, social, and economic implications of global reuse and recycling of personal computers.',\n",
       "  'Big Data Surveillance: The Case of Policing',\n",
       "  'Values and pragmatic action: The challenges of introducing ethical intelligence in technical design communities',\n",
       "  'In the Chamber of Risks: Understanding Risk Controversies',\n",
       "  'Bots as Virtual Confederates: Design and Ethics',\n",
       "  'Computer-Supported Collaborative Learning: Best Practices and Principles for Instructors',\n",
       "  'Alternative Design Scholarship: Working Toward Appropriate Design',\n",
       "  'The Social Impact of Natural Language Processing',\n",
       "  'The digital production gap: The digital divide and Web 2.0 collide',\n",
       "  'Machine Learning and the Rule of Law',\n",
       "  'Algorithmic Ideology: How Capitalist Society Shapes Search Engines',\n",
       "  'The work of sustaining order in wikipedia: the banning of a vandal',\n",
       "  'Social Network Sites as Networked Publics: Affordances, Dynamics, and Implications',\n",
       "  'Seeing without knowing: Limitations of the transparency ideal and its application to algorithmic accountability',\n",
       "  'Autonomous technology and the greater human good',\n",
       "  'Leadership: Theory and Practice',\n",
       "  'How the machine ‘thinks’: Understanding opacity in machine learning algorithms',\n",
       "  'Moral Crumple Zones: Cautionary Tales in Human-Robot Interaction (We Robot 2016)'],\n",
       " 1: [\"Typologie des risques pour une analyse éthique de l'impact des technologies du TAL\",\n",
       "  'Éthique et traitement automatique des langues et de la parole : entre truismes et tabous',\n",
       "  'Transhumanism and the Image of God. Today’s Technology and the Future of Christian Discipleship',\n",
       "  'Technology and the Virtues: A Philosophical Guide to a Future Worth Wanting',\n",
       "  'An Open Access Overview',\n",
       "  \"Annotateurs volontaires investis et éthique de l'annotation de lettres de suicidés\",\n",
       "  'Technology and the Virtues: A Philosophical Guide to a Future Worth Wanting',\n",
       "  'An Open Access Overview',\n",
       "  'When Computers Were Women'],\n",
       " 2: ['On Overcoming Imposter Syndrome.',\n",
       "  'The Breakup 2.0: Disconnecting over New Media',\n",
       "  'The Computer from Pascal to von Neumann',\n",
       "  'Predicting Financial Crime: Augmenting the Predictive Policing Arsenal',\n",
       "  'Philosophical Devices: Proofs, Probabilities, Possibilities, and Sets',\n",
       "  'Race and racism in Internet Studies: A review and critique',\n",
       "  'The Singularity Is Near: When Humans Transcend Biology',\n",
       "  \"Recoding Gender: Women's Changing Participation in Computing\",\n",
       "  'The Social Life of Money',\n",
       "  \"Beginner's Guide to SEO\",\n",
       "  'What you can do.',\n",
       "  'America Calling: A Social History of the Telephone to 1940',\n",
       "  \"The philosopher's toolkit : a compendium of philosophical concepts and methods\",\n",
       "  'Usability Testing Report',\n",
       "  'Ambient belonging: how stereotypical cues impact gender participation in computer science.',\n",
       "  'Tweetment Effects on the Tweeted: Experimentally Reducing Racist Harassment',\n",
       "  'The human use of human beings - cybernetics and society',\n",
       "  'Why librarians can’t fight fake news',\n",
       "  'Through the Google Goggles: Sociopolitical Bias in Search Engine Design',\n",
       "  '\"Touch Someone\": The Telephone Industry Discovers Sociability',\n",
       "  'FROM EDITORS TO ALGORITHMS A Values-Based Approach to Understanding Story Selection in the Facebook News Feed',\n",
       "  \"Artificial Intelligence's White Guy Problem\",\n",
       "  'Technologies of the Gendered Body: Reading Cyborg Women',\n",
       "  'Embodying values in technology: Theory and practice',\n",
       "  'Emotional selection in memes: the case of urban legends.',\n",
       "  'Learning consumption: Media, literacy, and the legacy of One Laptop per Child',\n",
       "  'The digital phoenix : how computers are changing philosophy',\n",
       "  'Car Troubles: Critical Studies of Automobility and Auto-Mobility',\n",
       "  'The Watcher and the Watched: Social Judgments about Privacy in a Public Place',\n",
       "  'Geek Heresy: Rescuing Social Change from the Cult of Technology',\n",
       "  'Machines of Loving Grace: The Quest for Common Ground Between Humans and Robots',\n",
       "  'Logic: A Very Short Introduction',\n",
       "  'It’s Complicated: The Social Lives of Networked Teens',\n",
       "  'The Master Algorithm: How the Quest for the Ultimate Learning Machine Will Remake Our World',\n",
       "  'The Whale and the Reactor',\n",
       "  'All I really need to know about pair programming I learned in kindergarten',\n",
       "  \"'I've Got Nothing to Hide' and Other Misunderstandings of Privacy\",\n",
       "  'The Tyranny of Structurelessness',\n",
       "  'Indigenous Circuits: Navajo Women and the Racialization of Early Electronic Manufacture',\n",
       "  'Good Faith Collaboration: The Culture of Wikipedia',\n",
       "  \"'I've Got Nothing to Hide' and Other Misunderstandings of Privacy\",\n",
       "  'Wired for War: The Robotics Revolution and Conflict in the 21st Century',\n",
       "  'Rise of the Robots: Technology and the Threat of a Jobless Future, by Martin Ford',\n",
       "  'Logic in computer science - modelling and reasoning about systems (2. ed.)',\n",
       "  'Reset: Reclaiming the Internet for Civil Society',\n",
       "  'The Data Base for Advances in Information Systems',\n",
       "  'What ever happened to accountability?',\n",
       "  'The Visible Hand: Race and Online Market Outcomes',\n",
       "  \"Leo Marx's The Machine in the Garden\",\n",
       "  'Understanding Media: The Extensions of Man',\n",
       "  'Self-Tracking',\n",
       "  'Making technology homey: finding sources of satisfaction and meaning in home automation',\n",
       "  'Recommended for you: The Netflix Prize and the production of algorithmic culture',\n",
       "  'We Have Never Been Modern',\n",
       "  'Reconsidering the ‘Right to be Forgotten’ – memory rights and the right to memory in the new media era',\n",
       "  'Burning Man at Google: a cultural infrastructure for new media production',\n",
       "  \"Hacking tech'S diversity problem\",\n",
       "  'Evocative Objects: Things We Think With',\n",
       "  'Do Gays Shy Away from Competition? Do Lesbians Compete Too Much?',\n",
       "  'Pax Technica: How the Internet of Things May Set Us Free or Lock Us Up',\n",
       "  'The Cambridge Handbook Of Information And Computer Ethics',\n",
       "  \"Lance Strate. Amazing Ourselves to Death: Neil Postman's Brave New World Revisited\",\n",
       "  'A Small World: Smart Houses and the Dream of the Perfect Day',\n",
       "  'How Should the Law Think About Robots',\n",
       "  'Problems Of Philosophy',\n",
       "  'Review of \"Weapons of Math Destruction: How Big Data Increases Inequality and Threatens Democracy\" by Cathy O’Neil',\n",
       "  'Do Artifacts Have Politics',\n",
       "  'Moral Machines?',\n",
       "  'Card-sorting',\n",
       "  'Authoritarian and Democratic Technics',\n",
       "  'A 61-million-person experiment in social influence and political mobilization',\n",
       "  'The charisma machine: The life, death, and legacy of one laptop per child',\n",
       "  'Television: Technology and Cultural Form',\n",
       "  'Even facts cannot change our minds',\n",
       "  'Do Artifacts Have Politics',\n",
       "  'Do Health and Forensic DNA Databases Increase Racial Disparities?',\n",
       "  'The design philosophy of the DARPA Internet Protocols',\n",
       "  'Weapons of Math Destruction',\n",
       "  'Who Controls the Internet? Illusions of a Borderless World',\n",
       "  'The culture of narcissism.',\n",
       "  'Blown to Bits: Your Life, Liberty, and Happiness After the Digital Explosion',\n",
       "  'Tweetment Effects on the Tweeted: Experimentally Reducing Racist Harassment',\n",
       "  'American Girls: Social Media and the Secret Lives of Teenagers',\n",
       "  'Afterword',\n",
       "  'Locating the wrongness in ultra-violent video games',\n",
       "  'Moral Predators: The Duty to Employ Uninhabited Aerial Vehicles',\n",
       "  'Stuck in the Shallow End: Education, Race, and Computing',\n",
       "  'John Cheney-Lippold, We Are Data: Algorithms and the Making of Our Digital Selves',\n",
       "  'Using Dublin Core',\n",
       "  'The spread of true and false news online',\n",
       "  'Review: The Social Shaping of Technology',\n",
       "  'Do Artifacts Have Politics',\n",
       "  'The Drama! Teen Conflict, Gossip, and Bullying in Networked Publics']}"
      ]
     },
     "execution_count": 27,
     "metadata": {},
     "output_type": "execute_result"
    }
   ],
   "source": [
    "groups"
   ]
  },
  {
   "cell_type": "code",
   "execution_count": 28,
   "id": "ca2eec01-68d7-431c-9aed-47bb3307badb",
   "metadata": {},
   "outputs": [
    {
     "data": {
      "text/plain": [
       "MASE7ZWB.json    L'auteur retablit la verite sur l'histoire des...\n",
       "Name: abstract, dtype: object"
      ]
     },
     "execution_count": 28,
     "metadata": {},
     "output_type": "execute_result"
    }
   ],
   "source": [
    "df[df['title'] == 'When Computers Were Women']['abstract']"
   ]
  },
  {
   "cell_type": "markdown",
   "id": "6e79a81b-4667-4b70-9478-f127ac73b2f4",
   "metadata": {},
   "source": [
    "## Throw out Outliners and Try Again"
   ]
  },
  {
   "cell_type": "code",
   "execution_count": 33,
   "id": "1f683720-b24d-493e-8e2f-65b2edac19c6",
   "metadata": {},
   "outputs": [],
   "source": [
    "kmeans = KMeans(n_clusters=3)"
   ]
  },
  {
   "cell_type": "code",
   "execution_count": 34,
   "id": "c16264c4-d544-4240-a414-7b3f7546141d",
   "metadata": {},
   "outputs": [
    {
     "data": {
      "text/plain": [
       "array([0, 0, 0, 0, 0, 0, 0, 0, 0, 0, 0, 0, 1, 0, 0, 0, 0, 1, 0, 0, 0, 0,\n",
       "       0, 0, 2, 0, 0, 0, 0, 0, 0, 0, 0, 0, 0, 0, 0, 0, 0, 2, 0, 0, 0, 0,\n",
       "       0, 0, 0, 0, 2, 0, 2, 0, 0, 0, 0, 0, 0, 0, 0, 0, 0, 0, 0, 0, 0, 0,\n",
       "       0, 0, 0, 0, 0, 0, 0, 0, 0, 0, 0, 0, 0, 0, 0, 0, 0, 0, 0, 0, 0, 0,\n",
       "       0, 0, 0, 0, 0, 0, 0, 0, 0, 0, 0, 0, 0, 0, 0, 0, 0, 0, 0, 0, 0, 2,\n",
       "       0, 0, 0, 0, 0, 0, 0, 0, 0, 0, 0, 2, 0, 0, 0, 0, 0, 2, 0, 0, 0, 0,\n",
       "       0, 0, 0, 0, 0, 0, 0, 0, 0, 0, 0, 2, 0, 0, 0, 2, 0, 0, 0, 0, 0, 0,\n",
       "       0, 0, 0, 0, 0, 0, 0, 0, 0, 0, 0, 0, 0, 0, 0, 2, 0, 0, 0, 0, 0, 0,\n",
       "       0, 0, 0, 0, 0, 2, 0, 0, 0, 0, 0, 1, 0, 0, 0, 0, 0, 0, 0, 0, 0, 0,\n",
       "       0, 0, 0, 0, 0, 0, 0], dtype=int32)"
      ]
     },
     "execution_count": 34,
     "metadata": {},
     "output_type": "execute_result"
    }
   ],
   "source": [
    "kmeans.fit_predict(threeDimensionalVecs)"
   ]
  },
  {
   "cell_type": "code",
   "execution_count": 35,
   "id": "d1b92868-864a-4c8a-9891-a0659b962bcc",
   "metadata": {},
   "outputs": [],
   "source": [
    "df3d['kmeans'] = kmeans.fit_predict(threeDimensionalVecs)"
   ]
  },
  {
   "cell_type": "code",
   "execution_count": 46,
   "id": "ec75958e-98e2-4bac-8f0f-034c3b0cb39f",
   "metadata": {},
   "outputs": [
    {
     "data": {
      "text/plain": [
       "[-0.14112803815305963, 0.016417075345622936, 0.006613554410748701]"
      ]
     },
     "execution_count": 46,
     "metadata": {},
     "output_type": "execute_result"
    }
   ],
   "source": [
    "[df3d[df3d['kmeans'] == 0][i].mean() for i in [0, 1, 2]] # Get the centroid"
   ]
  },
  {
   "cell_type": "code",
   "execution_count": 47,
   "id": "25b45898-36a9-49bc-899e-195272039f35",
   "metadata": {},
   "outputs": [
    {
     "data": {
      "text/plain": [
       "array([[-0.14112804,  0.01641708,  0.00661355],\n",
       "       [ 3.71984017,  1.32040718,  0.28507483],\n",
       "       [ 1.43599407, -0.64517118, -0.19258303]])"
      ]
     },
     "execution_count": 47,
     "metadata": {},
     "output_type": "execute_result"
    }
   ],
   "source": [
    "kmeans.cluster_centers_"
   ]
  },
  {
   "cell_type": "code",
   "execution_count": 86,
   "id": "e82f97d0-ad80-4040-9fa5-86d99b00e5ec",
   "metadata": {},
   "outputs": [],
   "source": [
    "centroid = np.array(kmeans.cluster_centers_[0]).reshape(-1, 1)"
   ]
  },
  {
   "cell_type": "code",
   "execution_count": 77,
   "id": "f3dc92cf-644d-4aec-9afb-88e7dbefe069",
   "metadata": {},
   "outputs": [],
   "source": [
    "def similarityToCentroid(points, centroid=kmeans.cluster_centers_[0]): \n",
    "    \"\"\" \n",
    "    Let's figure out how similar each point is to the center of the main cluster. \n",
    "    \"\"\"\n",
    "    return cosine_similarity(arr, centroid)"
   ]
  },
  {
   "cell_type": "code",
   "execution_count": 88,
   "id": "d8c81fd3-6861-4044-9e29-972e402974d8",
   "metadata": {},
   "outputs": [
    {
     "data": {
      "text/plain": [
       "array([[ 1., -1., -1.],\n",
       "       [ 1., -1., -1.],\n",
       "       [-1.,  1.,  1.]])"
      ]
     },
     "execution_count": 88,
     "metadata": {},
     "output_type": "execute_result"
    }
   ],
   "source": [
    "testPoint = df3d.iloc[1][[0, 1, 2]].to_numpy()\n",
    "testPoint = testPoint.reshape(-1, 1)\n",
    "cosine_similarity(testPoint, centroid)"
   ]
  },
  {
   "cell_type": "code",
   "execution_count": 90,
   "id": "287d4512-702d-4638-a847-2d62caeb7a12",
   "metadata": {},
   "outputs": [],
   "source": [
    "groupZero = df3d[df3d['kmeans'] == 0]"
   ]
  },
  {
   "cell_type": "code",
   "execution_count": null,
   "id": "1aba07cf-934b-49f6-8486-2e95fb2718a7",
   "metadata": {},
   "outputs": [],
   "source": [
    "def doc2vec(text): \n",
    "    return nlp"
   ]
  },
  {
   "cell_type": "code",
   "execution_count": 100,
   "id": "c1535d98-db54-47c4-8f92-f69fa183f5dd",
   "metadata": {},
   "outputs": [
    {
     "name": "stderr",
     "output_type": "stream",
     "text": [
      "/run/user/1000/ipykernel_531927/435259139.py:1: SettingWithCopyWarning:\n",
      "\n",
      "\n",
      "A value is trying to be set on a copy of a slice from a DataFrame.\n",
      "Try using .loc[row_indexer,col_indexer] = value instead\n",
      "\n",
      "See the caveats in the documentation: https://pandas.pydata.org/pandas-docs/stable/user_guide/indexing.html#returning-a-view-versus-a-copy\n",
      "\n"
     ]
    }
   ],
   "source": [
    "docsWithAbstracts['vecs'] = docsWithAbstracts['abstract'].apply(lambda t: nlp(t).vector)"
   ]
  },
  {
   "cell_type": "code",
   "execution_count": 110,
   "id": "ed48c869-8359-4d5b-9db6-247c0c478cf0",
   "metadata": {},
   "outputs": [],
   "source": [
    "preds = kmeans.fit_predict(vecs)"
   ]
  },
  {
   "cell_type": "code",
   "execution_count": 109,
   "id": "23160a68-19d0-4503-969c-3b732fbe912f",
   "metadata": {},
   "outputs": [
    {
     "data": {
      "text/plain": [
       "(205, 205)"
      ]
     },
     "execution_count": 109,
     "metadata": {},
     "output_type": "execute_result"
    }
   ],
   "source": [
    "len(vecs), len(labels)"
   ]
  },
  {
   "cell_type": "code",
   "execution_count": 115,
   "id": "6abfa050-4f11-4ec1-b64c-4b58a6022c85",
   "metadata": {},
   "outputs": [],
   "source": [
    "df300 = pd.DataFrame([vecs, labels, preds], index=['vecs', 'title', 'kmeans']).T"
   ]
  },
  {
   "cell_type": "code",
   "execution_count": 119,
   "id": "d6feab72-1c55-477e-a7cf-2872805f1a23",
   "metadata": {},
   "outputs": [],
   "source": [
    "groupZero = df300[df300['kmeans'] == 0]"
   ]
  },
  {
   "cell_type": "code",
   "execution_count": 124,
   "id": "dd914a22-3e5c-4e0d-b6a5-eeecdd52532f",
   "metadata": {},
   "outputs": [],
   "source": [
    "groupZeroVecs = np.stack(groupZero['vecs'].to_numpy())"
   ]
  },
  {
   "cell_type": "code",
   "execution_count": 126,
   "id": "23c1c9de-5972-49f0-b4c8-4707e5df2a4b",
   "metadata": {},
   "outputs": [
    {
     "data": {
      "text/plain": [
       "array([0, 0, 0, 2, 1, 0, 0, 1, 2, 2, 1, 2, 2, 1, 0, 1, 1, 1, 2, 2, 0, 1,\n",
       "       0, 1, 0, 0, 2, 0, 0, 0, 1, 2, 1, 2, 2, 1, 0, 1, 1, 0, 0, 1, 2, 1,\n",
       "       2, 0, 1, 2, 1, 0, 0, 2, 0, 2, 2, 1, 1, 1, 1, 1, 1, 1, 1, 2, 0, 1,\n",
       "       0, 1, 0, 1, 0, 1, 2, 1, 1, 2, 1, 0, 2, 1, 1, 2, 2, 0, 0, 1, 0, 1,\n",
       "       0, 1, 0, 2, 2, 1, 1, 1, 0, 2, 1, 1, 2, 0, 1, 0, 0, 1, 0, 0, 2, 1,\n",
       "       1, 1, 2, 1, 0, 0, 1, 1, 1, 0, 0, 1, 1, 0, 2, 2, 0, 1, 1, 1, 1, 1,\n",
       "       0, 1, 1, 1, 1, 1, 2, 0, 1, 1, 0, 0, 1, 0, 1, 0, 1, 0, 1, 2, 2, 1,\n",
       "       1, 1, 1, 0, 1, 2, 2, 1, 0, 2, 1, 2, 2, 2, 0, 1, 2, 2, 1, 0, 1, 1,\n",
       "       0, 2, 1, 0, 1, 0, 1, 0, 1, 2, 2, 1, 0, 0], dtype=int32)"
      ]
     },
     "execution_count": 126,
     "metadata": {},
     "output_type": "execute_result"
    }
   ],
   "source": [
    "kmeans.fit_predict(groupZeroVecs)"
   ]
  },
  {
   "cell_type": "code",
   "execution_count": 128,
   "id": "216a30c2-6a8e-4ceb-8f32-fd27e2cd33ed",
   "metadata": {},
   "outputs": [
    {
     "name": "stderr",
     "output_type": "stream",
     "text": [
      "/run/user/1000/ipykernel_531927/1537907107.py:1: SettingWithCopyWarning:\n",
      "\n",
      "\n",
      "A value is trying to be set on a copy of a slice from a DataFrame.\n",
      "Try using .loc[row_indexer,col_indexer] = value instead\n",
      "\n",
      "See the caveats in the documentation: https://pandas.pydata.org/pandas-docs/stable/user_guide/indexing.html#returning-a-view-versus-a-copy\n",
      "\n"
     ]
    }
   ],
   "source": [
    "groupZero['kmeans2'] = kmeans.fit_predict(groupZeroVecs)"
   ]
  },
  {
   "cell_type": "code",
   "execution_count": 142,
   "id": "27be9df8-9eee-4600-b5b1-7a80895856fa",
   "metadata": {},
   "outputs": [
    {
     "name": "stdout",
     "output_type": "stream",
     "text": [
      "\n",
      "\n",
      "*** Group 0 ***\n",
      "3                The Computer from Pascal to von Neumann\n",
      "10     The Singularity Is Near: When Humans Transcend...\n",
      "13     Recoding Gender: Women's Changing Participatio...\n",
      "14                              The Social Life of Money\n",
      "21                                      What you can do.\n",
      "22     America Calling: A Social History of the Telep...\n",
      "30     The human use of human beings - cybernetics an...\n",
      "35     FROM EDITORS TO ALGORITHMS A Values-Based Appr...\n",
      "37           Artificial Intelligence's White Guy Problem\n",
      "38     Technologies of the Gendered Body: Reading Cyb...\n",
      "47     Learning consumption: Media, literacy, and the...\n",
      "51     The Watcher and the Watched: Social Judgments ...\n",
      "54     Geek Heresy: Rescuing Social Change from the C...\n",
      "58     Machines of Loving Grace: The Quest for Common...\n",
      "60     It’s Complicated: The Social Lives of Networke...\n",
      "61     The Master Algorithm: How the Quest for the Ul...\n",
      "70                             The Whale and the Reactor\n",
      "79     Indigenous Circuits: Navajo Women and the Raci...\n",
      "82     Good Faith Collaboration: The Culture of Wikip...\n",
      "85     Wired for War: The Robotics Revolution and Con...\n",
      "88     Rise of the Robots: Technology and the Threat ...\n",
      "89     Logic in computer science - modelling and reas...\n",
      "98     The Data Base for Advances in Information Systems\n",
      "99                 What ever happened to accountability?\n",
      "104                 Leo Marx's The Machine in the Garden\n",
      "107           Understanding Media: The Extensions of Man\n",
      "120    Burning Man at Google: a cultural infrastructu...\n",
      "134    Lance Strate. Amazing Ourselves to Death: Neil...\n",
      "135    A Small World: Smart Houses and the Dream of t...\n",
      "150                           Do Artifacts Have Politics\n",
      "163    The charisma machine: The life, death, and leg...\n",
      "164             Television: Technology and Cultural Form\n",
      "172                           Do Artifacts Have Politics\n",
      "173    Do Health and Forensic DNA Databases Increase ...\n",
      "176                          Weapons of Math Destruction\n",
      "178    Who Controls the Internet? Illusions of a Bord...\n",
      "179                           The culture of narcissism.\n",
      "180    Blown to Bits: Your Life, Liberty, and Happine...\n",
      "184    American Girls: Social Media and the Secret Li...\n",
      "185                                            Afterword\n",
      "192    Stuck in the Shallow End: Education, Race, and...\n",
      "200             Review: The Social Shaping of Technology\n",
      "201                           Do Artifacts Have Politics\n",
      "Name: title, dtype: object\n",
      "\n",
      "\n",
      "*** Group 1 ***\n",
      "4      UNESCO and INFOethics: Seeking global ethical ...\n",
      "7      Algorithms in practice: Comparing web journali...\n",
      "11           Big Data Surveillance: The Case of Policing\n",
      "15             Site Selection Bias in Program Evaluation\n",
      "18     Why media companies insist they're not media c...\n",
      "                             ...                        \n",
      "193    Social Network Sites as Networked Publics: Aff...\n",
      "195    Seeing without knowing: Limitations of the tra...\n",
      "197     Autonomous technology and the greater human good\n",
      "199                      Leadership: Theory and Practice\n",
      "202    How the machine ‘thinks’: Understanding opacit...\n",
      "Name: title, Length: 86, dtype: object\n",
      "\n",
      "\n",
      "*** Group 2 ***\n",
      "0                       On Overcoming Imposter Syndrome.\n",
      "1          The Breakup 2.0: Disconnecting over New Media\n",
      "2                      Introduction to Web Accessibility\n",
      "5      Predicting Financial Crime: Augmenting the Pre...\n",
      "6      The Influence of Gender-Ethnic Intersectionali...\n",
      "                             ...                        \n",
      "194    John Cheney-Lippold, We Are Data: Algorithms a...\n",
      "196                                    Using Dublin Core\n",
      "198             The spread of true and false news online\n",
      "203    The Drama! Teen Conflict, Gossip, and Bullying...\n",
      "204    Moral Crumple Zones: Cautionary Tales in Human...\n",
      "Name: title, Length: 61, dtype: object\n"
     ]
    }
   ],
   "source": [
    "for i, group in groupZero.groupby('kmeans2'): \n",
    "    print(f\"\\n\\n*** Group {i} ***\")\n",
    "    print(group['title'])"
   ]
  },
  {
   "cell_type": "markdown",
   "id": "acf5d8f1-5d6d-4d86-a727-ce4ca28d142e",
   "metadata": {},
   "source": [
    "## Topic Modeling"
   ]
  },
  {
   "cell_type": "code",
   "execution_count": 190,
   "id": "7a56cb45-12ac-4a3e-902c-6fe5a188fae2",
   "metadata": {},
   "outputs": [],
   "source": [
    "vectorizer = CountVectorizer(stop_words='english')"
   ]
  },
  {
   "cell_type": "code",
   "execution_count": 191,
   "id": "e44e48a0-084d-49e3-82b7-499ed4892c9c",
   "metadata": {},
   "outputs": [],
   "source": [
    "counts = vectorizer.fit_transform([abst.text for abst in abstractDocs])"
   ]
  },
  {
   "cell_type": "code",
   "execution_count": 192,
   "id": "75fd606c-5f74-4bbe-9fa0-1fd89ad164d7",
   "metadata": {},
   "outputs": [
    {
     "data": {
      "text/plain": [
       "<205x6487 sparse matrix of type '<class 'numpy.int64'>'\n",
       "\twith 16874 stored elements in Compressed Sparse Row format>"
      ]
     },
     "execution_count": 192,
     "metadata": {},
     "output_type": "execute_result"
    }
   ],
   "source": [
    "counts"
   ]
  },
  {
   "cell_type": "code",
   "execution_count": 193,
   "id": "8971bf9f-2b9a-4e2b-bbd9-5ea2fdfff3c8",
   "metadata": {
    "tags": []
   },
   "outputs": [],
   "source": [
    "wordLabels = vectorizer.get_feature_names()"
   ]
  },
  {
   "cell_type": "code",
   "execution_count": 210,
   "id": "9d340833-33cf-431b-bea9-c467ee670803",
   "metadata": {
    "tags": []
   },
   "outputs": [],
   "source": [
    "lda = LatentDirichletAllocation(n_components=5)"
   ]
  },
  {
   "cell_type": "code",
   "execution_count": 211,
   "id": "23bff1d1-7a29-4a50-9c67-a5c6a0cffdd5",
   "metadata": {},
   "outputs": [],
   "source": [
    "ldaOut = lda.fit_transform(counts)"
   ]
  },
  {
   "cell_type": "code",
   "execution_count": 212,
   "id": "ad82d401-9133-4c17-97cf-b8f8517eca36",
   "metadata": {},
   "outputs": [
    {
     "data": {
      "text/plain": [
       "array([[4.54057021e-03, 9.81891713e-01, 4.50602944e-03, 4.54607545e-03,\n",
       "        4.51561235e-03],\n",
       "       [1.39488699e-03, 9.94409253e-01, 1.39612865e-03, 1.39828204e-03,\n",
       "        1.40144954e-03],\n",
       "       [3.74230105e-03, 3.76915410e-03, 9.84902918e-01, 3.77875632e-03,\n",
       "        3.80687032e-03],\n",
       "       ...,\n",
       "       [1.97523898e-03, 9.92129769e-01, 1.96324339e-03, 1.95532522e-03,\n",
       "        1.97642379e-03],\n",
       "       [1.47618331e-03, 1.48046921e-03, 1.49999634e-03, 9.94046508e-01,\n",
       "        1.49684340e-03],\n",
       "       [9.86581886e-04, 9.97222485e-04, 2.23797098e-02, 9.74635848e-01,\n",
       "        1.00063738e-03]])"
      ]
     },
     "execution_count": 212,
     "metadata": {},
     "output_type": "execute_result"
    }
   ],
   "source": [
    "ldaOut"
   ]
  },
  {
   "cell_type": "code",
   "execution_count": 213,
   "id": "ddef14bf-285d-4c1e-80ac-889d63d9738d",
   "metadata": {},
   "outputs": [
    {
     "name": "stdout",
     "output_type": "stream",
     "text": [
      "Topic 0\n",
      "leadership case data approach work studies scoring summary chapter bias\n",
      "Topic 1\n",
      "technology social new society technologies book people values use world\n",
      "Topic 2\n",
      "social technology new internet date people news systems logic science\n",
      "Topic 3\n",
      "data information big use ethical university usa social systems ethics\n",
      "Topic 4\n",
      "design technology social algorithms information values value digital work research\n"
     ]
    }
   ],
   "source": [
    "topicLabels = []\n",
    "for i, topic in enumerate(lda.components_): \n",
    "    print(f\"Topic {i}\")\n",
    "    topicLabel = \" \".join([wordLabels[i] for i in topic.argsort()[:-10 - 1:-1]])\n",
    "    print(topicLabel)\n",
    "    topicLabels.append(topicLabel)"
   ]
  },
  {
   "cell_type": "code",
   "execution_count": 214,
   "id": "5b77cb99-6114-4c22-9b47-9c981dc6052b",
   "metadata": {},
   "outputs": [],
   "source": [
    "ldaDF = pd.DataFrame(ldaOut, columns=topicLabels)"
   ]
  }
 ],
 "metadata": {
  "kernelspec": {
   "display_name": "Python 3 (ipykernel)",
   "language": "python",
   "name": "python3"
  },
  "language_info": {
   "codemirror_mode": {
    "name": "ipython",
    "version": 3
   },
   "file_extension": ".py",
   "mimetype": "text/x-python",
   "name": "python",
   "nbconvert_exporter": "python",
   "pygments_lexer": "ipython3",
   "version": "3.8.12"
  }
 },
 "nbformat": 4,
 "nbformat_minor": 5
}
