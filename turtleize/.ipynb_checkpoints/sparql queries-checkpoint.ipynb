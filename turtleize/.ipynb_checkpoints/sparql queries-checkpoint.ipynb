{
 "cells": [
  {
   "cell_type": "code",
   "execution_count": 2,
   "id": "unlimited-preference",
   "metadata": {},
   "outputs": [],
   "source": [
    "import requests"
   ]
  },
  {
   "cell_type": "code",
   "execution_count": 3,
   "id": "raised-computer",
   "metadata": {},
   "outputs": [],
   "source": [
    "import rdflib\n",
    "g = rdflib.Graph()"
   ]
  },
  {
   "cell_type": "code",
   "execution_count": 7,
   "id": "adjacent-pakistan",
   "metadata": {},
   "outputs": [],
   "source": [
    "filename= '../data/courses.ttl'\n",
    "result = g.parse(filename, format='ttl')\n"
   ]
  },
  {
   "cell_type": "code",
   "execution_count": 4,
   "id": "opened-least",
   "metadata": {},
   "outputs": [],
   "source": [
    "gv3 = rdflib.Graph()\n",
    "file3 = '../data/testfile1.ttl'\n",
    "res3 = gv3.parse(file3, format='ttl')"
   ]
  },
  {
   "cell_type": "code",
   "execution_count": 8,
   "id": "referenced-bosnia",
   "metadata": {},
   "outputs": [
    {
     "name": "stdout",
     "output_type": "stream",
     "text": [
      "(rdflib.term.Literal('Stanford University'),)\n",
      "(rdflib.term.Literal('Seattle University'),)\n",
      "(rdflib.term.Literal('University of Michigan'),)\n",
      "(rdflib.term.Literal('TU Wien'),)\n",
      "(rdflib.term.Literal('University of Pennsylvania '),)\n",
      "(rdflib.term.Literal('Tufts University/Fletcher'),)\n",
      "(rdflib.term.Literal('University of Milan'),)\n",
      "(rdflib.term.Literal('Arizona State University'),)\n",
      "(rdflib.term.Literal('Western New England University'),)\n",
      "(rdflib.term.Literal('Oregon Health & Science University'),)\n",
      "(rdflib.term.Literal('Calvin University'),)\n",
      "(rdflib.term.Literal('Interamerican University of Puerto Rico'),)\n",
      "(rdflib.term.Literal('The New School'),)\n",
      "(rdflib.term.Literal('Bauhaus-Universität Weimar, Germany'),)\n",
      "(rdflib.term.Literal('Loyola University Chicago'),)\n",
      "(rdflib.term.Literal('Georgia Institute of Technology'),)\n",
      "(rdflib.term.Literal('Bucknell University'),)\n",
      "(rdflib.term.Literal('Indian Institute of Technology Delhi'),)\n",
      "(rdflib.term.Literal(\"King's College London\"),)\n",
      "(rdflib.term.Literal('University of Washington Tacoma'),)\n",
      "(rdflib.term.Literal('IT University of Copenhagen'),)\n",
      "(rdflib.term.Literal('Univ. Complutense de Madrid'),)\n",
      "(rdflib.term.Literal('Simon Fraser University'),)\n",
      "(rdflib.term.Literal('r'),)\n",
      "(rdflib.term.Literal('University of Southern California'),)\n",
      "(rdflib.term.Literal('University of Wisconsin - Madison'),)\n",
      "(rdflib.term.Literal('McGill University'),)\n",
      "(rdflib.term.Literal('St. Olaf College'),)\n",
      "(rdflib.term.Literal('Massachusetts Institute of Technology, Harvard University'),)\n",
      "(rdflib.term.Literal('University of Colorado Boulder'),)\n",
      "(rdflib.term.Literal('Boise State University'),)\n",
      "(rdflib.term.Literal('University of Maryland, College Park '),)\n",
      "(rdflib.term.Literal('Tilburg University, The Netherlandsu'),)\n",
      "(rdflib.term.Literal('University of Cambridge'),)\n",
      "(rdflib.term.Literal('Center for Technology Ethics'),)\n",
      "(rdflib.term.Literal('Penn State University'),)\n",
      "(rdflib.term.Literal('University of North Georgia'),)\n",
      "(rdflib.term.Literal('Guilford College'),)\n",
      "(rdflib.term.Literal('De Montfort University'),)\n",
      "(rdflib.term.Literal('University of Texas at Austin'),)\n",
      "(rdflib.term.Literal('Michigan Technological University'),)\n",
      "(rdflib.term.Literal('Montana State University'),)\n",
      "(rdflib.term.Literal('Lakehead University '),)\n",
      "(rdflib.term.Literal('TU Munich'),)\n",
      "(rdflib.term.Literal('University College London'),)\n",
      "(rdflib.term.Literal('Hofstra University'),)\n",
      "(rdflib.term.Literal('Sciences Po Paris - European Campus'),)\n",
      "(rdflib.term.Literal('Massachusetts Institute of Technology (MIT) - Georgetown University'),)\n",
      "(rdflib.term.Literal('Montana State University '),)\n",
      "(rdflib.term.Literal('Professional Development at Facebook, Google, etc'),)\n",
      "(rdflib.term.Literal('University of Zurich'),)\n",
      "(rdflib.term.Literal('UC San Diego'),)\n",
      "(rdflib.term.Literal('University of Waterloo'),)\n",
      "(rdflib.term.Literal('Open Access Course Materials CTE'),)\n",
      "(rdflib.term.Literal('Marist College'),)\n",
      "(rdflib.term.Literal('California Polytechnic State Univ., San Luis Obispo'),)\n",
      "(rdflib.term.Literal('Indiana University Bloomington'),)\n",
      "(rdflib.term.Literal('Wilfrid Laurier University'),)\n",
      "(rdflib.term.Literal('Princeton University'),)\n",
      "(rdflib.term.Literal('University of Alaska'),)\n",
      "(rdflib.term.Literal('Virginia Tech'),)\n",
      "(rdflib.term.Literal('Haverford College'),)\n",
      "(rdflib.term.Literal('Tufts University'),)\n",
      "(rdflib.term.Literal('Sciences Po Paris'),)\n",
      "(rdflib.term.Literal('Portland State University'),)\n",
      "(rdflib.term.Literal('The University of Texas at Dallas'),)\n",
      "(rdflib.term.Literal('Marquette University'),)\n",
      "(rdflib.term.Literal('North Carolina State University'),)\n",
      "(rdflib.term.Literal('Massachusetts Institute of Technology (MIT)'),)\n",
      "(rdflib.term.Literal('Texas A&M University'),)\n",
      "(rdflib.term.Literal('Old Dominion University'),)\n",
      "(rdflib.term.Literal('Columbia University'),)\n",
      "(rdflib.term.Literal('Yale University'),)\n",
      "(rdflib.term.Literal('The University of Sydney'),)\n",
      "(rdflib.term.Literal('UC Davis'),)\n",
      "(rdflib.term.Literal('Duke - Fuqua School of Business'),)\n",
      "(rdflib.term.Literal('University of Maryland - College Park'),)\n",
      "(rdflib.term.Literal('UC Berkeley'),)\n",
      "(rdflib.term.Literal('Colorado School of Mines'),)\n",
      "(rdflib.term.Literal('Stevens Institute of Technology'),)\n",
      "(rdflib.term.Literal('Rensselaer Polytechnic Inst'),)\n",
      "(rdflib.term.Literal('Harvard University'),)\n",
      "(rdflib.term.Literal('Universidad de Chile'),)\n",
      "(rdflib.term.Literal('Rochester Institute of Technology'),)\n",
      "(rdflib.term.Literal('Earlham College'),)\n",
      "(rdflib.term.Literal('MIT'),)\n",
      "(rdflib.term.Literal('Drexel University'),)\n",
      "(rdflib.term.Literal('University of Udine (Italy) and of Klagenfurt (Austria) Double degree'),)\n",
      "(rdflib.term.Literal('University of Notre Dame'),)\n",
      "(rdflib.term.Literal('Tel Aviv University'),)\n",
      "(rdflib.term.Literal('DePaul University'),)\n",
      "(rdflib.term.Literal('University of British Columbia'),)\n",
      "(rdflib.term.Literal('University College Dublin'),)\n",
      "(rdflib.term.Literal('University of Lisbon'),)\n",
      "(rdflib.term.Literal('University of Kentucky'),)\n",
      "(rdflib.term.Literal('Cornell University'),)\n",
      "(rdflib.term.Literal('Interdisciplinary Center Herzliya'),)\n",
      "(rdflib.term.Literal('California State University Fullerton'),)\n",
      "(rdflib.term.Literal('Northeastern University'),)\n",
      "(rdflib.term.Literal('University of North Carolina at Chapel Hill'),)\n",
      "(rdflib.term.Literal('University of Central Florida'),)\n",
      "(rdflib.term.Literal('nan', datatype=rdflib.term.URIRef('http://www.w3.org/2001/XMLSchema#double')),)\n",
      "(rdflib.term.Literal('University of Wisconsin Milwaukee'),)\n",
      "(rdflib.term.Literal('Victoria University of Wellington'),)\n",
      "(rdflib.term.Literal('Humboldt-Universität zu Berlin'),)\n",
      "(rdflib.term.Literal('University of Edinburgh'),)\n",
      "(rdflib.term.Literal('Swiss Federal Institute of Technology'),)\n",
      "(rdflib.term.Literal('Northwestern University'),)\n",
      "(rdflib.term.Literal('Georgetown University'),)\n",
      "(rdflib.term.Literal('Saint Louis University'),)\n",
      "(rdflib.term.Literal('University of Utah'),)\n",
      "(rdflib.term.Literal('Wellesley College'),)\n",
      "(rdflib.term.Literal('Santa Clara University'),)\n",
      "(rdflib.term.Literal('UC Berkeley '),)\n",
      "(rdflib.term.Literal('Bemidji State University'),)\n",
      "(rdflib.term.Literal('University of Maryland - Baltimore County (UMBC)'),)\n",
      "(rdflib.term.Literal('University of Technology Sydney'),)\n",
      "(rdflib.term.Literal('University of Massachusetts Amherst'),)\n",
      "(rdflib.term.Literal('Oregon State University'),)\n",
      "(rdflib.term.Literal('Brown University'),)\n",
      "(rdflib.term.Literal('University of Houston'),)\n",
      "(rdflib.term.Literal('King Saud University'),)\n",
      "(rdflib.term.Literal('University of New Mexico'),)\n",
      "(rdflib.term.Literal('University of Illinois at Chicago'),)\n",
      "(rdflib.term.Literal('University of Bath'),)\n",
      "(rdflib.term.Literal('Sciences Po, Paris'),)\n",
      "(rdflib.term.Literal('University of Hong Kong'),)\n",
      "(rdflib.term.Literal('Carnegie Mellon University'),)\n",
      "(rdflib.term.Literal('Purdue University'),)\n",
      "(rdflib.term.Literal('University of Washington'),)\n",
      "(rdflib.term.Literal('Duke Law School'),)\n",
      "(rdflib.term.Literal('Columbia University - Teachers College'),)\n",
      "(rdflib.term.Literal('Macalester College'),)\n",
      "(rdflib.term.Literal('Bard College'),)\n",
      "(rdflib.term.Literal('New York University'),)\n",
      "(rdflib.term.Literal('Harvard College'),)\n",
      "(rdflib.term.Literal('Fachhochschule St. Pölten'),)\n",
      "(rdflib.term.Literal('Fielding Graduate University'),)\n",
      "(rdflib.term.Literal('Minnesota State University, Mankato'),)\n",
      "(rdflib.term.Literal('University of Ottawa'),)\n",
      "(rdflib.term.Literal('University of Pennsylvania - The Wharton School'),)\n",
      "(rdflib.term.Literal('Dartmouth College'),)\n",
      "(rdflib.term.Literal('Technion, Univeristy of Haifa'),)\n"
     ]
    }
   ],
   "source": [
    "gres = g.query(query2)\n",
    "\n",
    "for stmt in gres:\n",
    "    print(stmt)"
   ]
  },
  {
   "cell_type": "code",
   "execution_count": 6,
   "id": "embedded-programmer",
   "metadata": {},
   "outputs": [
    {
     "name": "stdout",
     "output_type": "stream",
     "text": [
      "(rdflib.term.Literal('Columbia University'),)\n",
      "(rdflib.term.Literal('Columbia University - Teachers College'),)\n",
      "(rdflib.term.Literal('New York University'),)\n"
     ]
    }
   ],
   "source": [
    "# rdflib readthedocs\n",
    "qres_v3 = gv3.query(query2)\n",
    "\n",
    "for row in qres_v3:\n",
    "    print(row)"
   ]
  },
  {
   "cell_type": "code",
   "execution_count": 18,
   "id": "concrete-excitement",
   "metadata": {},
   "outputs": [],
   "source": [
    "cat_query = \"\"\"\n",
    "SELECT ?item ?itemLabel \n",
    "WHERE \n",
    "{\n",
    "  ?item wdt:P31 wd:Q146.\n",
    "  SERVICE wikibase:label { bd:serviceParam wikibase:language \"[AUTO_LANGUAGE],en\". }\n",
    "}\n",
    "\"\"\""
   ]
  },
  {
   "cell_type": "code",
   "execution_count": 22,
   "id": "dramatic-viking",
   "metadata": {},
   "outputs": [
    {
     "ename": "SyntaxError",
     "evalue": "invalid syntax (<ipython-input-22-0c5683fe8eef>, line 2)",
     "output_type": "error",
     "traceback": [
      "\u001b[1;36m  File \u001b[1;32m\"<ipython-input-22-0c5683fe8eef>\"\u001b[1;36m, line \u001b[1;32m2\u001b[0m\n\u001b[1;33m    import sparql-client\u001b[0m\n\u001b[1;37m                 ^\u001b[0m\n\u001b[1;31mSyntaxError\u001b[0m\u001b[1;31m:\u001b[0m invalid syntax\n"
     ]
    }
   ],
   "source": [
    "# https://pypi.org/project/sparql-client/\n",
    "\n",
    "# https://hexdocs.pm/sparql_client/SPARQL.Client.html\n",
    "\n",
    "import sparql-client\n",
    "\n",
    "#s = sparql.Service(endpoint, \"utf-8\", \"GET\")\n"
   ]
  },
  {
   "cell_type": "code",
   "execution_count": 16,
   "id": "casual-baseline",
   "metadata": {},
   "outputs": [],
   "source": [
    "# extract the name\n",
    "\n",
    "query6= \"\"\"\n",
    "SELECT ?item WHERE { \n",
    "  ?uni owl:sameAs ?wikidataEntity .\n",
    "  ?uni ccso:legalName ?uniName\n",
    "\"\"\"\n"
   ]
  },
  {
   "cell_type": "code",
   "execution_count": 17,
   "id": "tender-edmonton",
   "metadata": {
    "scrolled": true
   },
   "outputs": [
    {
     "ename": "ParseException",
     "evalue": "Expected {SelectQuery | ConstructQuery | DescribeQuery | AskQuery}, found end of text  (at char 90), (line:5, col:1)",
     "output_type": "error",
     "traceback": [
      "\u001b[1;31m---------------------------------------------------------------------------\u001b[0m",
      "\u001b[1;31mIndexError\u001b[0m                                Traceback (most recent call last)",
      "\u001b[1;32mc:\\users\\alind\\appdata\\local\\programs\\python\\python39\\lib\\site-packages\\pyparsing.py\u001b[0m in \u001b[0;36m_parseNoCache\u001b[1;34m(self, instring, loc, doActions, callPreParse)\u001b[0m\n\u001b[0;32m   1682\u001b[0m                 \u001b[1;32mtry\u001b[0m\u001b[1;33m:\u001b[0m\u001b[1;33m\u001b[0m\u001b[1;33m\u001b[0m\u001b[0m\n\u001b[1;32m-> 1683\u001b[1;33m                     \u001b[0mloc\u001b[0m\u001b[1;33m,\u001b[0m \u001b[0mtokens\u001b[0m \u001b[1;33m=\u001b[0m \u001b[0mself\u001b[0m\u001b[1;33m.\u001b[0m\u001b[0mparseImpl\u001b[0m\u001b[1;33m(\u001b[0m\u001b[0minstring\u001b[0m\u001b[1;33m,\u001b[0m \u001b[0mpreloc\u001b[0m\u001b[1;33m,\u001b[0m \u001b[0mdoActions\u001b[0m\u001b[1;33m)\u001b[0m\u001b[1;33m\u001b[0m\u001b[1;33m\u001b[0m\u001b[0m\n\u001b[0m\u001b[0;32m   1684\u001b[0m                 \u001b[1;32mexcept\u001b[0m \u001b[0mIndexError\u001b[0m\u001b[1;33m:\u001b[0m\u001b[1;33m\u001b[0m\u001b[1;33m\u001b[0m\u001b[0m\n",
      "\u001b[1;32mc:\\users\\alind\\appdata\\local\\programs\\python\\python39\\lib\\site-packages\\pyparsing.py\u001b[0m in \u001b[0;36mparseImpl\u001b[1;34m(self, instring, loc, doActions)\u001b[0m\n\u001b[0;32m   2896\u001b[0m     \u001b[1;32mdef\u001b[0m \u001b[0mparseImpl\u001b[0m\u001b[1;33m(\u001b[0m\u001b[0mself\u001b[0m\u001b[1;33m,\u001b[0m \u001b[0minstring\u001b[0m\u001b[1;33m,\u001b[0m \u001b[0mloc\u001b[0m\u001b[1;33m,\u001b[0m \u001b[0mdoActions\u001b[0m\u001b[1;33m=\u001b[0m\u001b[1;32mTrue\u001b[0m\u001b[1;33m)\u001b[0m\u001b[1;33m:\u001b[0m\u001b[1;33m\u001b[0m\u001b[1;33m\u001b[0m\u001b[0m\n\u001b[1;32m-> 2897\u001b[1;33m         \u001b[1;32mif\u001b[0m \u001b[0minstring\u001b[0m\u001b[1;33m[\u001b[0m\u001b[0mloc\u001b[0m\u001b[1;33m]\u001b[0m \u001b[1;33m==\u001b[0m \u001b[0mself\u001b[0m\u001b[1;33m.\u001b[0m\u001b[0mfirstMatchChar\u001b[0m\u001b[1;33m:\u001b[0m\u001b[1;33m\u001b[0m\u001b[1;33m\u001b[0m\u001b[0m\n\u001b[0m\u001b[0;32m   2898\u001b[0m             \u001b[1;32mreturn\u001b[0m \u001b[0mloc\u001b[0m \u001b[1;33m+\u001b[0m \u001b[1;36m1\u001b[0m\u001b[1;33m,\u001b[0m \u001b[0mself\u001b[0m\u001b[1;33m.\u001b[0m\u001b[0mmatch\u001b[0m\u001b[1;33m\u001b[0m\u001b[1;33m\u001b[0m\u001b[0m\n",
      "\u001b[1;31mIndexError\u001b[0m: string index out of range",
      "\nDuring handling of the above exception, another exception occurred:\n",
      "\u001b[1;31mParseException\u001b[0m                            Traceback (most recent call last)",
      "\u001b[1;32m<ipython-input-17-b8a222cd4881>\u001b[0m in \u001b[0;36m<module>\u001b[1;34m\u001b[0m\n\u001b[1;32m----> 1\u001b[1;33m \u001b[0mq6res\u001b[0m \u001b[1;33m=\u001b[0m \u001b[0mgv3\u001b[0m\u001b[1;33m.\u001b[0m\u001b[0mquery\u001b[0m\u001b[1;33m(\u001b[0m\u001b[0mquery6\u001b[0m\u001b[1;33m)\u001b[0m\u001b[1;33m\u001b[0m\u001b[1;33m\u001b[0m\u001b[0m\n\u001b[0m\u001b[0;32m      2\u001b[0m \u001b[1;33m\u001b[0m\u001b[0m\n\u001b[0;32m      3\u001b[0m \u001b[1;31m#for row in q6res:\u001b[0m\u001b[1;33m\u001b[0m\u001b[1;33m\u001b[0m\u001b[1;33m\u001b[0m\u001b[0m\n\u001b[0;32m      4\u001b[0m \u001b[1;31m#    print(row)\u001b[0m\u001b[1;33m\u001b[0m\u001b[1;33m\u001b[0m\u001b[1;33m\u001b[0m\u001b[0m\n",
      "\u001b[1;32mc:\\users\\alind\\appdata\\local\\programs\\python\\python39\\lib\\site-packages\\rdflib\\graph.py\u001b[0m in \u001b[0;36mquery\u001b[1;34m(self, query_object, processor, result, initNs, initBindings, use_store_provided, **kwargs)\u001b[0m\n\u001b[0;32m   1129\u001b[0m             \u001b[0mprocessor\u001b[0m \u001b[1;33m=\u001b[0m \u001b[0mplugin\u001b[0m\u001b[1;33m.\u001b[0m\u001b[0mget\u001b[0m\u001b[1;33m(\u001b[0m\u001b[0mprocessor\u001b[0m\u001b[1;33m,\u001b[0m \u001b[0mquery\u001b[0m\u001b[1;33m.\u001b[0m\u001b[0mProcessor\u001b[0m\u001b[1;33m)\u001b[0m\u001b[1;33m(\u001b[0m\u001b[0mself\u001b[0m\u001b[1;33m)\u001b[0m\u001b[1;33m\u001b[0m\u001b[1;33m\u001b[0m\u001b[0m\n\u001b[0;32m   1130\u001b[0m \u001b[1;33m\u001b[0m\u001b[0m\n\u001b[1;32m-> 1131\u001b[1;33m         \u001b[1;32mreturn\u001b[0m \u001b[0mresult\u001b[0m\u001b[1;33m(\u001b[0m\u001b[0mprocessor\u001b[0m\u001b[1;33m.\u001b[0m\u001b[0mquery\u001b[0m\u001b[1;33m(\u001b[0m\u001b[0mquery_object\u001b[0m\u001b[1;33m,\u001b[0m \u001b[0minitBindings\u001b[0m\u001b[1;33m,\u001b[0m \u001b[0minitNs\u001b[0m\u001b[1;33m,\u001b[0m \u001b[1;33m**\u001b[0m\u001b[0mkwargs\u001b[0m\u001b[1;33m)\u001b[0m\u001b[1;33m)\u001b[0m\u001b[1;33m\u001b[0m\u001b[1;33m\u001b[0m\u001b[0m\n\u001b[0m\u001b[0;32m   1132\u001b[0m \u001b[1;33m\u001b[0m\u001b[0m\n\u001b[0;32m   1133\u001b[0m     def update(\n",
      "\u001b[1;32mc:\\users\\alind\\appdata\\local\\programs\\python\\python39\\lib\\site-packages\\rdflib\\plugins\\sparql\\processor.py\u001b[0m in \u001b[0;36mquery\u001b[1;34m(self, strOrQuery, initBindings, initNs, base, DEBUG)\u001b[0m\n\u001b[0;32m     74\u001b[0m \u001b[1;33m\u001b[0m\u001b[0m\n\u001b[0;32m     75\u001b[0m         \u001b[1;32mif\u001b[0m \u001b[1;32mnot\u001b[0m \u001b[0misinstance\u001b[0m\u001b[1;33m(\u001b[0m\u001b[0mstrOrQuery\u001b[0m\u001b[1;33m,\u001b[0m \u001b[0mQuery\u001b[0m\u001b[1;33m)\u001b[0m\u001b[1;33m:\u001b[0m\u001b[1;33m\u001b[0m\u001b[1;33m\u001b[0m\u001b[0m\n\u001b[1;32m---> 76\u001b[1;33m             \u001b[0mparsetree\u001b[0m \u001b[1;33m=\u001b[0m \u001b[0mparseQuery\u001b[0m\u001b[1;33m(\u001b[0m\u001b[0mstrOrQuery\u001b[0m\u001b[1;33m)\u001b[0m\u001b[1;33m\u001b[0m\u001b[1;33m\u001b[0m\u001b[0m\n\u001b[0m\u001b[0;32m     77\u001b[0m             \u001b[0mquery\u001b[0m \u001b[1;33m=\u001b[0m \u001b[0mtranslateQuery\u001b[0m\u001b[1;33m(\u001b[0m\u001b[0mparsetree\u001b[0m\u001b[1;33m,\u001b[0m \u001b[0mbase\u001b[0m\u001b[1;33m,\u001b[0m \u001b[0minitNs\u001b[0m\u001b[1;33m)\u001b[0m\u001b[1;33m\u001b[0m\u001b[1;33m\u001b[0m\u001b[0m\n\u001b[0;32m     78\u001b[0m         \u001b[1;32melse\u001b[0m\u001b[1;33m:\u001b[0m\u001b[1;33m\u001b[0m\u001b[1;33m\u001b[0m\u001b[0m\n",
      "\u001b[1;32mc:\\users\\alind\\appdata\\local\\programs\\python\\python39\\lib\\site-packages\\rdflib\\plugins\\sparql\\parser.py\u001b[0m in \u001b[0;36mparseQuery\u001b[1;34m(q)\u001b[0m\n\u001b[0;32m   1058\u001b[0m \u001b[1;33m\u001b[0m\u001b[0m\n\u001b[0;32m   1059\u001b[0m     \u001b[0mq\u001b[0m \u001b[1;33m=\u001b[0m \u001b[0mexpandUnicodeEscapes\u001b[0m\u001b[1;33m(\u001b[0m\u001b[0mq\u001b[0m\u001b[1;33m)\u001b[0m\u001b[1;33m\u001b[0m\u001b[1;33m\u001b[0m\u001b[0m\n\u001b[1;32m-> 1060\u001b[1;33m     \u001b[1;32mreturn\u001b[0m \u001b[0mQuery\u001b[0m\u001b[1;33m.\u001b[0m\u001b[0mparseString\u001b[0m\u001b[1;33m(\u001b[0m\u001b[0mq\u001b[0m\u001b[1;33m,\u001b[0m \u001b[0mparseAll\u001b[0m\u001b[1;33m=\u001b[0m\u001b[1;32mTrue\u001b[0m\u001b[1;33m)\u001b[0m\u001b[1;33m\u001b[0m\u001b[1;33m\u001b[0m\u001b[0m\n\u001b[0m\u001b[0;32m   1061\u001b[0m \u001b[1;33m\u001b[0m\u001b[0m\n\u001b[0;32m   1062\u001b[0m \u001b[1;33m\u001b[0m\u001b[0m\n",
      "\u001b[1;32mc:\\users\\alind\\appdata\\local\\programs\\python\\python39\\lib\\site-packages\\pyparsing.py\u001b[0m in \u001b[0;36mparseString\u001b[1;34m(self, instring, parseAll)\u001b[0m\n\u001b[0;32m   1953\u001b[0m                 \u001b[1;32mif\u001b[0m \u001b[0mgetattr\u001b[0m\u001b[1;33m(\u001b[0m\u001b[0mexc\u001b[0m\u001b[1;33m,\u001b[0m \u001b[1;34m'__traceback__'\u001b[0m\u001b[1;33m,\u001b[0m \u001b[1;32mNone\u001b[0m\u001b[1;33m)\u001b[0m \u001b[1;32mis\u001b[0m \u001b[1;32mnot\u001b[0m \u001b[1;32mNone\u001b[0m\u001b[1;33m:\u001b[0m\u001b[1;33m\u001b[0m\u001b[1;33m\u001b[0m\u001b[0m\n\u001b[0;32m   1954\u001b[0m                     \u001b[0mexc\u001b[0m\u001b[1;33m.\u001b[0m\u001b[0m__traceback__\u001b[0m \u001b[1;33m=\u001b[0m \u001b[0mself\u001b[0m\u001b[1;33m.\u001b[0m\u001b[0m_trim_traceback\u001b[0m\u001b[1;33m(\u001b[0m\u001b[0mexc\u001b[0m\u001b[1;33m.\u001b[0m\u001b[0m__traceback__\u001b[0m\u001b[1;33m)\u001b[0m\u001b[1;33m\u001b[0m\u001b[1;33m\u001b[0m\u001b[0m\n\u001b[1;32m-> 1955\u001b[1;33m                 \u001b[1;32mraise\u001b[0m \u001b[0mexc\u001b[0m\u001b[1;33m\u001b[0m\u001b[1;33m\u001b[0m\u001b[0m\n\u001b[0m\u001b[0;32m   1956\u001b[0m         \u001b[1;32melse\u001b[0m\u001b[1;33m:\u001b[0m\u001b[1;33m\u001b[0m\u001b[1;33m\u001b[0m\u001b[0m\n\u001b[0;32m   1957\u001b[0m             \u001b[1;32mreturn\u001b[0m \u001b[0mtokens\u001b[0m\u001b[1;33m\u001b[0m\u001b[1;33m\u001b[0m\u001b[0m\n",
      "\u001b[1;32mc:\\users\\alind\\appdata\\local\\programs\\python\\python39\\lib\\site-packages\\pyparsing.py\u001b[0m in \u001b[0;36m_parseNoCache\u001b[1;34m(self, instring, loc, doActions, callPreParse)\u001b[0m\n\u001b[0;32m   1683\u001b[0m                     \u001b[0mloc\u001b[0m\u001b[1;33m,\u001b[0m \u001b[0mtokens\u001b[0m \u001b[1;33m=\u001b[0m \u001b[0mself\u001b[0m\u001b[1;33m.\u001b[0m\u001b[0mparseImpl\u001b[0m\u001b[1;33m(\u001b[0m\u001b[0minstring\u001b[0m\u001b[1;33m,\u001b[0m \u001b[0mpreloc\u001b[0m\u001b[1;33m,\u001b[0m \u001b[0mdoActions\u001b[0m\u001b[1;33m)\u001b[0m\u001b[1;33m\u001b[0m\u001b[1;33m\u001b[0m\u001b[0m\n\u001b[0;32m   1684\u001b[0m                 \u001b[1;32mexcept\u001b[0m \u001b[0mIndexError\u001b[0m\u001b[1;33m:\u001b[0m\u001b[1;33m\u001b[0m\u001b[1;33m\u001b[0m\u001b[0m\n\u001b[1;32m-> 1685\u001b[1;33m                     \u001b[1;32mraise\u001b[0m \u001b[0mParseException\u001b[0m\u001b[1;33m(\u001b[0m\u001b[0minstring\u001b[0m\u001b[1;33m,\u001b[0m \u001b[0mlen\u001b[0m\u001b[1;33m(\u001b[0m\u001b[0minstring\u001b[0m\u001b[1;33m)\u001b[0m\u001b[1;33m,\u001b[0m \u001b[0mself\u001b[0m\u001b[1;33m.\u001b[0m\u001b[0merrmsg\u001b[0m\u001b[1;33m,\u001b[0m \u001b[0mself\u001b[0m\u001b[1;33m)\u001b[0m\u001b[1;33m\u001b[0m\u001b[1;33m\u001b[0m\u001b[0m\n\u001b[0m\u001b[0;32m   1686\u001b[0m             \u001b[1;32melse\u001b[0m\u001b[1;33m:\u001b[0m\u001b[1;33m\u001b[0m\u001b[1;33m\u001b[0m\u001b[0m\n\u001b[0;32m   1687\u001b[0m                 \u001b[0mloc\u001b[0m\u001b[1;33m,\u001b[0m \u001b[0mtokens\u001b[0m \u001b[1;33m=\u001b[0m \u001b[0mself\u001b[0m\u001b[1;33m.\u001b[0m\u001b[0mparseImpl\u001b[0m\u001b[1;33m(\u001b[0m\u001b[0minstring\u001b[0m\u001b[1;33m,\u001b[0m \u001b[0mpreloc\u001b[0m\u001b[1;33m,\u001b[0m \u001b[0mdoActions\u001b[0m\u001b[1;33m)\u001b[0m\u001b[1;33m\u001b[0m\u001b[1;33m\u001b[0m\u001b[0m\n",
      "\u001b[1;31mParseException\u001b[0m: Expected {SelectQuery | ConstructQuery | DescribeQuery | AskQuery}, found end of text  (at char 90), (line:5, col:1)"
     ]
    }
   ],
   "source": [
    "q6res = gv3.query(query6)\n",
    "\n",
    "#for row in q6res:\n",
    "#    print(row)"
   ]
  },
  {
   "cell_type": "code",
   "execution_count": null,
   "id": "outdoor-testimony",
   "metadata": {},
   "outputs": [],
   "source": [
    "# https://www.wikidata.org/wiki/Wikidata:SPARQL_tutorial\n"
   ]
  },
  {
   "cell_type": "code",
   "execution_count": 12,
   "id": "detailed-taiwan",
   "metadata": {},
   "outputs": [],
   "source": [
    "gv3.serialize(destination='qv3_query1b_output.txt', format='turtle')"
   ]
  },
  {
   "cell_type": "code",
   "execution_count": 9,
   "id": "existing-thesis",
   "metadata": {},
   "outputs": [],
   "source": [
    "gv3.serialize(destination='qv3_query2_output.txt', format='turtle')"
   ]
  },
  {
   "cell_type": "markdown",
   "id": "vital-distance",
   "metadata": {},
   "source": [
    "Note:\n",
    "\n",
    "?uni owl:sameAs ?wikidataEntity does not change the query?\n",
    "\n",
    "?uni ccso:legalName ?uniName is able to be run \n"
   ]
  },
  {
   "cell_type": "code",
   "execution_count": 5,
   "id": "pleased-breakdown",
   "metadata": {},
   "outputs": [],
   "source": [
    "query1 = \"\"\"\n",
    "SELECT DISTINCT ?uniName WHERE { \n",
    "  ?uni owl:sameAs ?wikidataEntity\n",
    "}\n",
    "\"\"\"\n",
    "\n",
    "\n",
    "query2 = \"\"\"\n",
    "SELECT DISTINCT ?uniName WHERE { \n",
    "  ?uni owl:sameAs ?wikidataEntity .\n",
    "  ?uni ccso:legalName ?uniName\n",
    "}\n",
    "\"\"\"\n",
    "\n",
    "query2b = \"\"\"\n",
    "SELECT DISTINCT ?uniName WHERE { \n",
    "  ?unin owl:sameAs ?wikidataEntity .\n",
    "  ?unin ccso:legalName ?uniName\n",
    "}\n",
    "\"\"\"\n",
    "\n",
    "query3 = \"\"\"\n",
    "SELECT DISTINCT ?uniName WHERE {\n",
    " ?uni ccso:legalName ?uniName\n",
    "}\n",
    "\"\"\"\n",
    "\n",
    "query4 = \"\"\"\n",
    "SELECT DISTINCT ?uniName WHERE {\n",
    " ?uni ccso:legalName ?uniName .\n",
    " ?uni owl:sameAs ?wikidataEntity\n",
    "}\n",
    "\"\"\"\n",
    "\n",
    "query5 = \"\"\"\n",
    "SELECT DISTINCT ?uniName WHERE {\n",
    " ?deUniversity ccso:legalName ?uniName .\n",
    " ?deUniversity owl:sameAs ?wikidataEntity \n",
    "}\"\"\""
   ]
  },
  {
   "cell_type": "code",
   "execution_count": 19,
   "id": "unexpected-funds",
   "metadata": {},
   "outputs": [
    {
     "data": {
      "text/plain": [
       "<rdflib.plugins.sparql.processor.SPARQLResult at 0x23a8017ebe0>"
      ]
     },
     "execution_count": 19,
     "metadata": {},
     "output_type": "execute_result"
    }
   ],
   "source": [
    "g.query(query1)\n",
    "#for stmt in g:\n",
    "#    print(stmt)"
   ]
  },
  {
   "cell_type": "code",
   "execution_count": 43,
   "id": "fundamental-bronze",
   "metadata": {},
   "outputs": [
    {
     "data": {
      "text/plain": [
       "<rdflib.plugins.sparql.processor.SPARQLResult at 0x23a81f267c0>"
      ]
     },
     "execution_count": 43,
     "metadata": {},
     "output_type": "execute_result"
    }
   ],
   "source": [
    "g.query(query2)"
   ]
  },
  {
   "cell_type": "code",
   "execution_count": 29,
   "id": "asian-variety",
   "metadata": {},
   "outputs": [
    {
     "data": {
      "text/plain": [
       "<rdflib.plugins.sparql.processor.SPARQLResult at 0x23a8068e430>"
      ]
     },
     "execution_count": 29,
     "metadata": {},
     "output_type": "execute_result"
    }
   ],
   "source": [
    "#g.query(query2)\n",
    "g.query(query3)"
   ]
  },
  {
   "cell_type": "code",
   "execution_count": 48,
   "id": "considerable-sequence",
   "metadata": {},
   "outputs": [
    {
     "data": {
      "text/plain": [
       "<rdflib.plugins.sparql.processor.SPARQLResult at 0x23a81fe5730>"
      ]
     },
     "execution_count": 48,
     "metadata": {},
     "output_type": "execute_result"
    }
   ],
   "source": [
    "g.query(query4)"
   ]
  },
  {
   "cell_type": "code",
   "execution_count": 53,
   "id": "novel-roman",
   "metadata": {},
   "outputs": [
    {
     "data": {
      "text/plain": [
       "<rdflib.plugins.sparql.processor.SPARQLResult at 0x23a82356c70>"
      ]
     },
     "execution_count": 53,
     "metadata": {},
     "output_type": "execute_result"
    }
   ],
   "source": [
    "\n",
    "g.query(query5)"
   ]
  },
  {
   "cell_type": "code",
   "execution_count": 12,
   "id": "material-applicant",
   "metadata": {},
   "outputs": [],
   "source": [
    "g.serialize(destination='q1_output.txt', format='turtle')"
   ]
  },
  {
   "cell_type": "code",
   "execution_count": 49,
   "id": "chief-somerset",
   "metadata": {},
   "outputs": [],
   "source": [
    "g.serialize(destination='q4_output.txt', format='turtle')"
   ]
  },
  {
   "cell_type": "code",
   "execution_count": 44,
   "id": "clear-retro",
   "metadata": {},
   "outputs": [],
   "source": [
    "g.serialize(destination='q2_output.txt', format='turtle')"
   ]
  },
  {
   "cell_type": "markdown",
   "id": "statistical-scottish",
   "metadata": {},
   "source": [
    "https://www.w3.org/TR/sparql11-query/"
   ]
  },
  {
   "cell_type": "code",
   "execution_count": 54,
   "id": "superior-cyprus",
   "metadata": {},
   "outputs": [],
   "source": [
    "g.serialize(destination='q5_output.txt', format='turtle')"
   ]
  },
  {
   "cell_type": "code",
   "execution_count": 55,
   "id": "latin-input",
   "metadata": {},
   "outputs": [],
   "source": [
    "g_v2 = rdflib.Graph()"
   ]
  },
  {
   "cell_type": "code",
   "execution_count": 57,
   "id": "active-bronze",
   "metadata": {},
   "outputs": [],
   "source": [
    "filename2= 'courses_v_short.ttl'\n",
    "result2 = g_v2.parse(filename2, format='ttl')"
   ]
  },
  {
   "cell_type": "code",
   "execution_count": 58,
   "id": "usual-picnic",
   "metadata": {},
   "outputs": [
    {
     "data": {
      "text/plain": [
       "<rdflib.plugins.sparql.processor.SPARQLResult at 0x23a8245f160>"
      ]
     },
     "execution_count": 58,
     "metadata": {},
     "output_type": "execute_result"
    }
   ],
   "source": [
    "g_v2.query(query5) # deleted deCourse:273 a ccso:Course"
   ]
  },
  {
   "cell_type": "code",
   "execution_count": 59,
   "id": "political-weather",
   "metadata": {},
   "outputs": [],
   "source": [
    "g_v2.serialize(destination='q5_output_v2.txt', format='turtle')"
   ]
  },
  {
   "cell_type": "code",
   "execution_count": 18,
   "id": "collectible-thompson",
   "metadata": {},
   "outputs": [],
   "source": [
    "# https://stackoverflow.com/questions/37114377/modify-data-with-sparql-update\n",
    "\n",
    "# DELETE, INSERT, WHERE\n"
   ]
  },
  {
   "cell_type": "code",
   "execution_count": 35,
   "id": "understanding-companion",
   "metadata": {},
   "outputs": [],
   "source": [
    "# insert query\n",
    "\n",
    "query_insert = \"\"\"\n",
    "INSERT {\n",
    "    ?id ccso:legalName ?uni\n",
    "} WHERE {\n",
    "  ?uni owl:sameAs ?wikidataEntity .\n",
    "  ?uni ccso:legalName ?uniName\n",
    "}\n",
    "\"\"\" \n"
   ]
  },
  {
   "cell_type": "code",
   "execution_count": 36,
   "id": "thermal-father",
   "metadata": {},
   "outputs": [
    {
     "ename": "ParseException",
     "evalue": "Expected {SelectQuery | ConstructQuery | DescribeQuery | AskQuery}, found 'I'  (at char 1), (line:2, col:1)",
     "output_type": "error",
     "traceback": [
      "\u001b[1;31m---------------------------------------------------------------------------\u001b[0m",
      "\u001b[1;31mParseException\u001b[0m                            Traceback (most recent call last)",
      "\u001b[1;32m<ipython-input-36-faa8dcdf34ac>\u001b[0m in \u001b[0;36m<module>\u001b[1;34m\u001b[0m\n\u001b[1;32m----> 1\u001b[1;33m \u001b[0mqres_insert\u001b[0m \u001b[1;33m=\u001b[0m \u001b[0mgv3\u001b[0m\u001b[1;33m.\u001b[0m\u001b[0mquery\u001b[0m\u001b[1;33m(\u001b[0m\u001b[0mquery_insert\u001b[0m\u001b[1;33m)\u001b[0m\u001b[1;33m\u001b[0m\u001b[1;33m\u001b[0m\u001b[0m\n\u001b[0m\u001b[0;32m      2\u001b[0m \u001b[1;33m\u001b[0m\u001b[0m\n\u001b[0;32m      3\u001b[0m \u001b[1;32mfor\u001b[0m \u001b[0mrow\u001b[0m \u001b[1;32min\u001b[0m \u001b[0mqres_insert\u001b[0m\u001b[1;33m:\u001b[0m\u001b[1;33m\u001b[0m\u001b[1;33m\u001b[0m\u001b[0m\n\u001b[0;32m      4\u001b[0m     \u001b[0mprint\u001b[0m\u001b[1;33m(\u001b[0m\u001b[0mrow\u001b[0m\u001b[1;33m)\u001b[0m\u001b[1;33m\u001b[0m\u001b[1;33m\u001b[0m\u001b[0m\n",
      "\u001b[1;32mc:\\users\\alind\\appdata\\local\\programs\\python\\python39\\lib\\site-packages\\rdflib\\graph.py\u001b[0m in \u001b[0;36mquery\u001b[1;34m(self, query_object, processor, result, initNs, initBindings, use_store_provided, **kwargs)\u001b[0m\n\u001b[0;32m   1129\u001b[0m             \u001b[0mprocessor\u001b[0m \u001b[1;33m=\u001b[0m \u001b[0mplugin\u001b[0m\u001b[1;33m.\u001b[0m\u001b[0mget\u001b[0m\u001b[1;33m(\u001b[0m\u001b[0mprocessor\u001b[0m\u001b[1;33m,\u001b[0m \u001b[0mquery\u001b[0m\u001b[1;33m.\u001b[0m\u001b[0mProcessor\u001b[0m\u001b[1;33m)\u001b[0m\u001b[1;33m(\u001b[0m\u001b[0mself\u001b[0m\u001b[1;33m)\u001b[0m\u001b[1;33m\u001b[0m\u001b[1;33m\u001b[0m\u001b[0m\n\u001b[0;32m   1130\u001b[0m \u001b[1;33m\u001b[0m\u001b[0m\n\u001b[1;32m-> 1131\u001b[1;33m         \u001b[1;32mreturn\u001b[0m \u001b[0mresult\u001b[0m\u001b[1;33m(\u001b[0m\u001b[0mprocessor\u001b[0m\u001b[1;33m.\u001b[0m\u001b[0mquery\u001b[0m\u001b[1;33m(\u001b[0m\u001b[0mquery_object\u001b[0m\u001b[1;33m,\u001b[0m \u001b[0minitBindings\u001b[0m\u001b[1;33m,\u001b[0m \u001b[0minitNs\u001b[0m\u001b[1;33m,\u001b[0m \u001b[1;33m**\u001b[0m\u001b[0mkwargs\u001b[0m\u001b[1;33m)\u001b[0m\u001b[1;33m)\u001b[0m\u001b[1;33m\u001b[0m\u001b[1;33m\u001b[0m\u001b[0m\n\u001b[0m\u001b[0;32m   1132\u001b[0m \u001b[1;33m\u001b[0m\u001b[0m\n\u001b[0;32m   1133\u001b[0m     def update(\n",
      "\u001b[1;32mc:\\users\\alind\\appdata\\local\\programs\\python\\python39\\lib\\site-packages\\rdflib\\plugins\\sparql\\processor.py\u001b[0m in \u001b[0;36mquery\u001b[1;34m(self, strOrQuery, initBindings, initNs, base, DEBUG)\u001b[0m\n\u001b[0;32m     74\u001b[0m \u001b[1;33m\u001b[0m\u001b[0m\n\u001b[0;32m     75\u001b[0m         \u001b[1;32mif\u001b[0m \u001b[1;32mnot\u001b[0m \u001b[0misinstance\u001b[0m\u001b[1;33m(\u001b[0m\u001b[0mstrOrQuery\u001b[0m\u001b[1;33m,\u001b[0m \u001b[0mQuery\u001b[0m\u001b[1;33m)\u001b[0m\u001b[1;33m:\u001b[0m\u001b[1;33m\u001b[0m\u001b[1;33m\u001b[0m\u001b[0m\n\u001b[1;32m---> 76\u001b[1;33m             \u001b[0mparsetree\u001b[0m \u001b[1;33m=\u001b[0m \u001b[0mparseQuery\u001b[0m\u001b[1;33m(\u001b[0m\u001b[0mstrOrQuery\u001b[0m\u001b[1;33m)\u001b[0m\u001b[1;33m\u001b[0m\u001b[1;33m\u001b[0m\u001b[0m\n\u001b[0m\u001b[0;32m     77\u001b[0m             \u001b[0mquery\u001b[0m \u001b[1;33m=\u001b[0m \u001b[0mtranslateQuery\u001b[0m\u001b[1;33m(\u001b[0m\u001b[0mparsetree\u001b[0m\u001b[1;33m,\u001b[0m \u001b[0mbase\u001b[0m\u001b[1;33m,\u001b[0m \u001b[0minitNs\u001b[0m\u001b[1;33m)\u001b[0m\u001b[1;33m\u001b[0m\u001b[1;33m\u001b[0m\u001b[0m\n\u001b[0;32m     78\u001b[0m         \u001b[1;32melse\u001b[0m\u001b[1;33m:\u001b[0m\u001b[1;33m\u001b[0m\u001b[1;33m\u001b[0m\u001b[0m\n",
      "\u001b[1;32mc:\\users\\alind\\appdata\\local\\programs\\python\\python39\\lib\\site-packages\\rdflib\\plugins\\sparql\\parser.py\u001b[0m in \u001b[0;36mparseQuery\u001b[1;34m(q)\u001b[0m\n\u001b[0;32m   1058\u001b[0m \u001b[1;33m\u001b[0m\u001b[0m\n\u001b[0;32m   1059\u001b[0m     \u001b[0mq\u001b[0m \u001b[1;33m=\u001b[0m \u001b[0mexpandUnicodeEscapes\u001b[0m\u001b[1;33m(\u001b[0m\u001b[0mq\u001b[0m\u001b[1;33m)\u001b[0m\u001b[1;33m\u001b[0m\u001b[1;33m\u001b[0m\u001b[0m\n\u001b[1;32m-> 1060\u001b[1;33m     \u001b[1;32mreturn\u001b[0m \u001b[0mQuery\u001b[0m\u001b[1;33m.\u001b[0m\u001b[0mparseString\u001b[0m\u001b[1;33m(\u001b[0m\u001b[0mq\u001b[0m\u001b[1;33m,\u001b[0m \u001b[0mparseAll\u001b[0m\u001b[1;33m=\u001b[0m\u001b[1;32mTrue\u001b[0m\u001b[1;33m)\u001b[0m\u001b[1;33m\u001b[0m\u001b[1;33m\u001b[0m\u001b[0m\n\u001b[0m\u001b[0;32m   1061\u001b[0m \u001b[1;33m\u001b[0m\u001b[0m\n\u001b[0;32m   1062\u001b[0m \u001b[1;33m\u001b[0m\u001b[0m\n",
      "\u001b[1;32mc:\\users\\alind\\appdata\\local\\programs\\python\\python39\\lib\\site-packages\\pyparsing.py\u001b[0m in \u001b[0;36mparseString\u001b[1;34m(self, instring, parseAll)\u001b[0m\n\u001b[0;32m   1953\u001b[0m                 \u001b[1;32mif\u001b[0m \u001b[0mgetattr\u001b[0m\u001b[1;33m(\u001b[0m\u001b[0mexc\u001b[0m\u001b[1;33m,\u001b[0m \u001b[1;34m'__traceback__'\u001b[0m\u001b[1;33m,\u001b[0m \u001b[1;32mNone\u001b[0m\u001b[1;33m)\u001b[0m \u001b[1;32mis\u001b[0m \u001b[1;32mnot\u001b[0m \u001b[1;32mNone\u001b[0m\u001b[1;33m:\u001b[0m\u001b[1;33m\u001b[0m\u001b[1;33m\u001b[0m\u001b[0m\n\u001b[0;32m   1954\u001b[0m                     \u001b[0mexc\u001b[0m\u001b[1;33m.\u001b[0m\u001b[0m__traceback__\u001b[0m \u001b[1;33m=\u001b[0m \u001b[0mself\u001b[0m\u001b[1;33m.\u001b[0m\u001b[0m_trim_traceback\u001b[0m\u001b[1;33m(\u001b[0m\u001b[0mexc\u001b[0m\u001b[1;33m.\u001b[0m\u001b[0m__traceback__\u001b[0m\u001b[1;33m)\u001b[0m\u001b[1;33m\u001b[0m\u001b[1;33m\u001b[0m\u001b[0m\n\u001b[1;32m-> 1955\u001b[1;33m                 \u001b[1;32mraise\u001b[0m \u001b[0mexc\u001b[0m\u001b[1;33m\u001b[0m\u001b[1;33m\u001b[0m\u001b[0m\n\u001b[0m\u001b[0;32m   1956\u001b[0m         \u001b[1;32melse\u001b[0m\u001b[1;33m:\u001b[0m\u001b[1;33m\u001b[0m\u001b[1;33m\u001b[0m\u001b[0m\n\u001b[0;32m   1957\u001b[0m             \u001b[1;32mreturn\u001b[0m \u001b[0mtokens\u001b[0m\u001b[1;33m\u001b[0m\u001b[1;33m\u001b[0m\u001b[0m\n",
      "\u001b[1;32mc:\\users\\alind\\appdata\\local\\programs\\python\\python39\\lib\\site-packages\\pyparsing.py\u001b[0m in \u001b[0;36mparseImpl\u001b[1;34m(self, instring, loc, doActions)\u001b[0m\n\u001b[0;32m   2967\u001b[0m                     \u001b[1;32mreturn\u001b[0m \u001b[0mloc\u001b[0m \u001b[1;33m+\u001b[0m \u001b[0mself\u001b[0m\u001b[1;33m.\u001b[0m\u001b[0mmatchLen\u001b[0m\u001b[1;33m,\u001b[0m \u001b[0mself\u001b[0m\u001b[1;33m.\u001b[0m\u001b[0mmatch\u001b[0m\u001b[1;33m\u001b[0m\u001b[1;33m\u001b[0m\u001b[0m\n\u001b[0;32m   2968\u001b[0m \u001b[1;33m\u001b[0m\u001b[0m\n\u001b[1;32m-> 2969\u001b[1;33m         \u001b[1;32mraise\u001b[0m \u001b[0mParseException\u001b[0m\u001b[1;33m(\u001b[0m\u001b[0minstring\u001b[0m\u001b[1;33m,\u001b[0m \u001b[0mloc\u001b[0m\u001b[1;33m,\u001b[0m \u001b[0mself\u001b[0m\u001b[1;33m.\u001b[0m\u001b[0merrmsg\u001b[0m\u001b[1;33m,\u001b[0m \u001b[0mself\u001b[0m\u001b[1;33m)\u001b[0m\u001b[1;33m\u001b[0m\u001b[1;33m\u001b[0m\u001b[0m\n\u001b[0m\u001b[0;32m   2970\u001b[0m \u001b[1;33m\u001b[0m\u001b[0m\n\u001b[0;32m   2971\u001b[0m     \u001b[1;32mdef\u001b[0m \u001b[0mcopy\u001b[0m\u001b[1;33m(\u001b[0m\u001b[0mself\u001b[0m\u001b[1;33m)\u001b[0m\u001b[1;33m:\u001b[0m\u001b[1;33m\u001b[0m\u001b[1;33m\u001b[0m\u001b[0m\n",
      "\u001b[1;31mParseException\u001b[0m: Expected {SelectQuery | ConstructQuery | DescribeQuery | AskQuery}, found 'I'  (at char 1), (line:2, col:1)"
     ]
    }
   ],
   "source": [
    "qres_insert = gv3.query(query_insert)\n",
    "\n",
    "for row in qres_insert:\n",
    "    print(row)"
   ]
  },
  {
   "cell_type": "code",
   "execution_count": null,
   "id": "sweet-combining",
   "metadata": {},
   "outputs": [],
   "source": []
  }
 ],
 "metadata": {
  "kernelspec": {
   "display_name": "Python 3",
   "language": "python",
   "name": "python3"
  },
  "language_info": {
   "codemirror_mode": {
    "name": "ipython",
    "version": 3
   },
   "file_extension": ".py",
   "mimetype": "text/x-python",
   "name": "python",
   "nbconvert_exporter": "python",
   "pygments_lexer": "ipython3",
   "version": "3.9.1"
  }
 },
 "nbformat": 4,
 "nbformat_minor": 5
}
