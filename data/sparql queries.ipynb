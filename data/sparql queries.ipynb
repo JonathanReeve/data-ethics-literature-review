{
 "cells": [
  {
   "cell_type": "code",
   "execution_count": 13,
   "id": "representative-homeless",
   "metadata": {},
   "outputs": [],
   "source": [
    "import requests"
   ]
  },
  {
   "cell_type": "code",
   "execution_count": 27,
   "id": "neural-parade",
   "metadata": {},
   "outputs": [],
   "source": [
    "import rdflib\n",
    "g = rdflib.Graph()"
   ]
  },
  {
   "cell_type": "code",
   "execution_count": 28,
   "id": "extreme-ultimate",
   "metadata": {},
   "outputs": [],
   "source": [
    "filename= 'courses.ttl'\n",
    "result = g.parse(filename, format='ttl')\n"
   ]
  },
  {
   "cell_type": "code",
   "execution_count": 23,
   "id": "organizational-following",
   "metadata": {},
   "outputs": [],
   "source": [
    "query1 = \"\"\"\n",
    "SELECT DISTINCT ?uniName WHERE { \n",
    "  ?uni owl:sameAs ?wikidataEntity\n",
    "}\n",
    "\"\"\"\n",
    "\n",
    "\n",
    "query2 = \"\"\"\n",
    "SELECT DISTINCT ?uniName WHERE { \n",
    "  ?uni owl:sameAs ?wikidataEntity\n",
    "  ?uni ccso:legalName ?uniName\n",
    "}\n",
    "\"\"\"\n",
    "\n",
    "query3 = \"\"\"\n",
    "SELECT DISTINCT ?uniName WHERE {\n",
    " ?uni ccso:legalName ?uniName\n",
    "}\n",
    "\"\"\""
   ]
  },
  {
   "cell_type": "code",
   "execution_count": 19,
   "id": "charitable-criterion",
   "metadata": {},
   "outputs": [
    {
     "data": {
      "text/plain": [
       "<rdflib.plugins.sparql.processor.SPARQLResult at 0x23a8017ebe0>"
      ]
     },
     "execution_count": 19,
     "metadata": {},
     "output_type": "execute_result"
    }
   ],
   "source": [
    "g.query(query1)\n",
    "#for stmt in g:\n",
    "#    print(stmt)"
   ]
  },
  {
   "cell_type": "code",
   "execution_count": 9,
   "id": "authentic-concern",
   "metadata": {},
   "outputs": [
    {
     "data": {
      "text/plain": [
       "<Graph identifier=N80d3e852c0524ee7bc23253702bfb729 (<class 'rdflib.graph.Graph'>)>"
      ]
     },
     "execution_count": 9,
     "metadata": {},
     "output_type": "execute_result"
    }
   ],
   "source": [
    "g"
   ]
  },
  {
   "cell_type": "code",
   "execution_count": 29,
   "id": "demographic-riding",
   "metadata": {},
   "outputs": [
    {
     "data": {
      "text/plain": [
       "<rdflib.plugins.sparql.processor.SPARQLResult at 0x23a8068e430>"
      ]
     },
     "execution_count": 29,
     "metadata": {},
     "output_type": "execute_result"
    }
   ],
   "source": [
    "#g.query(query2)\n",
    "g.query(query3)"
   ]
  },
  {
   "cell_type": "code",
   "execution_count": 12,
   "id": "latter-lindsay",
   "metadata": {},
   "outputs": [],
   "source": [
    "g.serialize(destination='q1_output.txt', format='turtle')"
   ]
  },
  {
   "cell_type": "code",
   "execution_count": null,
   "id": "fitted-couple",
   "metadata": {},
   "outputs": [],
   "source": []
  }
 ],
 "metadata": {
  "kernelspec": {
   "display_name": "Python 3",
   "language": "python",
   "name": "python3"
  },
  "language_info": {
   "codemirror_mode": {
    "name": "ipython",
    "version": 3
   },
   "file_extension": ".py",
   "mimetype": "text/x-python",
   "name": "python",
   "nbconvert_exporter": "python",
   "pygments_lexer": "ipython3",
   "version": "3.9.1"
  }
 },
 "nbformat": 4,
 "nbformat_minor": 5
}
