{
 "cells": [
  {
   "cell_type": "code",
   "execution_count": 13,
   "id": "alive-divorce",
   "metadata": {},
   "outputs": [],
   "source": [
    "import requests"
   ]
  },
  {
   "cell_type": "code",
   "execution_count": 45,
   "id": "split-wagner",
   "metadata": {},
   "outputs": [],
   "source": [
    "import rdflib\n",
    "g = rdflib.Graph()"
   ]
  },
  {
   "cell_type": "code",
   "execution_count": 46,
   "id": "federal-trustee",
   "metadata": {},
   "outputs": [],
   "source": [
    "filename= 'courses.ttl'\n",
    "result = g.parse(filename, format='ttl')\n"
   ]
  },
  {
   "cell_type": "code",
   "execution_count": 47,
   "id": "latter-apparatus",
   "metadata": {},
   "outputs": [],
   "source": [
    "query1 = \"\"\"\n",
    "SELECT DISTINCT ?uniName WHERE { \n",
    "  ?uni owl:sameAs ?wikidataEntity\n",
    "}\n",
    "\"\"\"\n",
    "\n",
    "\n",
    "query2 = \"\"\"\n",
    "SELECT DISTINCT ?uniName WHERE { \n",
    "  ?uni owl:sameAs ?wikidataEntity .\n",
    "  ?uni ccso:legalName ?uniName\n",
    "}\n",
    "\"\"\"\n",
    "\n",
    "query3 = \"\"\"\n",
    "SELECT DISTINCT ?uniName WHERE {\n",
    " ?uni ccso:legalName ?uniName\n",
    "}\n",
    "\"\"\"\n",
    "\n",
    "query4 = \"\"\"\n",
    "SELECT DISTINCT ?uniName WHERE {\n",
    " ?uni ccso:legalName ?uniName .\n",
    " ?uni owl:sameAs ?wikidataEntity\n",
    "}\n",
    "\"\"\"\n",
    "\n",
    "query5 = \"\"\"\n",
    "SELECT DISTINCT ?uniName WHERE {\n",
    " ?deUniversity ccso:legalName ?uniName .\n",
    " ?deUniversity owl:sameAs ?wikidataEntity \n",
    "}\"\"\""
   ]
  },
  {
   "cell_type": "code",
   "execution_count": 19,
   "id": "chinese-surname",
   "metadata": {},
   "outputs": [
    {
     "data": {
      "text/plain": [
       "<rdflib.plugins.sparql.processor.SPARQLResult at 0x23a8017ebe0>"
      ]
     },
     "execution_count": 19,
     "metadata": {},
     "output_type": "execute_result"
    }
   ],
   "source": [
    "g.query(query1)\n",
    "#for stmt in g:\n",
    "#    print(stmt)"
   ]
  },
  {
   "cell_type": "code",
   "execution_count": 43,
   "id": "worth-sensitivity",
   "metadata": {},
   "outputs": [
    {
     "data": {
      "text/plain": [
       "<rdflib.plugins.sparql.processor.SPARQLResult at 0x23a81f267c0>"
      ]
     },
     "execution_count": 43,
     "metadata": {},
     "output_type": "execute_result"
    }
   ],
   "source": [
    "g.query(query2)"
   ]
  },
  {
   "cell_type": "code",
   "execution_count": 29,
   "id": "young-store",
   "metadata": {},
   "outputs": [
    {
     "data": {
      "text/plain": [
       "<rdflib.plugins.sparql.processor.SPARQLResult at 0x23a8068e430>"
      ]
     },
     "execution_count": 29,
     "metadata": {},
     "output_type": "execute_result"
    }
   ],
   "source": [
    "#g.query(query2)\n",
    "g.query(query3)"
   ]
  },
  {
   "cell_type": "code",
   "execution_count": 48,
   "id": "chief-command",
   "metadata": {},
   "outputs": [
    {
     "data": {
      "text/plain": [
       "<rdflib.plugins.sparql.processor.SPARQLResult at 0x23a81fe5730>"
      ]
     },
     "execution_count": 48,
     "metadata": {},
     "output_type": "execute_result"
    }
   ],
   "source": [
    "g.query(query4)"
   ]
  },
  {
   "cell_type": "code",
   "execution_count": 12,
   "id": "coated-politics",
   "metadata": {},
   "outputs": [],
   "source": [
    "g.serialize(destination='q1_output.txt', format='turtle')"
   ]
  },
  {
   "cell_type": "code",
   "execution_count": 49,
   "id": "behavioral-america",
   "metadata": {},
   "outputs": [],
   "source": [
    "g.serialize(destination='q4_output.txt', format='turtle')"
   ]
  },
  {
   "cell_type": "code",
   "execution_count": 44,
   "id": "amazing-labor",
   "metadata": {},
   "outputs": [],
   "source": [
    "g.serialize(destination='q2_output.txt', format='turtle')"
   ]
  },
  {
   "cell_type": "markdown",
   "id": "colonial-midnight",
   "metadata": {},
   "source": [
    "https://www.w3.org/TR/sparql11-query/"
   ]
  },
  {
   "cell_type": "code",
   "execution_count": null,
   "id": "russian-threshold",
   "metadata": {},
   "outputs": [],
   "source": []
  }
 ],
 "metadata": {
  "kernelspec": {
   "display_name": "Python 3",
   "language": "python",
   "name": "python3"
  },
  "language_info": {
   "codemirror_mode": {
    "name": "ipython",
    "version": 3
   },
   "file_extension": ".py",
   "mimetype": "text/x-python",
   "name": "python",
   "nbconvert_exporter": "python",
   "pygments_lexer": "ipython3",
   "version": "3.9.1"
  }
 },
 "nbformat": 4,
 "nbformat_minor": 5
}
