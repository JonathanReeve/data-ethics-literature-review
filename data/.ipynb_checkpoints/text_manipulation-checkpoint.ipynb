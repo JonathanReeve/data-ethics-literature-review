{
 "cells": [
  {
   "cell_type": "code",
   "execution_count": null,
   "id": "authorized-banks",
   "metadata": {},
   "outputs": [],
   "source": [
    "# tab -> space\n",
    "\n",
    "inputFile = open(“65.texts.txt”, “r”) \n",
    "exportFile = open(“65texts.txt”, “w”)\n",
    "for line in inputFile:\n",
    "   new_line = line.replace('\\t', ' ')\n",
    "   exportFile.write(new_line) \n",
    "\n",
    "inputFile.close()\n",
    "exportFile.close()"
   ]
  }
 ],
 "metadata": {
  "kernelspec": {
   "display_name": "Python 3",
   "language": "python",
   "name": "python3"
  },
  "language_info": {
   "codemirror_mode": {
    "name": "ipython",
    "version": 3
   },
   "file_extension": ".py",
   "mimetype": "text/x-python",
   "name": "python",
   "nbconvert_exporter": "python",
   "pygments_lexer": "ipython3",
   "version": "3.9.1"
  }
 },
 "nbformat": 4,
 "nbformat_minor": 5
}
